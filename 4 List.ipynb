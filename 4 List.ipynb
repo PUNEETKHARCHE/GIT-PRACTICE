{
 "cells": [
  {
   "cell_type": "markdown",
   "metadata": {},
   "source": [
    "### Container is an entity which contains multiple data items. It is also known as a Collections.\n",
    "\n",
    "Python has following container data types:\n",
    "1. Lists\n",
    "2. Tuples\n",
    "3. Sets\n",
    "4. Dictionaries\n"
   ]
  },
  {
   "cell_type": "markdown",
   "metadata": {},
   "source": [
    "# List"
   ]
  },
  {
   "cell_type": "markdown",
   "metadata": {},
   "source": [
    "A List is also called as dynamic array. \n",
    "\n",
    "It is an ordered collections which can be indexed and sliced.\n",
    "\n",
    "Lists are commonly used for handling variable length data.\n",
    "\n",
    "Though lists can contain dissimilar types, usually they are collection of similar types.\n",
    "\n",
    "animals = ['zebra','tiger','lion']\n",
    "marks = [67,89,65,75]\n",
    "num = [10]*5   # stores [10,10,10,10,10]\n",
    "lst = []   # empty list\n",
    "\n",
    "Accessing List elements:\n",
    "\n",
    "Like Strings and array, list items can be accessed using indices. Hance, they are also called as sequence type.\n",
    "The Index start from 0.\n"
   ]
  },
  {
   "cell_type": "code",
   "execution_count": 7,
   "metadata": {},
   "outputs": [
    {
     "name": "stdout",
     "output_type": "stream",
     "text": [
      "[10, 'ganesh', 67.6]\n"
     ]
    }
   ],
   "source": [
    "mylist = [10,'ganesh',67.6]\n",
    "print(mylist)"
   ]
  },
  {
   "cell_type": "code",
   "execution_count": 10,
   "metadata": {},
   "outputs": [
    {
     "name": "stdout",
     "output_type": "stream",
     "text": [
      "45\n"
     ]
    }
   ],
   "source": [
    "marks = [69,78,54,67,45]\n",
    "print(marks[-1])"
   ]
  },
  {
   "cell_type": "code",
   "execution_count": 11,
   "metadata": {},
   "outputs": [
    {
     "name": "stdout",
     "output_type": "stream",
     "text": [
      "[69, 78, 54, 67, 45]\n"
     ]
    }
   ],
   "source": [
    "print(marks)"
   ]
  },
  {
   "cell_type": "code",
   "execution_count": 14,
   "metadata": {},
   "outputs": [
    {
     "name": "stdout",
     "output_type": "stream",
     "text": [
      "g.attarde@gmail.com\n"
     ]
    }
   ],
   "source": [
    "# Entire list can be printed by just using the name of the list.\n",
    "\n",
    "my_data = ['Mr',\"Ganesh Attarde\",\"ME E&TC\", 38,\"g.attarde@gmail.com\",78.90]\n",
    "\n",
    "print(my_data[-2])"
   ]
  },
  {
   "cell_type": "markdown",
   "metadata": {},
   "source": [
    "### BASIC LIST OPERATIONS"
   ]
  },
  {
   "cell_type": "code",
   "execution_count": 16,
   "metadata": {},
   "outputs": [
    {
     "name": "stdout",
     "output_type": "stream",
     "text": [
      "['My', 'Name', 'is', 'Ganesh']\n"
     ]
    }
   ],
   "source": [
    "#Unlike Strings lists are mutable(Changable)\n",
    "\n",
    "#name = 'Ganesh'\n",
    "#name[0] = 'M'\n",
    "\n",
    "\n",
    "lst = ['My','Name','is','John']\n",
    "\n",
    "lst[3] = 'Ganesh'\n",
    "\n",
    "print(lst)\n"
   ]
  },
  {
   "cell_type": "code",
   "execution_count": 17,
   "metadata": {},
   "outputs": [
    {
     "name": "stdout",
     "output_type": "stream",
     "text": [
      "[10, 20, 30, 40, 50, 60, 70, 80]\n"
     ]
    }
   ],
   "source": [
    "num_list = [10,20,30,40]\n",
    "num_list[4:8] = [50,60,70,80]\n",
    "\n",
    "print(num_list)"
   ]
  },
  {
   "cell_type": "code",
   "execution_count": 18,
   "metadata": {},
   "outputs": [
    {
     "name": "stdout",
     "output_type": "stream",
     "text": [
      "[10, 20, 60, 70, 80]\n"
     ]
    }
   ],
   "source": [
    "num_list[2:5] = []\n",
    "print(num_list)"
   ]
  },
  {
   "cell_type": "code",
   "execution_count": 19,
   "metadata": {},
   "outputs": [
    {
     "name": "stdout",
     "output_type": "stream",
     "text": [
      "[1, 2, 3, 4, 5, 6, 7, 8]\n"
     ]
    }
   ],
   "source": [
    "# New List can be create using the existing list\n",
    "list1 = [1,2,3,4]\n",
    "list2 = list1 + [5,6,7,8]\n",
    "print(list2)"
   ]
  },
  {
   "cell_type": "code",
   "execution_count": 20,
   "metadata": {},
   "outputs": [
    {
     "name": "stdout",
     "output_type": "stream",
     "text": [
      "[1, 2, 3, 4, 5, 6, 7, 8]\n"
     ]
    }
   ],
   "source": [
    "# two list can be merge to create a new list\n",
    "list1 = [1,2,3,4]\n",
    "list2 = [5,6,7,8]\n",
    "list3 = list1 + list2\n",
    "print(list3)"
   ]
  },
  {
   "cell_type": "code",
   "execution_count": 22,
   "metadata": {},
   "outputs": [
    {
     "name": "stdout",
     "output_type": "stream",
     "text": [
      "True\n"
     ]
    }
   ],
   "source": [
    "# List element can be search using in operation\n",
    "list1 = [1,2,3,4,5,6,7,8]\n",
    "print(5 in list1)"
   ]
  },
  {
   "cell_type": "code",
   "execution_count": 24,
   "metadata": {},
   "outputs": [
    {
     "name": "stdout",
     "output_type": "stream",
     "text": [
      "True\n"
     ]
    }
   ],
   "source": [
    "print(10 not in list1)"
   ]
  },
  {
   "cell_type": "code",
   "execution_count": 28,
   "metadata": {},
   "outputs": [
    {
     "name": "stdout",
     "output_type": "stream",
     "text": [
      "[90, 87, 45, 23, 5, 4]\n",
      "[45, 87, 23, 5, 90, 4]\n"
     ]
    }
   ],
   "source": [
    "# List Sorting\n",
    "my_list = [45,87,23,5,90,4]\n",
    "sorted_list = sorted(my_list,reverse=True) # default ascending\n",
    "print(sorted_list)\n",
    "print(my_list)  # Existing list is unchanged"
   ]
  },
  {
   "cell_type": "code",
   "execution_count": 31,
   "metadata": {},
   "outputs": [
    {
     "name": "stdout",
     "output_type": "stream",
     "text": [
      "['ganesh', 'mahesh', 'mai', 'nilesh']\n"
     ]
    }
   ],
   "source": [
    "names = ['nilesh','ganesh','mahesh','mai']\n",
    "print(sorted(names))"
   ]
  },
  {
   "cell_type": "code",
   "execution_count": 32,
   "metadata": {},
   "outputs": [
    {
     "name": "stdout",
     "output_type": "stream",
     "text": [
      "[45, 87, 5, 90, 4]\n"
     ]
    }
   ],
   "source": [
    "# deletion\n",
    "my_list = [45,87,23,5,90,4]\n",
    "del(my_list[2]) # Deletes data having index 2\n",
    "print(my_list)"
   ]
  },
  {
   "cell_type": "code",
   "execution_count": 33,
   "metadata": {},
   "outputs": [
    {
     "name": "stdout",
     "output_type": "stream",
     "text": [
      "[45, 87, 90, 4]\n"
     ]
    }
   ],
   "source": [
    "my_list = [45,87,23,5,90,4]\n",
    "del(my_list[2:4]) # deletes data having index 2 to 3\n",
    "print(my_list)"
   ]
  },
  {
   "cell_type": "code",
   "execution_count": 34,
   "metadata": {},
   "outputs": [
    {
     "name": "stdout",
     "output_type": "stream",
     "text": [
      "[]\n"
     ]
    }
   ],
   "source": [
    "my_list = [45,87,23,5,90,4]\n",
    "del(my_list[:]) # data items are deleted\n",
    "print(my_list)"
   ]
  },
  {
   "cell_type": "code",
   "execution_count": 35,
   "metadata": {},
   "outputs": [],
   "source": [
    "my_list = [45,87,23,5,90,4]\n",
    "del(my_list) # Memory is deleted\n"
   ]
  },
  {
   "cell_type": "code",
   "execution_count": 36,
   "metadata": {},
   "outputs": [
    {
     "ename": "NameError",
     "evalue": "name 'my_list' is not defined",
     "output_type": "error",
     "traceback": [
      "\u001b[0;31m---------------------------------------------------------------------------\u001b[0m",
      "\u001b[0;31mNameError\u001b[0m                                 Traceback (most recent call last)",
      "\u001b[0;32m<ipython-input-36-77fb34908292>\u001b[0m in \u001b[0;36m<module>\u001b[0;34m\u001b[0m\n\u001b[0;32m----> 1\u001b[0;31m \u001b[0mprint\u001b[0m\u001b[0;34m(\u001b[0m\u001b[0mmy_list\u001b[0m\u001b[0;34m)\u001b[0m\u001b[0;34m\u001b[0m\u001b[0;34m\u001b[0m\u001b[0m\n\u001b[0m",
      "\u001b[0;31mNameError\u001b[0m: name 'my_list' is not defined"
     ]
    }
   ],
   "source": [
    "print(my_list)"
   ]
  },
  {
   "cell_type": "code",
   "execution_count": 37,
   "metadata": {},
   "outputs": [
    {
     "name": "stdout",
     "output_type": "stream",
     "text": [
      "['S', 'p', 'i', 'd', 'e', 'r', 'm', 'a', 'n']\n"
     ]
    }
   ],
   "source": [
    "# Conversion into list\n",
    "name = 'Spiderman'\n",
    "name_list = list(name)\n",
    "print(name_list)"
   ]
  },
  {
   "cell_type": "code",
   "execution_count": 38,
   "metadata": {},
   "outputs": [
    {
     "name": "stdout",
     "output_type": "stream",
     "text": [
      "9\n"
     ]
    }
   ],
   "source": [
    "# Get the Length of List\n",
    "print(len(name_list))"
   ]
  },
  {
   "cell_type": "code",
   "execution_count": 47,
   "metadata": {},
   "outputs": [
    {
     "name": "stdout",
     "output_type": "stream",
     "text": [
      "345\n"
     ]
    }
   ],
   "source": [
    "# Get the Maximum element in the list\n",
    "my_list = [56,7,34,5,7,345,34]\n",
    "print(max(my_list))"
   ]
  },
  {
   "cell_type": "code",
   "execution_count": 48,
   "metadata": {},
   "outputs": [
    {
     "name": "stdout",
     "output_type": "stream",
     "text": [
      "5\n"
     ]
    }
   ],
   "source": [
    "# Get the minimum element in the list\n",
    "print(min(my_list))"
   ]
  },
  {
   "cell_type": "code",
   "execution_count": 49,
   "metadata": {},
   "outputs": [
    {
     "name": "stdout",
     "output_type": "stream",
     "text": [
      "488\n"
     ]
    }
   ],
   "source": [
    "# Get the sum of all elements in the list\n",
    "my_list = [56,7,34,5,7,345,34]\n",
    "s = sum(my_list)\n",
    "print(s)"
   ]
  },
  {
   "cell_type": "code",
   "execution_count": 51,
   "metadata": {},
   "outputs": [
    {
     "name": "stdout",
     "output_type": "stream",
     "text": [
      "List contains some items, so we can proceed\n"
     ]
    }
   ],
   "source": [
    "# we can check if a list is empty using not operators\n",
    "lst = [78]\n",
    "if not lst:\n",
    "    print('Empty List, we cant proceed')\n",
    "else:\n",
    "    print(\"List contains some items, so we can proceed\")"
   ]
  },
  {
   "cell_type": "code",
   "execution_count": null,
   "metadata": {},
   "outputs": [],
   "source": [
    "# SHALLOW COPY - on assigning one list to another, both refer to the same list. Changing one changes the other."
   ]
  },
  {
   "cell_type": "code",
   "execution_count": 52,
   "metadata": {},
   "outputs": [
    {
     "name": "stdout",
     "output_type": "stream",
     "text": [
      "[10, 20, 30, 40, 50]\n",
      "[10, 20, 30, 40, 50]\n"
     ]
    }
   ],
   "source": [
    "list1 = [10,20,30,40,50]\n",
    "list2 = list1  # it doensn't copy the list. list2 refers to the same list as list1\n",
    "print(list1)\n",
    "print(list2)"
   ]
  },
  {
   "cell_type": "code",
   "execution_count": 53,
   "metadata": {},
   "outputs": [
    {
     "name": "stdout",
     "output_type": "stream",
     "text": [
      "140202493779648\n",
      "140202493779648\n"
     ]
    }
   ],
   "source": [
    "# to prove this, we can print the id of both list\n",
    "print(id(list1))\n",
    "print(id(list2))\n",
    "# BOTH ARE SAME!!"
   ]
  },
  {
   "cell_type": "code",
   "execution_count": 54,
   "metadata": {},
   "outputs": [
    {
     "name": "stdout",
     "output_type": "stream",
     "text": [
      "[100, 20, 30, 40, 50]\n",
      "[100, 20, 30, 40, 50]\n"
     ]
    }
   ],
   "source": [
    "# Let us modify the one of the element of list1\n",
    "list1[0] = 100\n",
    "# and lets print the both list\n",
    "print(list1)\n",
    "print(list2)"
   ]
  },
  {
   "cell_type": "code",
   "execution_count": null,
   "metadata": {},
   "outputs": [],
   "source": [
    "# It means that, list1 and list2 both are refering to same memory or list."
   ]
  },
  {
   "cell_type": "code",
   "execution_count": 107,
   "metadata": {},
   "outputs": [
    {
     "name": "stdout",
     "output_type": "stream",
     "text": [
      "[10, 20, 30, 30, 30, 50]\n",
      "[10, 20, 30, 30, 30, 50]\n"
     ]
    }
   ],
   "source": [
    "# DEEP COPY: Copies contents of one list into another. Both refer to different lists. Though both contains same values.\n",
    "# changing one, doesn't change other\n",
    "\n",
    "list1 = [10,20,30,30,30,50]\n",
    "list2 = []\n",
    "list2 = list1 + list2\n",
    "# Let print the Both Lists\n",
    "print(list1)\n",
    "print(list2)"
   ]
  },
  {
   "cell_type": "code",
   "execution_count": 56,
   "metadata": {},
   "outputs": [
    {
     "name": "stdout",
     "output_type": "stream",
     "text": [
      "140202493465664\n",
      "140202493589056\n"
     ]
    }
   ],
   "source": [
    "# also check the id or address of both lists\n",
    "print(id(list1))\n",
    "print(id(list2))\n",
    "# BOTH ARE DIFFERENT!!, It means that, list1 and list2 both are stored sepeately in memory"
   ]
  },
  {
   "cell_type": "code",
   "execution_count": 57,
   "metadata": {},
   "outputs": [
    {
     "name": "stdout",
     "output_type": "stream",
     "text": [
      "[100, 20, 30, 40, 50]\n",
      "[10, 20, 30, 40, 50]\n"
     ]
    }
   ],
   "source": [
    "# Let us modify the one of the element of list1\n",
    "list1[0] = 100\n",
    "# and lets print the both list\n",
    "print(list1)\n",
    "print(list2)"
   ]
  },
  {
   "cell_type": "code",
   "execution_count": null,
   "metadata": {},
   "outputs": [],
   "source": [
    "# As both lists have stored in different memory locations, change in one list doesnot reflect in another list "
   ]
  },
  {
   "cell_type": "code",
   "execution_count": 58,
   "metadata": {},
   "outputs": [
    {
     "name": "stdout",
     "output_type": "stream",
     "text": [
      "[10, 20, 30, 40, 50]\n",
      "[10, 20, 30, 40, 50]\n",
      "[]\n",
      "[]\n"
     ]
    }
   ],
   "source": [
    "# Deletion of List\n",
    "list1 = [10,20,30,40,50]\n",
    "list2 = list3 = list1  # all refers to same list\n",
    "list1 = []   # list1 now refers to empty list\n",
    "print(list2) \n",
    "print(list3)\n",
    "list2[:] = []   # list is emptied by deleting all items\n",
    "print(list2)    # list2 and list3 are refering to same list, so both are empty list\n",
    "print(list3)"
   ]
  },
  {
   "cell_type": "code",
   "execution_count": 59,
   "metadata": {},
   "outputs": [
    {
     "name": "stdout",
     "output_type": "stream",
     "text": [
      "140202494654208\n",
      "140202494654208\n",
      "140202494654208\n",
      "140202494656128\n",
      "True\n",
      "True\n",
      "False\n",
      "True\n"
     ]
    }
   ],
   "source": [
    "# we can find out whether two list variables are referring to the same list\n",
    "list1 = [10,20,30,40,50]\n",
    "list2=list3=list1     # all refers to same list\n",
    "list4 = ['A','B','C']\n",
    "print(id(list1))\n",
    "print(id(list2))\n",
    "print(id(list3))\n",
    "print(id(list4))\n",
    "print(list1 is list2)   # print True\n",
    "print(list1 is list3)   # print True\n",
    "print(list4 is list1)   # print False\n",
    "print(list1 is not list4)  # print True"
   ]
  },
  {
   "cell_type": "code",
   "execution_count": 62,
   "metadata": {},
   "outputs": [
    {
     "name": "stdout",
     "output_type": "stream",
     "text": [
      "b is less than a\n"
     ]
    }
   ],
   "source": [
    "# it is possible to compare lists\n",
    "# comparison is done item by item till there is a mismatch\n",
    "a = [1,2,5,7]\n",
    "b = [1,2,5,4]\n",
    "if a<b:\n",
    "    print('a is less than b')\n",
    "elif a==b:\n",
    "    print('a is equal to b')\n",
    "else:\n",
    "    print('b is less than a')"
   ]
  },
  {
   "cell_type": "markdown",
   "metadata": {},
   "source": [
    "### List Methods"
   ]
  },
  {
   "cell_type": "code",
   "execution_count": 63,
   "metadata": {},
   "outputs": [
    {
     "name": "stdout",
     "output_type": "stream",
     "text": [
      "[34, 54, 23, 76, 45, 4, 22]\n"
     ]
    }
   ],
   "source": [
    "# List methods are accessed using the syntax list.function()\n",
    "\n",
    "list1 = [34,54,23,76,45,4]\n",
    "list1.append(22)  # add new item at the end\n",
    "print(list1)"
   ]
  },
  {
   "cell_type": "code",
   "execution_count": 64,
   "metadata": {},
   "outputs": [
    {
     "name": "stdout",
     "output_type": "stream",
     "text": [
      "[2, 4, 6, 8, 10, 12, 14, 16, 18, 20]\n"
     ]
    }
   ],
   "source": [
    "list1 = []\n",
    "\n",
    "for i in range(2,21,2):\n",
    "    list1.append(i)\n",
    "\n",
    "print(list1)"
   ]
  },
  {
   "cell_type": "code",
   "execution_count": 65,
   "metadata": {},
   "outputs": [
    {
     "name": "stdout",
     "output_type": "stream",
     "text": [
      "[2, 4, 6, 8, 10, 12, 14, 16, 18, 20]\n"
     ]
    }
   ],
   "source": [
    "mylist = []\n",
    "\n",
    "for i in range(1,11):\n",
    "    mylist.append(2*i)\n",
    "    \n",
    "print(mylist)"
   ]
  },
  {
   "cell_type": "code",
   "execution_count": 68,
   "metadata": {},
   "outputs": [
    {
     "name": "stdout",
     "output_type": "stream",
     "text": [
      "100 is not present in list\n",
      "[34, 54, 23, 76, 45, 4]\n"
     ]
    }
   ],
   "source": [
    "list1= [34,54,23,76,45,4]\n",
    "\n",
    "item= 100\n",
    "\n",
    "if item in list1:\n",
    "    list1.remove(item)   # delete item 23 from list\n",
    "else:\n",
    "    print(item ,\"is not present in list\")\n",
    "print(list1)"
   ]
  },
  {
   "cell_type": "code",
   "execution_count": 69,
   "metadata": {},
   "outputs": [
    {
     "name": "stdout",
     "output_type": "stream",
     "text": [
      "4\n",
      "[34, 54, 23, 76, 45]\n"
     ]
    }
   ],
   "source": [
    "list1 = [34,54,23,76,45,4]\n",
    "print(list1.pop())    # removes last element from list\n",
    "print(list1)"
   ]
  },
  {
   "cell_type": "code",
   "execution_count": 74,
   "metadata": {},
   "outputs": [
    {
     "ename": "IndexError",
     "evalue": "pop index out of range",
     "output_type": "error",
     "traceback": [
      "\u001b[0;31m---------------------------------------------------------------------------\u001b[0m",
      "\u001b[0;31mIndexError\u001b[0m                                Traceback (most recent call last)",
      "\u001b[0;32m<ipython-input-74-ca6ccf85ddba>\u001b[0m in \u001b[0;36m<module>\u001b[0;34m\u001b[0m\n\u001b[1;32m      1\u001b[0m \u001b[0mlist1\u001b[0m \u001b[0;34m=\u001b[0m \u001b[0;34m[\u001b[0m\u001b[0;36m34\u001b[0m\u001b[0;34m,\u001b[0m\u001b[0;36m54\u001b[0m\u001b[0;34m,\u001b[0m\u001b[0;36m23\u001b[0m\u001b[0;34m,\u001b[0m\u001b[0;36m76\u001b[0m\u001b[0;34m,\u001b[0m\u001b[0;36m45\u001b[0m\u001b[0;34m,\u001b[0m\u001b[0;36m4\u001b[0m\u001b[0;34m]\u001b[0m\u001b[0;34m\u001b[0m\u001b[0;34m\u001b[0m\u001b[0m\n\u001b[0;32m----> 2\u001b[0;31m \u001b[0mprint\u001b[0m\u001b[0;34m(\u001b[0m\u001b[0mlist1\u001b[0m\u001b[0;34m.\u001b[0m\u001b[0mpop\u001b[0m\u001b[0;34m(\u001b[0m\u001b[0;36m100\u001b[0m\u001b[0;34m)\u001b[0m\u001b[0;34m)\u001b[0m    \u001b[0;31m# removes 2nd element ie 76 from list\u001b[0m\u001b[0;34m\u001b[0m\u001b[0;34m\u001b[0m\u001b[0m\n\u001b[0m\u001b[1;32m      3\u001b[0m \u001b[0mprint\u001b[0m\u001b[0;34m(\u001b[0m\u001b[0mlist1\u001b[0m\u001b[0;34m)\u001b[0m\u001b[0;34m\u001b[0m\u001b[0;34m\u001b[0m\u001b[0m\n",
      "\u001b[0;31mIndexError\u001b[0m: pop index out of range"
     ]
    }
   ],
   "source": [
    "list1 = [34,54,23,76,45,4]\n",
    "print(list1.pop(100))    # removes 2nd element ie 76 from list\n",
    "print(list1)"
   ]
  },
  {
   "cell_type": "code",
   "execution_count": 73,
   "metadata": {},
   "outputs": [],
   "source": [
    "index = 100\n",
    "if index<=len(list1):\n",
    "    print(list1.pop(index))   # if 100th element not present in the list, then it reports indexError"
   ]
  },
  {
   "cell_type": "code",
   "execution_count": 75,
   "metadata": {},
   "outputs": [
    {
     "name": "stdout",
     "output_type": "stream",
     "text": [
      "[34, 54, 23, 50, 76, 45, 4]\n"
     ]
    }
   ],
   "source": [
    "list1 = [34,54,23,76,45,4]\n",
    "list1.insert(3,50)     # insert 50 at 3rd position\n",
    "print(list1)"
   ]
  },
  {
   "cell_type": "code",
   "execution_count": 76,
   "metadata": {},
   "outputs": [
    {
     "name": "stdout",
     "output_type": "stream",
     "text": [
      "[4, 45, 76, 50, 23, 54, 34]\n"
     ]
    }
   ],
   "source": [
    "list1.reverse()    # reverse the items in the list\n",
    "print(list1)"
   ]
  },
  {
   "cell_type": "code",
   "execution_count": 77,
   "metadata": {},
   "outputs": [
    {
     "name": "stdout",
     "output_type": "stream",
     "text": [
      "Before sorting:  [34, 54, 23, 76, 45, 4]\n",
      "After Sorting [4, 23, 34, 45, 54, 76]\n"
     ]
    }
   ],
   "source": [
    "list1 = [34,54,23,76,45,4]\n",
    "print(\"Before sorting: \",list1)\n",
    "list1.sort()    # sort items in the list in ascending order\n",
    "print(\"After Sorting\",list1)"
   ]
  },
  {
   "cell_type": "code",
   "execution_count": 78,
   "metadata": {},
   "outputs": [
    {
     "name": "stdout",
     "output_type": "stream",
     "text": [
      "Before sorting:  [34, 54, 23, 76, 45, 4]\n",
      "After Sorting [76, 54, 45, 34, 23, 4]\n"
     ]
    }
   ],
   "source": [
    "list1 = [34,54,23,76,45,4]\n",
    "print(\"Before sorting: \",list1)\n",
    "list1.sort(reverse=True)    # sort items in the list in decending order\n",
    "print(\"After Sorting\",list1)"
   ]
  },
  {
   "cell_type": "code",
   "execution_count": 79,
   "metadata": {},
   "outputs": [
    {
     "name": "stdout",
     "output_type": "stream",
     "text": [
      "3\n"
     ]
    }
   ],
   "source": [
    "list1 = [2,45,65,45,43,45,78]\n",
    "print(list1.count(45))     # return number of times 45 appears in list1"
   ]
  },
  {
   "cell_type": "code",
   "execution_count": 89,
   "metadata": {},
   "outputs": [
    {
     "name": "stdout",
     "output_type": "stream",
     "text": [
      "98 is at index 3\n"
     ]
    }
   ],
   "source": [
    "list1 = [45,65,23,98,4,23]\n",
    "idx = list1.index(98)    # returns index of item 65\n",
    "print(\"98 is at index\",idx)"
   ]
  },
  {
   "cell_type": "code",
   "execution_count": 86,
   "metadata": {},
   "outputs": [],
   "source": [
    "key = 100\n",
    "if key in list1:\n",
    "    idx = list1.index(key)   # reports valueError as 100 is absent in list1\n",
    "    print(key, \" is at index\",idx)"
   ]
  },
  {
   "cell_type": "code",
   "execution_count": 90,
   "metadata": {},
   "outputs": [
    {
     "name": "stdout",
     "output_type": "stream",
     "text": [
      "[10, 20, [1, 2, 3, 4], 40]\n",
      "4\n"
     ]
    }
   ],
   "source": [
    "# Extra Notes regarding List\n",
    "# A list may be embedded in another list\n",
    "x = [1,2,3,4]\n",
    "y = [10,20,x,40]\n",
    "print(y)\n",
    "print(len(y))"
   ]
  },
  {
   "cell_type": "code",
   "execution_count": 92,
   "metadata": {},
   "outputs": [
    {
     "name": "stdout",
     "output_type": "stream",
     "text": [
      "3\n"
     ]
    }
   ],
   "source": [
    "# To access element 3, we can use\n",
    "print(y[2][2])"
   ]
  },
  {
   "cell_type": "code",
   "execution_count": 96,
   "metadata": {},
   "outputs": [
    {
     "name": "stdout",
     "output_type": "stream",
     "text": [
      "['H', 'e', 'l', 'l', 'o']\n",
      "5\n"
     ]
    }
   ],
   "source": [
    "# It is possible to unpack a string or list within a list using the * operator\n",
    "s = 'Hello'\n",
    "list1 = [*s]\n",
    "print(list1)\n",
    "print(len(list1))"
   ]
  },
  {
   "cell_type": "code",
   "execution_count": 98,
   "metadata": {},
   "outputs": [
    {
     "name": "stdout",
     "output_type": "stream",
     "text": [
      "[10, 20, 1, 2, 3, 4, 30]\n",
      "7\n"
     ]
    }
   ],
   "source": [
    "x = [1,2,3,4]\n",
    "y = [10,20,*x,30]\n",
    "print(y)\n",
    "print(len(y))"
   ]
  },
  {
   "cell_type": "code",
   "execution_count": 99,
   "metadata": {},
   "outputs": [
    {
     "name": "stdout",
     "output_type": "stream",
     "text": [
      "3\n"
     ]
    }
   ],
   "source": [
    "print(y[4])"
   ]
  },
  {
   "cell_type": "code",
   "execution_count": 106,
   "metadata": {},
   "outputs": [
    {
     "name": "stdout",
     "output_type": "stream",
     "text": [
      "[45, 34, 12, 65, 23]\n",
      "['Odd', 'Even', 'Even', 'Odd', 'Odd']\n"
     ]
    }
   ],
   "source": [
    "list1 = [45,34,12,65,23]\n",
    "list2 = []\n",
    "for var in list1:\n",
    "    list2.append('Even' if var%2==0 else 'Odd')\n",
    "\n",
    "print(list1)\n",
    "print(list2)"
   ]
  },
  {
   "cell_type": "code",
   "execution_count": 104,
   "metadata": {},
   "outputs": [
    {
     "name": "stdout",
     "output_type": "stream",
     "text": [
      "1 2 3 4 5 6 6 7 8 45 456 546 546 45 "
     ]
    }
   ],
   "source": [
    "list1 = [1,2,3,4,5,6,6,7,8,45,456,546,546,45]\n",
    "\n",
    "for var in list1:\n",
    "    print(var,end= \" \")"
   ]
  },
  {
   "cell_type": "code",
   "execution_count": null,
   "metadata": {},
   "outputs": [],
   "source": []
  }
 ],
 "metadata": {
  "kernelspec": {
   "display_name": "Python 3",
   "language": "python",
   "name": "python3"
  },
  "language_info": {
   "codemirror_mode": {
    "name": "ipython",
    "version": 3
   },
   "file_extension": ".py",
   "mimetype": "text/x-python",
   "name": "python",
   "nbconvert_exporter": "python",
   "pygments_lexer": "ipython3",
   "version": "3.8.8"
  }
 },
 "nbformat": 4,
 "nbformat_minor": 4
}
