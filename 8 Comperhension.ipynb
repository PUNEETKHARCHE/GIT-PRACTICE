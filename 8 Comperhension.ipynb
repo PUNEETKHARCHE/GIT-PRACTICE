{
 "cells": [
  {
   "cell_type": "markdown",
   "metadata": {},
   "source": [
    "# Comprehensions in Python"
   ]
  },
  {
   "cell_type": "code",
   "execution_count": 1,
   "metadata": {},
   "outputs": [
    {
     "name": "stdout",
     "output_type": "stream",
     "text": [
      "1\n",
      "2\n",
      "3\n",
      "4\n",
      "5\n",
      "6\n",
      "7\n",
      "8\n",
      "9\n",
      "10\n"
     ]
    }
   ],
   "source": [
    "# Advanced tool to create the list/set/dict\n",
    "\n",
    "for n in range(1,11):\n",
    "    print(n)"
   ]
  },
  {
   "cell_type": "code",
   "execution_count": 2,
   "metadata": {},
   "outputs": [
    {
     "name": "stdout",
     "output_type": "stream",
     "text": [
      "[1, 2, 3, 4, 5, 6, 7, 8, 9, 10]\n"
     ]
    }
   ],
   "source": [
    "# List comprehension\n",
    "# lst = [expression for var in sequence[optional for or if]]\n",
    "\n",
    "# Generate a list which contains 1 to 10\n",
    "\n",
    "list1 = [1,2,3,4,5,6,7,8,9,10]\n",
    "\n",
    "lst = [n for n in range(1,11)]\n",
    "\n",
    "print(lst)"
   ]
  },
  {
   "cell_type": "code",
   "execution_count": 4,
   "metadata": {},
   "outputs": [
    {
     "name": "stdout",
     "output_type": "stream",
     "text": [
      "[1, 8, 27, 64, 125, 216, 343, 512, 729, 1000]\n"
     ]
    }
   ],
   "source": [
    "# Generate a list which contains square of 1 to 10\n",
    "\n",
    "lst1 = [n**3 for n in range(1,11)]\n",
    "\n",
    "print(lst1)"
   ]
  },
  {
   "cell_type": "code",
   "execution_count": 6,
   "metadata": {},
   "outputs": [
    {
     "name": "stdout",
     "output_type": "stream",
     "text": [
      "[5, 10, 15, 20, 25, 30, 35, 40, 45, 50]\n"
     ]
    }
   ],
   "source": [
    "# Generate a list which contains table of 5\n",
    "\n",
    "table5 = [5*n for n in range(1,11)]\n",
    "\n",
    "print(table5)"
   ]
  },
  {
   "cell_type": "code",
   "execution_count": 10,
   "metadata": {},
   "outputs": [
    {
     "name": "stdout",
     "output_type": "stream",
     "text": [
      "[1156, 9604, 1936, 576]\n"
     ]
    }
   ],
   "source": [
    "lst = [34,65,23,21,37,98,9,44,24]\n",
    "\n",
    "even_list = [var for var in lst if var%2==0]\n",
    "\n",
    "print(even_list)"
   ]
  },
  {
   "cell_type": "code",
   "execution_count": 9,
   "metadata": {},
   "outputs": [
    {
     "name": "stdout",
     "output_type": "stream",
     "text": [
      "[65, 23, 21, 37, 9]\n"
     ]
    }
   ],
   "source": [
    "odd_list = [var for var in lst if var%2==1]\n",
    "\n",
    "print(odd_list)"
   ]
  },
  {
   "cell_type": "code",
   "execution_count": 11,
   "metadata": {},
   "outputs": [
    {
     "name": "stdout",
     "output_type": "stream",
     "text": [
      "[77, 26, 24, 55, 91, 33, 75, 67, 56, 11, 41, 12, 100, 47, 59, 50, 57, 28, 100, 87]\n"
     ]
    }
   ],
   "source": [
    "# Generate 20 random numbers in the range of 10 to 100\n",
    "import random\n",
    "random.seed()\n",
    "r_list = [random.randint(10,100) for n in range(20)]\n",
    "\n",
    "print(r_list)"
   ]
  },
  {
   "cell_type": "code",
   "execution_count": 20,
   "metadata": {},
   "outputs": [
    {
     "name": "stdout",
     "output_type": "stream",
     "text": [
      "[39, 41, 17, 75, 73, 89, 35, 49, 73, 55]\n"
     ]
    }
   ],
   "source": [
    "import random\n",
    "\n",
    "r_list = [random.randint(10,100) for n in range(20)]\n",
    "#print(r_list)\n",
    "\n",
    "even_list = [n for n in r_list if n%2==1]\n",
    "\n",
    "print(even_list)"
   ]
  },
  {
   "cell_type": "code",
   "execution_count": 25,
   "metadata": {},
   "outputs": [
    {
     "name": "stdout",
     "output_type": "stream",
     "text": [
      "[[1, 1, 1], [2, 4, 8], [3, 9, 27], [4, 16, 64], [5, 25, 125], [6, 36, 216], [7, 49, 343], [8, 64, 512], [9, 81, 729], [10, 100, 1000]]\n"
     ]
    }
   ],
   "source": [
    "# Generate a square and cube of all numbers between 0 and 10\n",
    "\n",
    "list1 = [[n,n**2,n**3] for n in range(1,11)]\n",
    "\n",
    "print(list1)"
   ]
  },
  {
   "cell_type": "code",
   "execution_count": 29,
   "metadata": {},
   "outputs": [
    {
     "name": "stdout",
     "output_type": "stream",
     "text": [
      "[1.0, 2.0, 3.0, 5.0, 10.0]\n"
     ]
    }
   ],
   "source": [
    "# convert a list of string into list of int\n",
    "\n",
    "lst = ['1','2','3','5','10']\n",
    "\n",
    "\n",
    "lst = [int(n) for n in lst]\n",
    "\n",
    "print(lst)"
   ]
  },
  {
   "cell_type": "code",
   "execution_count": 31,
   "metadata": {},
   "outputs": [
    {
     "name": "stdout",
     "output_type": "stream",
     "text": [
      "Enter the numbers1 2 3 4 5 6 7 7\n",
      "<class 'int'>\n",
      "[1, 2, 3, 4, 5, 6, 7, 7]\n"
     ]
    }
   ],
   "source": [
    "#lst1 = input('Enter the numbers').split()\n",
    "#'1 2 3 4 5 6'.split()\n",
    "#['1','2','3','4','5','6']\n",
    "\n",
    "lst1 = [int(n) for n in input('Enter the numbers').split()]\n",
    "\n",
    "print(type(lst1[0]))\n",
    "print(lst1)"
   ]
  },
  {
   "cell_type": "code",
   "execution_count": 36,
   "metadata": {},
   "outputs": [
    {
     "name": "stdout",
     "output_type": "stream",
     "text": [
      "Enter the 5 Students Name:: ganesh nilesh\n",
      "['GANESH', 'NILESH']\n",
      "<class 'list'>\n"
     ]
    }
   ],
   "source": [
    "# Take input from the user as names of 5 students and\n",
    "# store it in List\n",
    "\n",
    "#names = input('Enter the Names').split()\n",
    "names = [name.upper() for name in input('Enter the 5 Students Name:: ').split()]\n",
    "\n",
    "print(names)\n",
    "print(type(names))"
   ]
  },
  {
   "cell_type": "markdown",
   "metadata": {},
   "source": [
    "### arr = [[1,2,3,4],[5,6,7,8],[9,10,11,12]]\n",
    "\n",
    "#lst = [1,2,3,4,5,6,7,...12]\n",
    "\n",
    "#list1 = [*arr[0],*arr[1],*arr[2]]\n",
    "\n",
    "list1 = [n for ele in arr for n in ele]\n",
    "print(list1)"
   ]
  },
  {
   "cell_type": "code",
   "execution_count": 40,
   "metadata": {},
   "outputs": [
    {
     "name": "stdout",
     "output_type": "stream",
     "text": [
      "[(1, 1, 1), (1, 1, 2), (1, 1, 3), (1, 2, 1), (1, 2, 2), (1, 2, 3), (1, 3, 1), (1, 3, 2), (1, 3, 3), (2, 1, 1), (2, 1, 2), (2, 1, 3), (2, 2, 1), (2, 2, 2), (2, 2, 3), (2, 3, 1), (2, 3, 2), (2, 3, 3), (3, 1, 1), (3, 1, 2), (3, 1, 3), (3, 2, 1), (3, 2, 2), (3, 2, 3), (3, 3, 1), (3, 3, 2), (3, 3, 3)]\n"
     ]
    }
   ],
   "source": [
    "my_lst = [(x,y,z) for x in [1,2,3] for y in [1,2,3] for z in [1,2,3]]\n",
    "print(my_lst)"
   ]
  },
  {
   "cell_type": "code",
   "execution_count": 41,
   "metadata": {},
   "outputs": [
    {
     "name": "stdout",
     "output_type": "stream",
     "text": [
      "[(1, 2, 3), (1, 3, 2), (2, 1, 3), (2, 3, 1), (3, 1, 2), (3, 2, 1)]\n"
     ]
    }
   ],
   "source": [
    "# print all combinations of 1,2,3\n",
    "\n",
    "my_list = [(x,y,z) for x in [1,2,3] for y in [1,2,3] for z in [1,2,3] if x!=y and y!=z and x!=z]\n",
    "\n",
    "print(my_list)"
   ]
  },
  {
   "cell_type": "code",
   "execution_count": 42,
   "metadata": {},
   "outputs": [
    {
     "name": "stdout",
     "output_type": "stream",
     "text": [
      "{64, 1, 4, 36, 100, 9, 16, 49, 81, 25}\n"
     ]
    }
   ],
   "source": [
    "# set comprehension\n",
    "\n",
    "s = {x**2 for x in range(1,11)}\n",
    "print(s)"
   ]
  },
  {
   "cell_type": "code",
   "execution_count": 43,
   "metadata": {},
   "outputs": [
    {
     "name": "stdout",
     "output_type": "stream",
     "text": [
      "{'a': 1, 'b': 4, 'c': 9, 'd': 16, 'e': 25}\n"
     ]
    }
   ],
   "source": [
    "# Dict comprehension\n",
    "\n",
    "# d = {key:val for (key,val) in dict.items()}\n",
    "\n",
    "d1 = {'a':1,'b':2,'c':3,'d':4,'e':5}\n",
    "\n",
    "d = {key:val**2 for (key,val) in d1.items()}\n",
    "\n",
    "print(d)"
   ]
  },
  {
   "cell_type": "code",
   "execution_count": 44,
   "metadata": {},
   "outputs": [
    {
     "name": "stdout",
     "output_type": "stream",
     "text": [
      "{'d': 64, 'e': 125}\n"
     ]
    }
   ],
   "source": [
    "# obtain a dict with each value cube if value>3\n",
    "\n",
    "d1 = {'a':1,'b':2,'c':3,'d':4,'e':5}\n",
    "\n",
    "d = {k:v**3 for (k,v) in d1.items() if v>3}\n",
    "\n",
    "print(d)"
   ]
  },
  {
   "cell_type": "code",
   "execution_count": 45,
   "metadata": {},
   "outputs": [
    {
     "name": "stdout",
     "output_type": "stream",
     "text": [
      "{'a': 1, 'b': 0, 'c': 1, 'd': 0, 'e': 1, 'f': 0}\n"
     ]
    }
   ],
   "source": [
    "d1 = {'a':1,'b':2,'c':3,'d':4,'e':5,'f':6}\n",
    "\n",
    "# identify odd and even numbers in the dict\n",
    "\n",
    "d = {k:(0 if v%2==0 else 1) for (k,v) in d1.items()}\n",
    "\n",
    "print(d)"
   ]
  },
  {
   "cell_type": "code",
   "execution_count": 46,
   "metadata": {},
   "outputs": [
    {
     "name": "stdout",
     "output_type": "stream",
     "text": [
      "{'a': 1, 'b': 1, 'c': 0, 'd': 1, 'e': 0, 'f': 1}\n"
     ]
    }
   ],
   "source": [
    "d1 = {'a':'Yes','b':'Yes','c':'No','d':'Yes','e':'No','f':'Yes'}\n",
    "\n",
    "# replace Yes by 1 and No by 0\n",
    "\n",
    "\n",
    "d = {k:(1 if v=='Yes' else 0) for (k,v) in d1.items()}\n",
    "\n",
    "print(d)"
   ]
  },
  {
   "cell_type": "code",
   "execution_count": 47,
   "metadata": {},
   "outputs": [
    {
     "name": "stdout",
     "output_type": "stream",
     "text": [
      "['GANESH', 'MAHESH', 'SURESH', 'KIRAN', 'PENAN', 'GANESH']\n"
     ]
    }
   ],
   "source": [
    "# convert all these string in list to uppercase\n",
    "\n",
    "name = ['Ganesh','mahesh','suresh','Kiran','Penan','ganesh']\n",
    "\n",
    "#name = list({n.upper() for n in name})\n",
    "\n",
    "name1 = [n.upper() for n in name]\n",
    "\n",
    "print(name1)"
   ]
  },
  {
   "cell_type": "code",
   "execution_count": 48,
   "metadata": {},
   "outputs": [
    {
     "name": "stdout",
     "output_type": "stream",
     "text": [
      "[37.8, 39.4, 36.9, 38.3, 36.1]\n"
     ]
    }
   ],
   "source": [
    "# list of temp are given in fahrenheit, obtain the new list of temp containing \n",
    "# reading in celcius\n",
    "\n",
    "temp = [100,102.90,98.50,101,97]\n",
    "\n",
    "cel = [round((x-32)*5/9,1) for x in temp]\n",
    "\n",
    "print(cel)"
   ]
  },
  {
   "cell_type": "code",
   "execution_count": 50,
   "metadata": {},
   "outputs": [
    {
     "name": "stdout",
     "output_type": "stream",
     "text": [
      "[2, 3, 4, 5]\n"
     ]
    }
   ],
   "source": [
    "# delete all numbers which is greater than 20\n",
    "\n",
    "list1 = [2,56,78,54,3,4,5,44,23,34,56]\n",
    "\n",
    "list1 = [n for n in list1 if n<=20]\n",
    "\n",
    "print(list1)"
   ]
  },
  {
   "cell_type": "code",
   "execution_count": 51,
   "metadata": {},
   "outputs": [
    {
     "name": "stdout",
     "output_type": "stream",
     "text": [
      "[1960, 1900, 2004, 2020, 2008, 1968]\n"
     ]
    }
   ],
   "source": [
    "years = [1934,1960,1900,2004,2020,2008,1968]\n",
    "\n",
    "leap_year = [y for y in years if y%4==0]\n",
    "print(leap_year)"
   ]
  },
  {
   "cell_type": "code",
   "execution_count": 55,
   "metadata": {},
   "outputs": [
    {
     "name": "stdout",
     "output_type": "stream",
     "text": [
      "['Ganesh', 'Mahesh', 'Akash', 'Tushar']\n"
     ]
    }
   ],
   "source": [
    "names = ['Ganesh','Mahesh','Akash','Shiva','Tushar','sachin','chaitali' ]\n",
    "\n",
    "filter_sh = [n for n in names if 'sh' in n]\n",
    "\n",
    "print(filter_sh)"
   ]
  },
  {
   "cell_type": "code",
   "execution_count": null,
   "metadata": {},
   "outputs": [],
   "source": [
    "keys = ['One','Two','Three','Four']\n",
    "\n",
    "d1 = {'One':1,'Two':2}\n",
    "\n",
    "#d1 = {k:v for (k) in keys}"
   ]
  }
 ],
 "metadata": {
  "kernelspec": {
   "display_name": "Python 3",
   "language": "python",
   "name": "python3"
  },
  "language_info": {
   "codemirror_mode": {
    "name": "ipython",
    "version": 3
   },
   "file_extension": ".py",
   "mimetype": "text/x-python",
   "name": "python",
   "nbconvert_exporter": "python",
   "pygments_lexer": "ipython3",
   "version": "3.8.8"
  }
 },
 "nbformat": 4,
 "nbformat_minor": 4
}
