{
 "cells": [
  {
   "cell_type": "markdown",
   "metadata": {},
   "source": [
    "# Functional Programming"
   ]
  },
  {
   "cell_type": "markdown",
   "metadata": {},
   "source": [
    "In Functional Programming, a problem is treated as evaluation of one or more functions.\n",
    "\n",
    "Hence, a given problem is decomposed into a set of functions. These functions provide the main source of logic in the program."
   ]
  },
  {
   "cell_type": "markdown",
   "metadata": {},
   "source": [
    "In Python, we can assigned functions to a variables and then it can be called using these variables."
   ]
  },
  {
   "cell_type": "code",
   "execution_count": null,
   "metadata": {},
   "outputs": [],
   "source": [
    "\n",
    "def display(num):\n",
    "    print('Arg = ',num)\n",
    "\n",
    "show = display\n",
    "\n",
    "show(10)\n",
    "display(10)\n",
    "\n",
    "printf = print\n",
    "\n",
    "printf(\"My Name is Ganesh\")"
   ]
  },
  {
   "cell_type": "markdown",
   "metadata": {},
   "source": [
    "In python, functions can be passed as arguments to function and function can be returned from functions."
   ]
  },
  {
   "cell_type": "code",
   "execution_count": 8,
   "metadata": {},
   "outputs": [
    {
     "name": "stdout",
     "output_type": "stream",
     "text": [
      "Output is : 30\n"
     ]
    }
   ],
   "source": [
    "def add(x,y,fun):\n",
    "    res = x+y\n",
    "    fun(res)\n",
    "    \n",
    "def display(num):\n",
    "    print('Result is :',num)\n",
    "\n",
    "def show(num):\n",
    "    print(\"Output is :\",num)\n",
    "    \n",
    "add(10,20,show)"
   ]
  },
  {
   "cell_type": "code",
   "execution_count": 12,
   "metadata": {},
   "outputs": [
    {
     "name": "stdout",
     "output_type": "stream",
     "text": [
      "Result is 0.5\n"
     ]
    }
   ],
   "source": [
    "def add(x,y):\n",
    "    return x+y\n",
    "def sub(x,y):\n",
    "    return x-y\n",
    "def mul(x,y):\n",
    "    return x*y\n",
    "def div(x,y):\n",
    "    return x/y\n",
    "\n",
    "def calculator(x,y,fun):\n",
    "    res = fun(x,y)\n",
    "    return res\n",
    "\n",
    "result = calculator(10,20,div)\n",
    "print('Result is',result)"
   ]
  },
  {
   "cell_type": "code",
   "execution_count": 13,
   "metadata": {},
   "outputs": [
    {
     "name": "stdout",
     "output_type": "stream",
     "text": [
      "Total Marks =  296\n",
      "Percentage Marks =  59.199999999999996\n"
     ]
    }
   ],
   "source": [
    "def total_marks(m1,m2,m3,m4,m5):\n",
    "    total = m1+m2+m3+m4+m5\n",
    "    print(\"Total Marks = \",total)\n",
    "    return total\n",
    "\n",
    "def percentage(m1,m2,m3,m4,m5,fun):\n",
    "    total = fun(m1,m2,m3,m4,m5)\n",
    "    per = total/500*100\n",
    "    print(\"Percentage Marks = \",per)\n",
    "\n",
    "m1,m2,m3,m4,m5 = 34,65,76,45,76\n",
    "\n",
    "percentage(m1,m2,m3,m4,m5,total_marks)"
   ]
  },
  {
   "cell_type": "markdown",
   "metadata": {},
   "source": [
    "# Lambda Function"
   ]
  },
  {
   "cell_type": "markdown",
   "metadata": {},
   "source": [
    "Normal Functions have name. They are defined using the def keywords.\n",
    "\n",
    "Lambda functions do not have names. They are defined using the lambda keyword and are built at execution time.\n",
    "\n",
    "Lambda functions are commonly used for short functions that are convenient to define at the point where they are called.\n",
    "\n",
    "Lambda functions are also called anonymous functions or inline functions.\n",
    "\n",
    "Lambda functions can take any number of arguments but can return any one value.\n",
    "\n",
    "Syntax:\n",
    "\n",
    "lambda arguments: expression\n",
    "\n",
    "here, : seperates the parameters to be passed to the lambda function and the function body.\n",
    "The result after running the function body is returned implicitly."
   ]
  },
  {
   "cell_type": "code",
   "execution_count": 15,
   "metadata": {},
   "outputs": [
    {
     "data": {
      "text/plain": [
       "20"
      ]
     },
     "execution_count": 15,
     "metadata": {},
     "output_type": "execute_result"
    }
   ],
   "source": [
    "(lambda n:n*2)(10)"
   ]
  },
  {
   "cell_type": "code",
   "execution_count": 16,
   "metadata": {},
   "outputs": [
    {
     "name": "stdout",
     "output_type": "stream",
     "text": [
      "9\n"
     ]
    }
   ],
   "source": [
    "\n",
    "square = lambda n:n*n\n",
    "\n",
    "print(square(3))"
   ]
  },
  {
   "cell_type": "code",
   "execution_count": 17,
   "metadata": {},
   "outputs": [
    {
     "name": "stdout",
     "output_type": "stream",
     "text": [
      "16\n"
     ]
    }
   ],
   "source": [
    "# we can use directly lambda to call the function as\n",
    "\n",
    "print((lambda n:n*n)(4))"
   ]
  },
  {
   "cell_type": "code",
   "execution_count": 18,
   "metadata": {},
   "outputs": [
    {
     "name": "stdout",
     "output_type": "stream",
     "text": [
      "12\n"
     ]
    }
   ],
   "source": [
    "# More examples\n",
    "\n",
    "# Write a lambda function, that will take three arguments and returns the sum of it\n",
    "\n",
    "addition = lambda a,b,c:a+b+c\n",
    "\n",
    "print(addition(3,4,5))"
   ]
  },
  {
   "cell_type": "code",
   "execution_count": 19,
   "metadata": {},
   "outputs": [
    {
     "name": "stdout",
     "output_type": "stream",
     "text": [
      "GBSOFTRONICS\n"
     ]
    }
   ],
   "source": [
    "# Write a lambda function, that will receive a string, \n",
    "# strips any whitespace and return the uppercase version of string\n",
    "\n",
    "convert = lambda str1:str1.strip().upper()\n",
    "print(convert(\"    gbsoftronics       \"))\n",
    "\n",
    "#print((lambda string:string.strip().upper())('  Nashik  '))\n"
   ]
  },
  {
   "cell_type": "code",
   "execution_count": 20,
   "metadata": {},
   "outputs": [
    {
     "name": "stdout",
     "output_type": "stream",
     "text": [
      "Average =  3.5\n"
     ]
    }
   ],
   "source": [
    "# We can pass any container types to lambda function. \n",
    "\n",
    "# Write a lambda function that calculates average of numbers in a list.\n",
    "\n",
    "list1 = [1,2,3,4,5,6]\n",
    "\n",
    "my_avg = lambda l:sum(l)/len(l)\n",
    "\n",
    "print('Average = ',my_avg(list1))"
   ]
  },
  {
   "cell_type": "code",
   "execution_count": 21,
   "metadata": {},
   "outputs": [
    {
     "name": "stdout",
     "output_type": "stream",
     "text": [
      "3.5\n"
     ]
    }
   ],
   "source": [
    "# we can use lambda function directly in print function\n",
    "\n",
    "list1 = [1,2,3,4,5,6]\n",
    "\n",
    "print((lambda l:sum(l)/len(l))(list1))"
   ]
  },
  {
   "cell_type": "markdown",
   "metadata": {},
   "source": [
    "## Higher order functions"
   ]
  },
  {
   "cell_type": "markdown",
   "metadata": {},
   "source": [
    "A higher order function is a function, that can receive other functions as arguments or return them.\n",
    "\n",
    "we can pass a lambda function to sorted() function to sort a dictionary by values.\n"
   ]
  },
  {
   "cell_type": "code",
   "execution_count": 31,
   "metadata": {},
   "outputs": [
    {
     "name": "stdout",
     "output_type": "stream",
     "text": [
      "[('Sugar', 40), ('Sunflower Oil', 110), ('Coconut Oil', 230), ('Almonds', 800)]\n"
     ]
    }
   ],
   "source": [
    "grocery = {'Sunflower Oil':110,'Sugar':40,'Coconut Oil':230,'Almonds':800}\n",
    "\n",
    "updated = sorted(grocery.items(),key=lambda kv:kv[1])\n",
    "\n",
    "print(updated)"
   ]
  },
  {
   "cell_type": "code",
   "execution_count": null,
   "metadata": {},
   "outputs": [],
   "source": [
    "# Sorted function uses a parameter key. It specifies a function of one arguments \n",
    "# that is used to extract a comparison for each element in the first argument of sorted().\n",
    "# The default value of key is None, indicating that the elements in first argument are to be compared directly."
   ]
  },
  {
   "cell_type": "markdown",
   "metadata": {},
   "source": [
    "## map, filter, reduce function"
   ]
  },
  {
   "cell_type": "code",
   "execution_count": null,
   "metadata": {},
   "outputs": [],
   "source": [
    "# A map operation applies a function to each element in the sequence like list, tuple, etc \n",
    "# and returns a new sequence containing the result."
   ]
  },
  {
   "cell_type": "code",
   "execution_count": 36,
   "metadata": {},
   "outputs": [
    {
     "name": "stdout",
     "output_type": "stream",
     "text": [
      "[1, 4, 9, 16, 25, 36, 49, 64, 81, 100]\n"
     ]
    }
   ],
   "source": [
    "# Use of map function\n",
    "# Usage:   map(function_to_apply , list_of_inputs)\n",
    "# map() returns a map object which can be converted to a list/tuple/set using list/tuple/set function.\n",
    "\n",
    "def square(n):\n",
    "    return n*n\n",
    "\n",
    "list1 = [1,2,3,4,5,6,7,8,9,10]\n",
    "\n",
    "#new_list =[]\n",
    "#for var in list1:\n",
    "#    new_list.append(square(var))\n",
    "\n",
    "#print(new_list)\n",
    "\n",
    "result = map(square,list1)\n",
    "\n",
    "print(list(result))"
   ]
  },
  {
   "cell_type": "code",
   "execution_count": 35,
   "metadata": {},
   "outputs": [
    {
     "name": "stdout",
     "output_type": "stream",
     "text": [
      "[1, 2, 6, 24, 120, 720, 5040, 40320, 362880, 3628800]\n"
     ]
    }
   ],
   "source": [
    "# instead of using user defined function, we can use built-in function also\n",
    "import math\n",
    "\n",
    "list1 = [1,2,3,4,5,6,7,8,9,10]\n",
    "\n",
    "fact_result = map(math.factorial,list1)\n",
    "\n",
    "print(list(fact_result))"
   ]
  },
  {
   "cell_type": "code",
   "execution_count": 37,
   "metadata": {},
   "outputs": [
    {
     "name": "stdout",
     "output_type": "stream",
     "text": [
      "(8, 27, 64, 125, 216, 343, 512)\n"
     ]
    }
   ],
   "source": [
    "\n",
    "def cube(x):\n",
    "    return x**3\n",
    "\n",
    "tup = (2,3,4,5,6,7,8)\n",
    "\n",
    "res = map(cube,tup)\n",
    "\n",
    "print(tuple(res))\n"
   ]
  },
  {
   "cell_type": "code",
   "execution_count": null,
   "metadata": {},
   "outputs": [],
   "source": [
    "# The advantage of using map function is we do not need a for loop or if statement to control the flow."
   ]
  },
  {
   "cell_type": "code",
   "execution_count": null,
   "metadata": {},
   "outputs": [],
   "source": [
    "# A Filter operation applies a function to all the elements of a sequence. \n",
    "# and the sequence of those elements for which the function returns true is returned"
   ]
  },
  {
   "cell_type": "code",
   "execution_count": null,
   "metadata": {},
   "outputs": [],
   "source": [
    "# Use of filter function\n",
    "# Usage::    filter(function_to_apply,list_of_inputs)"
   ]
  },
  {
   "cell_type": "code",
   "execution_count": 38,
   "metadata": {},
   "outputs": [
    {
     "name": "stdout",
     "output_type": "stream",
     "text": [
      "Even List =  [2, 4, 6, 8, 10]\n",
      "Odd List =  [3, 5, 7, 9]\n"
     ]
    }
   ],
   "source": [
    "def even(n):\n",
    "    if n%2==0:\n",
    "        return True\n",
    "    else:\n",
    "        return False\n",
    "\n",
    "def odd(n):\n",
    "    if n%2==1:\n",
    "        return True\n",
    "    else:\n",
    "        return False\n",
    "\n",
    "lst = [2,3,4,5,6,7,8,9,10]\n",
    "\n",
    "even_lst = filter(even,lst)\n",
    "\n",
    "odd_lst = filter(odd,lst)\n",
    "\n",
    "print(\"Even List = \", list(even_lst))\n",
    "\n",
    "print(\"Odd List = \", list(odd_lst))"
   ]
  },
  {
   "cell_type": "code",
   "execution_count": 53,
   "metadata": {},
   "outputs": [
    {
     "name": "stdout",
     "output_type": "stream",
     "text": [
      "[33, 324, 3, 45]\n"
     ]
    }
   ],
   "source": [
    "def div3(x):\n",
    "    if(x%3==0):\n",
    "        return True\n",
    "    else:\n",
    "        return False\n",
    "    \n",
    "\n",
    "\n",
    "in_list = [33,65,324,23,4,76,5,3,32,43,45]\n",
    "\n",
    "out_list = filter(div3,in_list)\n",
    "\n",
    "print(list(out_list))\n"
   ]
  },
  {
   "cell_type": "code",
   "execution_count": 39,
   "metadata": {},
   "outputs": [
    {
     "name": "stdout",
     "output_type": "stream",
     "text": [
      "[1976, 1900, 2000, 1984]\n"
     ]
    }
   ],
   "source": [
    "def check_leap(y):\n",
    "    if(y%4==0):\n",
    "        return True\n",
    "    else:\n",
    "        return False\n",
    "\n",
    "year_list = [1976,1900,2000,1999,1984,1967]\n",
    "\n",
    "leap_list = filter(check_leap,year_list)\n",
    "\n",
    "print(list(leap_list))"
   ]
  },
  {
   "cell_type": "code",
   "execution_count": 40,
   "metadata": {},
   "outputs": [
    {
     "name": "stdout",
     "output_type": "stream",
     "text": [
      "[56, 68, 345, 54]\n"
     ]
    }
   ],
   "source": [
    "def fun1(n):\n",
    "    if n>50:\n",
    "        return True\n",
    "    else:\n",
    "        return False\n",
    "\n",
    "list1 = [45,34,56,68,23,6,345,34,23,32,3,54]\n",
    "\n",
    "print(list(filter(fun1,list1)))\n",
    "\n",
    "#print(list(filter((lambda n:True if n>50 else False),list1)))\n"
   ]
  },
  {
   "cell_type": "code",
   "execution_count": 41,
   "metadata": {},
   "outputs": [
    {
     "name": "stdout",
     "output_type": "stream",
     "text": [
      "['a', 'b', 'M']\n"
     ]
    }
   ],
   "source": [
    "lst1 = ['2','a','4','3','b','M']\n",
    "\n",
    "print(list(filter(str.isalpha,lst1)))\n"
   ]
  },
  {
   "cell_type": "code",
   "execution_count": 42,
   "metadata": {},
   "outputs": [
    {
     "name": "stdout",
     "output_type": "stream",
     "text": [
      "['2', '4', '3']\n"
     ]
    }
   ],
   "source": [
    "print(list(filter(str.isdigit,lst1)))"
   ]
  },
  {
   "cell_type": "code",
   "execution_count": null,
   "metadata": {},
   "outputs": [],
   "source": [
    "# Reduce Function\n",
    "\n",
    "# A reduce operation performs a rolling computation to \n",
    "# sequential pairs of values in a sequence \n",
    "# and returns the result.\n",
    "\n",
    "# Usage of reduce function:\n",
    "\n",
    "#  from functools import reduce\n",
    "#  reduce(function_to_apply, list_of_inputs)\n"
   ]
  },
  {
   "cell_type": "code",
   "execution_count": 45,
   "metadata": {},
   "outputs": [
    {
     "name": "stdout",
     "output_type": "stream",
     "text": [
      "Sum =  120\n"
     ]
    }
   ],
   "source": [
    "from functools import reduce\n",
    "\n",
    "def getsum(x,y):\n",
    "    return x*y\n",
    "\n",
    "lst = [1,2,3,4,5]\n",
    "\n",
    "s = reduce(getsum,lst)\n",
    "\n",
    "print(\"Sum = \", s)"
   ]
  },
  {
   "cell_type": "code",
   "execution_count": 46,
   "metadata": {},
   "outputs": [
    {
     "name": "stdout",
     "output_type": "stream",
     "text": [
      "I Love India My Name is Ganesh\n"
     ]
    }
   ],
   "source": [
    "def combine_str(x,y):\n",
    "    return x +' ' + y\n",
    "\n",
    "list1 = ['I','Love','India', 'My','Name','is','Ganesh']\n",
    "\n",
    "\n",
    "res_str = reduce(combine_str,list1)\n",
    "\n",
    "print(res_str)"
   ]
  },
  {
   "cell_type": "code",
   "execution_count": 55,
   "metadata": {},
   "outputs": [
    {
     "name": "stdout",
     "output_type": "stream",
     "text": [
      "The sum of the list elements is : 17\n",
      "The maximum element of the list is : 1\n"
     ]
    }
   ],
   "source": [
    "import functools\n",
    " \n",
    "# initializing list\n",
    "lis = [1, 3, 5, 6, 2 ]\n",
    "\n",
    "# using reduce to compute sum of list\n",
    "print(\"The sum of the list elements is : \", end=\"\")\n",
    "print(functools.reduce(lambda a, b: a+b, lis))\n",
    " \n",
    "# using reduce to compute maximum element from list\n",
    "print(\"The maximum element of the list is : \", end=\"\")\n",
    "print(functools.reduce(lambda a, b: a if a < b else b, lis))"
   ]
  },
  {
   "cell_type": "code",
   "execution_count": 47,
   "metadata": {},
   "outputs": [
    {
     "name": "stdout",
     "output_type": "stream",
     "text": [
      "[4, 16, 36, 64, 100]\n"
     ]
    }
   ],
   "source": [
    "# We can also use lambda function with map,filter,reduce.\n",
    "\n",
    "# using lambda with map()\n",
    "lst1 = [2,4,6,8,10]\n",
    "lst2 = map(lambda n:n*n,lst1)\n",
    "print(list(lst2))"
   ]
  },
  {
   "cell_type": "code",
   "execution_count": 49,
   "metadata": {},
   "outputs": [
    {
     "name": "stdout",
     "output_type": "stream",
     "text": [
      "[2, 4, 6, 8, 10]\n"
     ]
    }
   ],
   "source": [
    "# using lambda with filter()\n",
    "lst1 = [2,3,4,5,6,7,8,9,10]\n",
    "lst2 = filter(lambda n:n%2==0,lst1)\n",
    "print(list(lst2))"
   ]
  },
  {
   "cell_type": "code",
   "execution_count": 50,
   "metadata": {},
   "outputs": [
    {
     "name": "stdout",
     "output_type": "stream",
     "text": [
      "Sum =  15\n"
     ]
    }
   ],
   "source": [
    "# using lambda with reduce()\n",
    "\n",
    "lst = [1,2,3,4,5]\n",
    "s = reduce(lambda n,m:n+m,lst)\n",
    "print(\"Sum = \", s)"
   ]
  },
  {
   "cell_type": "code",
   "execution_count": 51,
   "metadata": {},
   "outputs": [
    {
     "name": "stdout",
     "output_type": "stream",
     "text": [
      "[67, 87, 45, 23, 45, 23, 35]\n"
     ]
    }
   ],
   "source": [
    "numbers = [67,54,87,34,76,2,45,23,54,45,23,70,35]\n",
    "odd_list = filter(lambda n:n%2==1,numbers)\n",
    "print(list(odd_list))"
   ]
  },
  {
   "cell_type": "code",
   "execution_count": 52,
   "metadata": {},
   "outputs": [
    {
     "name": "stdout",
     "output_type": "stream",
     "text": [
      "[1, 8, 27, 64, 125, 216, 343, 512, 729, 1000]\n"
     ]
    }
   ],
   "source": [
    "num = [1,2,3,4,5,6,7,8,9,10]\n",
    "\n",
    "cube = map(lambda n:n**3,num)\n",
    "\n",
    "print(list(cube))"
   ]
  },
  {
   "cell_type": "code",
   "execution_count": null,
   "metadata": {},
   "outputs": [],
   "source": []
  }
 ],
 "metadata": {
  "kernelspec": {
   "display_name": "Python 3",
   "language": "python",
   "name": "python3"
  },
  "language_info": {
   "codemirror_mode": {
    "name": "ipython",
    "version": 3
   },
   "file_extension": ".py",
   "mimetype": "text/x-python",
   "name": "python",
   "nbconvert_exporter": "python",
   "pygments_lexer": "ipython3",
   "version": "3.8.8"
  }
 },
 "nbformat": 4,
 "nbformat_minor": 4
}
