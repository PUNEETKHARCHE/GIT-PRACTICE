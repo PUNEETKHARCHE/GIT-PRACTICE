{
 "cells": [
  {
   "cell_type": "markdown",
   "metadata": {},
   "source": [
    "### input() function:  This Function is used to take user input. (Less useful in Data Science)"
   ]
  },
  {
   "cell_type": "code",
   "execution_count": null,
   "metadata": {},
   "outputs": [],
   "source": [
    "name = input('Enter your Age:: ')"
   ]
  },
  {
   "cell_type": "code",
   "execution_count": null,
   "metadata": {},
   "outputs": [],
   "source": [
    "print(name)\n",
    "print(type(name))"
   ]
  },
  {
   "cell_type": "code",
   "execution_count": null,
   "metadata": {},
   "outputs": [],
   "source": [
    "age = int(input('Enter Your Age'))"
   ]
  },
  {
   "cell_type": "code",
   "execution_count": null,
   "metadata": {},
   "outputs": [],
   "source": [
    "print(type(age))"
   ]
  },
  {
   "cell_type": "code",
   "execution_count": null,
   "metadata": {},
   "outputs": [],
   "source": [
    "num = input('Enter the Number')"
   ]
  },
  {
   "cell_type": "code",
   "execution_count": null,
   "metadata": {},
   "outputs": [],
   "source": [
    "print(num)"
   ]
  },
  {
   "cell_type": "code",
   "execution_count": null,
   "metadata": {},
   "outputs": [],
   "source": [
    "print(type(num))"
   ]
  },
  {
   "cell_type": "code",
   "execution_count": null,
   "metadata": {},
   "outputs": [],
   "source": [
    "num1 = float(input('Enter the First Number '))\n",
    "num2 = float(input('Enter the Second Number '))\n",
    "\n",
    "res = num1 + num2\n",
    "\n",
    "print('Addition = ', res)"
   ]
  },
  {
   "cell_type": "code",
   "execution_count": null,
   "metadata": {},
   "outputs": [],
   "source": [
    "numlist = input(\"Enter Two Numbers = \").split()"
   ]
  },
  {
   "cell_type": "code",
   "execution_count": null,
   "metadata": {},
   "outputs": [],
   "source": [
    "print(numlist)\n",
    "#print(num1,num2)\n",
    "#print(int(num1)+int(num2))"
   ]
  },
  {
   "cell_type": "markdown",
   "metadata": {},
   "source": [
    "# Decision Control Stucture"
   ]
  },
  {
   "cell_type": "markdown",
   "metadata": {},
   "source": [
    "1) if condition:\n",
    "        statement1\n",
    "   statement2\n",
    "2) if condition:\n",
    "        statement1\n",
    "   else:\n",
    "        statement2\n",
    "3) if condition1:\n",
    "        statement1\n",
    "   elif condition2:\n",
    "        statement2\n",
    "   elif condition3:\n",
    "        statement3\n",
    "   else:\n",
    "        statement4\n",
    "        \n",
    "Note that colon : after if,else,elif is compulsory. \n",
    "Also indentation of statements in if block, else block, elif block is compulsory.\n",
    "\n",
    "Relation Operators:   <  >  <=  >=  ==   !="
   ]
  },
  {
   "cell_type": "code",
   "execution_count": null,
   "metadata": {},
   "outputs": [],
   "source": [
    "a = 10\n",
    "b = 20\n",
    "\n",
    "if a==b:\n",
    "    print(\"Equal\")\n",
    "else:\n",
    "    print('Different')"
   ]
  },
  {
   "cell_type": "markdown",
   "metadata": {},
   "source": [
    "Logical Operators:    and, or and not"
   ]
  },
  {
   "cell_type": "markdown",
   "metadata": {},
   "source": [
    "Note: and operator evaluates ALL expressions. \n",
    "It returns last expression if all expressions evaluate to True. \n",
    "Otherwise it returns the first value that evaluates to false"
   ]
  },
  {
   "cell_type": "code",
   "execution_count": null,
   "metadata": {},
   "outputs": [],
   "source": [
    "a = 40\n",
    "b = 30\n",
    "\n",
    "x = 75 and a>=20 and b<60 and 98   # x = T and T and T and T\n",
    "print(x)"
   ]
  },
  {
   "cell_type": "code",
   "execution_count": null,
   "metadata": {},
   "outputs": [],
   "source": [
    "a = 40\n",
    "b = 30\n",
    "\n",
    "y = -30 and a>=20 and b<15 and 35 # y = T and T and F\n",
    "print(y)"
   ]
  },
  {
   "cell_type": "code",
   "execution_count": null,
   "metadata": {},
   "outputs": [],
   "source": [
    "z = -30 and a>=20 and 0 and 35\n",
    "print(z)"
   ]
  },
  {
   "cell_type": "markdown",
   "metadata": {},
   "source": [
    "Note: or operator evaluates ALL expressions and \n",
    "returns the first value that evaluates to True if one of expression evaluates to true.. \n",
    "Otherwise it returns last value that evaluates to False if all expression is false."
   ]
  },
  {
   "cell_type": "code",
   "execution_count": null,
   "metadata": {},
   "outputs": [],
   "source": [
    "a = 40\n",
    "b = 30\n",
    "\n",
    "x = 70 or a>20 or 60\n",
    "print(x)"
   ]
  },
  {
   "cell_type": "code",
   "execution_count": null,
   "metadata": {},
   "outputs": [],
   "source": [
    "a = 40\n",
    "b = 30\n",
    "\n",
    "y = a>=20 or 75 or 60\n",
    "print(y)"
   ]
  },
  {
   "cell_type": "code",
   "execution_count": null,
   "metadata": {},
   "outputs": [],
   "source": [
    "a = 40\n",
    "b = 30\n",
    "\n",
    "z = a<20 or b>60 or 89 or a>b\n",
    "print(z)"
   ]
  },
  {
   "cell_type": "code",
   "execution_count": null,
   "metadata": {},
   "outputs": [],
   "source": [
    "a = 50\n",
    "b = 30\n",
    "print(not(a>b))"
   ]
  },
  {
   "cell_type": "markdown",
   "metadata": {},
   "source": [
    "## Conditional Expressions"
   ]
  },
  {
   "cell_type": "markdown",
   "metadata": {},
   "source": [
    "Python Supports one additional decision making entity called a conditional expression\n",
    "\n",
    "<expr1>  if  <conditional expression>  else <expr2>\n",
    "    \n",
    "<conditional expression> is evaluated first. \n",
    "    If it is true, the expression evaluated to <expr1>\n",
    "    If it is false, the expression evaluated to <expr2>"
   ]
  },
  {
   "cell_type": "code",
   "execution_count": null,
   "metadata": {},
   "outputs": [],
   "source": [
    "age = int(input('Enter you age '))\n",
    "\n",
    "status = 'minor' if age<18 else 'adult'\n",
    "\n",
    "print(status)\n",
    "\n"
   ]
  },
  {
   "cell_type": "code",
   "execution_count": null,
   "metadata": {},
   "outputs": [],
   "source": [
    "temp = int(input('Enter the room temperature '))\n",
    "\n",
    "#msg = 'Normal' if temp <28 else 'Hot'\n",
    "\n",
    "msg = 'Cold' if temp < 15 else ('Normal' if temp<28 else 'Hot')\n",
    "\n",
    "print('It feeling {} '.format(msg))"
   ]
  },
  {
   "cell_type": "code",
   "execution_count": null,
   "metadata": {},
   "outputs": [],
   "source": [
    "# Any integer is input through the keyboard. \n",
    "# Write a program to find out whether it is an odd number of even number.\n",
    "\n",
    "num = int(input('Enter Any Number'))\n",
    "\n",
    "if num%2==1:\n",
    "    print('Odd Number')\n",
    "    print(num)\n",
    "else:\n",
    "    print('Even Number')\n",
    "    print(num)"
   ]
  },
  {
   "cell_type": "code",
   "execution_count": null,
   "metadata": {},
   "outputs": [],
   "source": [
    "# Write a program to find the area of circle if radius is input through the keyboard.\n",
    "import math\n",
    "radius = float(input('Enter the radius of circle:: '))\n",
    "\n",
    "res = math.pi * radius * radius\n",
    "\n",
    "print(\"Area of Circle = {}\".format(round(res,2)))"
   ]
  },
  {
   "cell_type": "markdown",
   "metadata": {},
   "source": [
    "# Loop Control Structure"
   ]
  },
  {
   "cell_type": "markdown",
   "metadata": {},
   "source": [
    "There are two types of loops in Python\n",
    "1) while Loop\n",
    "2) for loop\n",
    "\n",
    "while loop:\n",
    "            while is used to repeatedly execute instructions as long as condition is true.\n",
    "Syntax:\n",
    "\n",
    "while condition:\n",
    "       statement1\n",
    "       statement2\n",
    "statement3      \n",
    "OR\n",
    "\n",
    "while condition:\n",
    "       statement1\n",
    "       statement2\n",
    "else:\n",
    "       statement3\n",
    "       statement4\n",
    "       \n",
    "Here, else block is optional. if present, it is executed when condition fails.\n",
    "\n",
    "NOTE: If the while loop is terminated abruptly using the break statement then the else block is not executed.\n",
    "\n"
   ]
  },
  {
   "cell_type": "code",
   "execution_count": null,
   "metadata": {},
   "outputs": [],
   "source": [
    "n=2\n",
    "a = 1\n",
    "while a<=10:\n",
    "    print(a*n,end=\" \")\n",
    "    a +=1\n",
    "else:\n",
    "    print('End of Table')"
   ]
  },
  {
   "cell_type": "code",
   "execution_count": null,
   "metadata": {},
   "outputs": [],
   "source": [
    "a = 1\n",
    "\n",
    "while a<=10:\n",
    "    print(a)\n",
    "    a += 1\n",
    "    if a==5:\n",
    "        break\n",
    "else:\n",
    "    print('Loop Terminated')"
   ]
  },
  {
   "cell_type": "markdown",
   "metadata": {},
   "source": [
    "for loop:\n",
    "\n",
    "for loop is used to iterate over elements of a sequence such as string, tuple or list.\n",
    "\n",
    "for var in list:\n",
    "       statement1\n",
    "       statement2\n",
    "       \n",
    "\n",
    "for var in list:\n",
    "       statement1\n",
    "       statement2\n",
    "else:\n",
    "       statement3\n",
    "       statement4\n",
    "\n",
    "During each iteration var is assigned the next value from the list.\n",
    "else block is optional\n",
    "if present, it is executed if loop is not teminated abruptly using break."
   ]
  },
  {
   "cell_type": "code",
   "execution_count": null,
   "metadata": {},
   "outputs": [],
   "source": [
    "name = \"Ganesh\"\n",
    "\n",
    "for ch in name:\n",
    "    print(ord(ch))\n",
    "else:\n",
    "    print('End of String')"
   ]
  },
  {
   "cell_type": "code",
   "execution_count": null,
   "metadata": {},
   "outputs": [],
   "source": [
    "lst = [1,2,3,4,5,6,7,8,9,10]\n",
    "list1 = [1,'Ganesh',37.6]\n",
    "\n",
    "for var in list1:\n",
    "    print(var, end=\" \")\n",
    "    print(type(var))"
   ]
  },
  {
   "cell_type": "markdown",
   "metadata": {},
   "source": [
    "range() function:\n",
    "\n",
    "It can be used to generate a sequence of integers.\n",
    "\n",
    "range(10)       -  generates numbers form 0 to 9\n",
    "\n",
    "range(10,20)    -  generates numbers from 10 to 19\n",
    "\n",
    "range(10,20,2)  -  generates numbers from 10 to 19 in steps of 2\n",
    "\n",
    "range(20,10,-2) -  generates numbers from 20 to 11 in the steps of -2\n",
    "\n",
    "in general,     \n",
    "\n",
    "        range(start(Inclusive) , stop(Exclusive), step)\n",
    "        \n",
    "   produces a sequence of integers from start(inclusive) to stop(exclusive) by given step."
   ]
  },
  {
   "cell_type": "code",
   "execution_count": null,
   "metadata": {},
   "outputs": [],
   "source": [
    "for i in range(1,10):\n",
    "    print(i,end='  ')"
   ]
  },
  {
   "cell_type": "code",
   "execution_count": null,
   "metadata": {},
   "outputs": [],
   "source": [
    "for i in range(2,21,2):\n",
    "    print(i, end=\" \")"
   ]
  },
  {
   "cell_type": "code",
   "execution_count": null,
   "metadata": {},
   "outputs": [],
   "source": [
    "for i in range(10,0,-1):\n",
    "    print(i, end = \" \")"
   ]
  },
  {
   "cell_type": "code",
   "execution_count": null,
   "metadata": {},
   "outputs": [],
   "source": [
    "name = \"Python Programing\"\n",
    "upperCount = 0 \n",
    "lowerCount = 0\n",
    "for ch in name:\n",
    "    if ch.isupper():\n",
    "        upperCount = upperCount + 1\n",
    "    elif ch.islower():\n",
    "        lowerCount +=1\n",
    "    print(ch,end= \" \")   # can be used to iterate through string\n",
    "print(\"\\nNo of Capital Letters = \",upperCount)\n",
    "print(' No of Lower case letters = ',lowerCount)"
   ]
  },
  {
   "cell_type": "code",
   "execution_count": null,
   "metadata": {},
   "outputs": [],
   "source": [
    "lst = [10,34,5,6,'Life',45.8]\n",
    "\n",
    "for var in lst:\n",
    "    print(type(var))"
   ]
  },
  {
   "cell_type": "code",
   "execution_count": null,
   "metadata": {},
   "outputs": [],
   "source": [
    "# Write a program to print the cube of numbers from 1 to 10\n",
    "\n",
    "for i in range(1,11):\n",
    "    print(i, \"=>\", i**3)"
   ]
  },
  {
   "cell_type": "code",
   "execution_count": null,
   "metadata": {},
   "outputs": [],
   "source": [
    "# Write a program to print sum of first 10 natural numbers\n",
    "\n",
    "sum = 0\n",
    "for i in range(1,11):\n",
    "    sum = sum+i\n",
    "print(\"Sum of First 10 Natural Numbers = %d\"%sum)"
   ]
  },
  {
   "cell_type": "code",
   "execution_count": null,
   "metadata": {},
   "outputs": [],
   "source": [
    "# WAP to count number of alphabets and numbers of digits in the string\n",
    "# \"Nagpur-440010\"\n",
    "\n",
    "msg = \"Bangaluru-440010>>\"\n",
    "aCnt = 0 # contains alphabets\n",
    "dCnt = 0 # contains digits\n",
    "ccnt = 0 # contains special characters\n",
    "for ch in msg:\n",
    "    if ch.isalpha():\n",
    "        aCnt = aCnt + 1\n",
    "    elif ch.isdigit():\n",
    "        dCnt = dCnt + 1\n",
    "    else:\n",
    "        ccnt = ccnt + 1\n",
    "        \n",
    "print(\"Alphabet Count = \",aCnt)\n",
    "print(\"Digit Count = \",dCnt)\n",
    "print('Special Symbol = ', ccnt)"
   ]
  },
  {
   "cell_type": "code",
   "execution_count": null,
   "metadata": {},
   "outputs": [],
   "source": [
    "# WAP to print first 25 odd numbers using range()\n",
    "cnt = 1\n",
    "for i in range(1,50,2):\n",
    "    print(cnt, \"\\t\",i)\n",
    "    cnt = cnt+1\n",
    "    "
   ]
  },
  {
   "cell_type": "code",
   "execution_count": null,
   "metadata": {},
   "outputs": [],
   "source": [
    "# WAP to print first 25 odd numbers using range()\n",
    "cnt = 1\n",
    "i = 1\n",
    "while True:\n",
    "    print(cnt, \"\\t\",i)\n",
    "    i = i + 2\n",
    "    if(cnt==25):\n",
    "        break\n",
    "    cnt = cnt+1"
   ]
  },
  {
   "cell_type": "code",
   "execution_count": null,
   "metadata": {},
   "outputs": [],
   "source": []
  }
 ],
 "metadata": {
  "kernelspec": {
   "display_name": "Python 3",
   "language": "python",
   "name": "python3"
  },
  "language_info": {
   "codemirror_mode": {
    "name": "ipython",
    "version": 3
   },
   "file_extension": ".py",
   "mimetype": "text/x-python",
   "name": "python",
   "nbconvert_exporter": "python",
   "pygments_lexer": "ipython3",
   "version": "3.8.8"
  }
 },
 "nbformat": 4,
 "nbformat_minor": 4
}
