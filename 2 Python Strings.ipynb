{
 "cells": [
  {
   "cell_type": "markdown",
   "metadata": {},
   "source": [
    "# Python Strings"
   ]
  },
  {
   "cell_type": "markdown",
   "metadata": {},
   "source": [
    "### Python String is a collections of Unicode characters."
   ]
  },
  {
   "cell_type": "markdown",
   "metadata": {},
   "source": [
    "### Python strings can be enclosed in single, double or triple quotes"
   ]
  },
  {
   "cell_type": "code",
   "execution_count": 1,
   "metadata": {},
   "outputs": [
    {
     "name": "stdout",
     "output_type": "stream",
     "text": [
      "Python\n",
      "Python Programming \n",
      "Python\n",
      "Programing\n",
      "I Love India\n",
      "Python\n",
      "   Programming\n"
     ]
    }
   ],
   "source": [
    "str1 = 'Python'\n",
    "str2 = \"Python Programming \"\n",
    "\n",
    "str3 = \"\"\"Python\n",
    "Programing\n",
    "I Love India\"\"\"\n",
    "str4 = '''Python\n",
    "   Programming'''\n",
    "print(str1)\n",
    "print(str2)\n",
    "print(str3)\n",
    "print(str4)"
   ]
  },
  {
   "cell_type": "markdown",
   "metadata": {},
   "source": [
    "### If there are characters like ' \" or \\ within a string, they can be ratained in two ways:\n",
    "1. Escape them by preceding them with a \\\n",
    "2. prepend the string with a 'r' indicating that it is a raw string"
   ]
  },
  {
   "cell_type": "code",
   "execution_count": null,
   "metadata": {},
   "outputs": [],
   "source": [
    "msg = 'My name is \\\"Ganesh\\\" Nashik'\n",
    "que = 'What is a\\\\b?'\n",
    "print(que)"
   ]
  },
  {
   "cell_type": "code",
   "execution_count": 2,
   "metadata": {},
   "outputs": [
    {
     "name": "stdout",
     "output_type": "stream",
     "text": [
      "My name is \\t 'Ganesh' \\n Nashik\n"
     ]
    }
   ],
   "source": [
    "# python 2\n",
    "\n",
    "msg = r\"My name is \\t 'Ganesh' \\n Nashik\"\n",
    "print(msg)"
   ]
  },
  {
   "cell_type": "markdown",
   "metadata": {},
   "source": [
    "### Accessing String elements"
   ]
  },
  {
   "cell_type": "markdown",
   "metadata": {},
   "source": [
    "String element can be accessed using the index value, starting with 0. Negative index is also allowed"
   ]
  },
  {
   "cell_type": "markdown",
   "metadata": {},
   "source": [
    "In case of negative indexing, The Last character is considered to be at index -1.\n",
    "\n",
    "In case of positive indexing, the first character is considered to be at index 0\n"
   ]
  },
  {
   "cell_type": "code",
   "execution_count": 3,
   "metadata": {},
   "outputs": [
    {
     "name": "stdout",
     "output_type": "stream",
     "text": [
      "H\n"
     ]
    }
   ],
   "source": [
    "msg = 'Hello Ganesh'\n",
    "print(msg[0])"
   ]
  },
  {
   "cell_type": "code",
   "execution_count": 4,
   "metadata": {},
   "outputs": [
    {
     "name": "stdout",
     "output_type": "stream",
     "text": [
      "h\n"
     ]
    }
   ],
   "source": [
    "print(msg[-1])"
   ]
  },
  {
   "cell_type": "code",
   "execution_count": 5,
   "metadata": {},
   "outputs": [
    {
     "name": "stdout",
     "output_type": "stream",
     "text": [
      "G\n"
     ]
    }
   ],
   "source": [
    "print(msg[-6])"
   ]
  },
  {
   "cell_type": "code",
   "execution_count": 6,
   "metadata": {},
   "outputs": [
    {
     "name": "stdout",
     "output_type": "stream",
     "text": [
      "n\n"
     ]
    }
   ],
   "source": [
    "print(msg[8])"
   ]
  },
  {
   "cell_type": "code",
   "execution_count": 7,
   "metadata": {},
   "outputs": [
    {
     "name": "stdout",
     "output_type": "stream",
     "text": [
      "Ganesh\n"
     ]
    }
   ],
   "source": [
    "# A Sub-string can be sliced out of a string\n",
    "msg = 'Hello Ganesh'\n",
    "s1 = msg[6:12]   # extract from the 0 to 3\n",
    "print(s1)"
   ]
  },
  {
   "cell_type": "code",
   "execution_count": 8,
   "metadata": {},
   "outputs": [
    {
     "name": "stdout",
     "output_type": "stream",
     "text": [
      "Ganesh\n"
     ]
    }
   ],
   "source": [
    "s1 = msg[6:]   # extract from 6 to end\n",
    "print(s1)"
   ]
  },
  {
   "cell_type": "code",
   "execution_count": 9,
   "metadata": {},
   "outputs": [
    {
     "name": "stdout",
     "output_type": "stream",
     "text": [
      "Hello\n"
     ]
    }
   ],
   "source": [
    "s1 = msg[:5]   # extract from start to 4\n",
    "print(s1)"
   ]
  },
  {
   "cell_type": "code",
   "execution_count": 10,
   "metadata": {},
   "outputs": [
    {
     "name": "stdout",
     "output_type": "stream",
     "text": [
      "Ganesh\n"
     ]
    }
   ],
   "source": [
    "msg = 'Hello Ganesh'\n",
    "s1 = msg[-6:]  # extract from -6 to end\n",
    "print(s1)"
   ]
  },
  {
   "cell_type": "code",
   "execution_count": 11,
   "metadata": {},
   "outputs": [
    {
     "name": "stdout",
     "output_type": "stream",
     "text": [
      "nes\n"
     ]
    }
   ],
   "source": [
    "#extract nes using negative indexing\n",
    "msg = 'Hello Ganesh'\n",
    "s1 = msg[-4:-1]  # extract from start to -8\n",
    "print(s1)"
   ]
  },
  {
   "cell_type": "code",
   "execution_count": 12,
   "metadata": {},
   "outputs": [
    {
     "name": "stdout",
     "output_type": "stream",
     "text": [
      "Python\n"
     ]
    }
   ],
   "source": [
    "# Using too large an index reports an error, \n",
    "# but using too large indexed while slicing is handled elegently\n",
    "msg = \"Hello Python\"\n",
    "print(msg[6:200])    # prints it successfully"
   ]
  },
  {
   "cell_type": "code",
   "execution_count": 13,
   "metadata": {},
   "outputs": [
    {
     "ename": "IndexError",
     "evalue": "string index out of range",
     "output_type": "error",
     "traceback": [
      "\u001b[0;31m---------------------------------------------------------------------------\u001b[0m",
      "\u001b[0;31mIndexError\u001b[0m                                Traceback (most recent call last)",
      "\u001b[0;32m<ipython-input-13-0414faa1edf7>\u001b[0m in \u001b[0;36m<module>\u001b[0;34m\u001b[0m\n\u001b[0;32m----> 1\u001b[0;31m \u001b[0mprint\u001b[0m\u001b[0;34m(\u001b[0m\u001b[0mmsg\u001b[0m\u001b[0;34m[\u001b[0m\u001b[0;36m20\u001b[0m\u001b[0;34m]\u001b[0m\u001b[0;34m)\u001b[0m    \u001b[0;31m# produces an error\u001b[0m\u001b[0;34m\u001b[0m\u001b[0;34m\u001b[0m\u001b[0m\n\u001b[0m",
      "\u001b[0;31mIndexError\u001b[0m: string index out of range"
     ]
    }
   ],
   "source": [
    "print(msg[20])    # produces an error"
   ]
  },
  {
   "cell_type": "markdown",
   "metadata": {},
   "source": [
    "### String Properties"
   ]
  },
  {
   "cell_type": "markdown",
   "metadata": {},
   "source": [
    "All strings are objects of built-in type str"
   ]
  },
  {
   "cell_type": "code",
   "execution_count": null,
   "metadata": {},
   "outputs": [],
   "source": [
    "msg = \"Python\"\n",
    "print(type(msg))\n",
    "print(len(msg))"
   ]
  },
  {
   "cell_type": "code",
   "execution_count": null,
   "metadata": {},
   "outputs": [],
   "source": [
    "# Python Strings are immutable,i.e. they cannot be changed\n",
    "s1 = \"Hello\"\n",
    "print(id(s1))\n",
    "s1 = \"Good Morning\"\n",
    "print(id(s1))\n",
    "print(s1)"
   ]
  },
  {
   "cell_type": "code",
   "execution_count": null,
   "metadata": {},
   "outputs": [],
   "source": [
    "s1 = 'Bye'\n",
    "s1 = 'Good'\n",
    "print(s1)"
   ]
  },
  {
   "cell_type": "code",
   "execution_count": null,
   "metadata": {},
   "outputs": [],
   "source": [
    "# Strings can be concatenated using +\n",
    "s1 = \"Good \"\n",
    "s2 = \"Morning \"\n",
    "s4 = 'Ganesh'\n",
    "s3 = s1 + s2 \n",
    "print(s3)"
   ]
  },
  {
   "cell_type": "code",
   "execution_count": null,
   "metadata": {},
   "outputs": [],
   "source": [
    "# Strings can be repeated during the printing\n",
    "print(\"*\"*10)   # Print 10 star\n",
    "\n",
    "s1 = \"GBSOFT \"\n",
    "print(s1*5)"
   ]
  },
  {
   "cell_type": "code",
   "execution_count": null,
   "metadata": {},
   "outputs": [],
   "source": [
    "# whether one string is part of another can be found out using in operator\n",
    "\n",
    "print('o' in \"Hello\")"
   ]
  },
  {
   "cell_type": "code",
   "execution_count": null,
   "metadata": {},
   "outputs": [],
   "source": [
    "print('Ganesh' in \"Hello Ganesh\")"
   ]
  },
  {
   "cell_type": "code",
   "execution_count": null,
   "metadata": {},
   "outputs": [],
   "source": [
    "print('Ganesh' in \"Hello Ganesh\")"
   ]
  },
  {
   "cell_type": "code",
   "execution_count": null,
   "metadata": {},
   "outputs": [],
   "source": [
    "email = \"ganesh@live.com\"\n",
    "\n",
    "#print('@gmail.com' in email)\n",
    "\n",
    "if '@gmail.com' in email:\n",
    "    print('Valid Email')\n",
    "else:\n",
    "    print(\"Only Accept Gmail\")"
   ]
  },
  {
   "cell_type": "markdown",
   "metadata": {},
   "source": [
    "### String Operations"
   ]
  },
  {
   "cell_type": "code",
   "execution_count": null,
   "metadata": {},
   "outputs": [],
   "source": [
    "# Many built-in string functions are available. The syntax to use them is string.function() as shown below,\n",
    "\n",
    "name = \"Python3 is Open Source\"\n",
    "\n",
    "print(name.isalpha())  # checks if all the characters in string are alphabets\n",
    "\n",
    "name1 = \"Ganesh\"\n",
    "print(name1.isalpha())"
   ]
  },
  {
   "cell_type": "code",
   "execution_count": null,
   "metadata": {},
   "outputs": [],
   "source": [
    "print(name.isdigit())  # checks if all the characters in string are digits\n",
    "\n",
    "sam = \"1234\"\n",
    "print(sam.isdigit())   # prints True"
   ]
  },
  {
   "cell_type": "code",
   "execution_count": null,
   "metadata": {},
   "outputs": [],
   "source": [
    "print(name.isalnum())   # checks if all the characters in the string are alphabets or digits\n",
    "\n",
    "sam = \"Sample\"\n",
    "print(sam.isalnum())  # print True\n",
    "\n",
    "sam = \"Sample123\"\n",
    "print(sam.isalnum())  # print True\n",
    "\n",
    "sam = \"Sample 123\"  \n",
    "print(sam.isalnum())  # prints False because of space in the string"
   ]
  },
  {
   "cell_type": "code",
   "execution_count": null,
   "metadata": {},
   "outputs": [],
   "source": [
    "name = \"Python3 is Open Source\"\n",
    "print(name.islower())  # checks if all the characters in the string are lowercase alphabets\n",
    "\n",
    "sam= \"sample\"\n",
    "print(sam.islower())   # print True\n",
    "\n",
    "sam = \"Sample\"\n",
    "print(sam.islower())   # print False because of capital S present in Sample"
   ]
  },
  {
   "cell_type": "code",
   "execution_count": null,
   "metadata": {},
   "outputs": [],
   "source": [
    "name = \"Python3 is Open Source\"\n",
    "print(name.isupper())   # checks if all the characters in the string are upppercase alphabets\n",
    "\n",
    "sam=\"sample\"\n",
    "print(sam.isupper())    # print False\n",
    "\n",
    "sam= \"Sample\"\n",
    "print(sam.isupper())    # print False\n",
    "\n",
    "sam= \"SAMPLE\"\n",
    "print(sam.isupper())    # print True because of all characters are uppercase"
   ]
  },
  {
   "cell_type": "code",
   "execution_count": null,
   "metadata": {},
   "outputs": [],
   "source": [
    "name = \"Python3 is Open Source\"\n",
    "\n",
    "print(name.startswith('Python'))  # checks if string starts with a value\n",
    "\n",
    "print(name.startswith(\"Good\"))   # prints False"
   ]
  },
  {
   "cell_type": "code",
   "execution_count": null,
   "metadata": {},
   "outputs": [],
   "source": [
    "print(name.endswith('Source'))  # checks if string ends with a value\n",
    "\n",
    "print(name.endswith(\"Good\"))   # prints False"
   ]
  },
  {
   "cell_type": "code",
   "execution_count": null,
   "metadata": {},
   "outputs": [],
   "source": [
    "name = 'Gbsoft'\n",
    "uname = name.upper()\n",
    "print(uname)   # converts string to uppercase, but given string remains unchanged\n",
    "\n",
    "print(name)"
   ]
  },
  {
   "cell_type": "code",
   "execution_count": null,
   "metadata": {},
   "outputs": [],
   "source": [
    "name = 'Gbsoft'\n",
    "name = name.lower()\n",
    "#print(name.lower())   # converts given string to lowercase, but given string remains unchaged\n",
    "\n",
    "print(name)"
   ]
  },
  {
   "cell_type": "code",
   "execution_count": null,
   "metadata": {},
   "outputs": [],
   "source": [
    "name = \"gb softronics solutions\"\n",
    "print(name.capitalize()) # converts only first character of string to uppercase, remaining becomes lowercase\n",
    "\n",
    "print(name)              # original string remains unchanged"
   ]
  },
  {
   "cell_type": "code",
   "execution_count": null,
   "metadata": {},
   "outputs": [],
   "source": [
    "name = \"GB Softronics Solutions\"\n",
    "print(name.swapcase())   # swap cases in the string\n",
    "str1 = name.swapcase()\n",
    "print(str1)\n",
    "print(name)              # original string remains unchanged"
   ]
  },
  {
   "cell_type": "code",
   "execution_count": null,
   "metadata": {},
   "outputs": [],
   "source": [
    "name = \"      Python3 is Open Source        \"\n",
    "print(name)   # prints with all spaces"
   ]
  },
  {
   "cell_type": "code",
   "execution_count": null,
   "metadata": {
    "scrolled": false
   },
   "outputs": [],
   "source": [
    "name1 = name.lstrip()\n",
    "print(name1)      # trim the string from the left. ie leading spaces get removed\n",
    "\n",
    "print(name)              # original string remains unchanged"
   ]
  },
  {
   "cell_type": "code",
   "execution_count": null,
   "metadata": {},
   "outputs": [],
   "source": [
    "print(name.rstrip())      # trim the string from the right. ie trailing spaces get removed\n",
    "\n",
    "print(name)              # original string remains unchanged"
   ]
  },
  {
   "cell_type": "code",
   "execution_count": null,
   "metadata": {},
   "outputs": [],
   "source": [
    "mname = name.strip()\n",
    "name = name.strip()      # trim the string from the both side. ie leading and trailing spaces get removed\n",
    "\n",
    "#print(name1)\n",
    "#print(len(name1))\n",
    "\n",
    "print(name)# original string remains unchanged\n",
    "print(len(name))"
   ]
  },
  {
   "cell_type": "code",
   "execution_count": null,
   "metadata": {},
   "outputs": [],
   "source": [
    "name = \"Python3 is Open Source\"\n",
    "var = name.partition(' is ')\n",
    "print(var)\n",
    "\n",
    "print(name)              # original string remains unchanged"
   ]
  },
  {
   "cell_type": "code",
   "execution_count": null,
   "metadata": {},
   "outputs": [],
   "source": [
    "msg = \"My username is gbsoft\"\n",
    "# WAP to get the username from the given message.\n",
    "var = msg.partition('is')\n",
    "print(var)\n",
    "username = var[2].strip()\n",
    "print(\"Your Username is\",username)"
   ]
  },
  {
   "cell_type": "code",
   "execution_count": null,
   "metadata": {},
   "outputs": [],
   "source": [
    "name = \"Python3 is Open Source\"\n",
    "list1 = name.split()     # split the string at a specified seperator string, \n",
    "                         # In case of seperator is not given, space is considered a seperator\n",
    "\n",
    "print(list1)\n",
    "\n",
    "print('Language name is',list1[0])\n"
   ]
  },
  {
   "cell_type": "code",
   "execution_count": null,
   "metadata": {},
   "outputs": [],
   "source": [
    "name = \"Ganesh Attarde,36,gattarde@gmail.com\"\n",
    "\n",
    "list1 = name.split(',')\n",
    "print(\"Email is \",list1[2])\n",
    "print(list1)  # data seperated with seperator ',', mostly used in csv file"
   ]
  },
  {
   "cell_type": "code",
   "execution_count": null,
   "metadata": {},
   "outputs": [],
   "source": [
    "msg = \"Ganesh#BTECH#67#78#90#59#93\"\n",
    "# WAP to extract the marks from the above message, and print the total of it.\n",
    "list1 = msg.split('#')\n",
    "print(list1)\n",
    "total = int(list1[2]) + int(list1[3]) + int(list1[4]) \\\n",
    "        + int(list1[5]) + int(list1[6])\n",
    "print(list1[0],\"Got the Total Marks as \",total)"
   ]
  },
  {
   "cell_type": "code",
   "execution_count": null,
   "metadata": {},
   "outputs": [],
   "source": [
    "# str() function return a numeric string for its numeric arguments\n",
    "age = 36\n",
    "print('I am ' + str(age) + ' years old')"
   ]
  },
  {
   "cell_type": "code",
   "execution_count": null,
   "metadata": {},
   "outputs": [],
   "source": [
    "# chr() function return a string representing its Unicode value\n",
    "# ord() function does the reverse\n",
    "\n",
    "print(ord('A'))\n",
    "\n",
    "print(chr(97))\n",
    "\n"
   ]
  },
  {
   "cell_type": "code",
   "execution_count": null,
   "metadata": {},
   "outputs": [],
   "source": [
    "# We can use unicode characters \n",
    "name = u'\\u0917' + u'\\u0923' + u'\\u0947' + u'\\u0936'\n",
    "\n",
    "print(name)"
   ]
  },
  {
   "cell_type": "markdown",
   "metadata": {},
   "source": [
    "## BEST OF LUCK"
   ]
  },
  {
   "cell_type": "code",
   "execution_count": 14,
   "metadata": {},
   "outputs": [
    {
     "name": "stdout",
     "output_type": "stream",
     "text": [
      "जानवी\n"
     ]
    }
   ],
   "source": [
    "janhavi = u'\\u091c' + u'\\u093e' + u'\\u0928' + u'\\u0935' + u'\\u0940'\n",
    "\n",
    "print(janhavi)"
   ]
  },
  {
   "cell_type": "code",
   "execution_count": null,
   "metadata": {},
   "outputs": [],
   "source": [
    "name = u'\\u0918' + u'\\u0930'\n",
    "print(name)"
   ]
  },
  {
   "cell_type": "code",
   "execution_count": null,
   "metadata": {},
   "outputs": [],
   "source": [
    "for j in range(1,10):\n",
    "    print('*'*j,end='')\n",
    "    print()"
   ]
  },
  {
   "cell_type": "code",
   "execution_count": null,
   "metadata": {},
   "outputs": [],
   "source": []
  }
 ],
 "metadata": {
  "kernelspec": {
   "display_name": "Python 3",
   "language": "python",
   "name": "python3"
  },
  "language_info": {
   "codemirror_mode": {
    "name": "ipython",
    "version": 3
   },
   "file_extension": ".py",
   "mimetype": "text/x-python",
   "name": "python",
   "nbconvert_exporter": "python",
   "pygments_lexer": "ipython3",
   "version": "3.8.8"
  }
 },
 "nbformat": 4,
 "nbformat_minor": 4
}
