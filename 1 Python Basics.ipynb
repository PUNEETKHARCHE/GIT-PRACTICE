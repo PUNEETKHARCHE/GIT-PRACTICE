{
 "cells": [
  {
   "cell_type": "markdown",
   "metadata": {},
   "source": [
    "# Identifiers and Keywords"
   ]
  },
  {
   "cell_type": "markdown",
   "metadata": {
    "slideshow": {
     "slide_type": "-"
    }
   },
   "source": [
    " Python is a case sensitive language.\n",
    " Python identifier is a name used to identify a variable, function,class, module or other object.\n",
    "\n",
    "Rules for Creating identifier:\n",
    "1. starts with alphabet or an underscore. And cannot start with digits\n",
    "2. Followed by zero or more letter, _ and digits\n",
    "3. keywords cannot be used as identifer\n",
    "\n",
    "All keywords are lowercase.\n",
    "\n",
    "Python2 has 33 keywords\n",
    "Python3 has 35 keywords.\n"
   ]
  },
  {
   "cell_type": "code",
   "execution_count": 11,
   "metadata": {
    "scrolled": true
   },
   "outputs": [
    {
     "name": "stdout",
     "output_type": "stream",
     "text": [
      "['False', 'None', 'True', '__peg_parser__', 'and', 'as', 'assert', 'async', 'await', 'break', 'class', 'continue', 'def', 'del', 'elif', 'else', 'except', 'finally', 'for', 'from', 'global', 'if', 'import', 'in', 'is', 'lambda', 'nonlocal', 'not', 'or', 'pass', 'raise', 'return', 'try', 'while', 'with', 'yield']\n",
      "\n",
      "Count of Keywords =  36\n"
     ]
    }
   ],
   "source": [
    "# you can obtain a list of python keywords through the statements:\n",
    "\n",
    "import keyword\n",
    "\n",
    "print(keyword.kwlist)\n",
    "print('\\nCount of Keywords = ',len(keyword.kwlist))"
   ]
  },
  {
   "cell_type": "markdown",
   "metadata": {},
   "source": [
    "# Python Data Types"
   ]
  },
  {
   "cell_type": "markdown",
   "metadata": {},
   "source": [
    "1. Basic types -  int, float, complex, bool, string, bytes\n",
    "2. Container types - list, tuple, set, dictionary\n",
    "3. User defined class"
   ]
  },
  {
   "cell_type": "code",
   "execution_count": 1,
   "metadata": {
    "scrolled": true
   },
   "outputs": [
    {
     "name": "stdout",
     "output_type": "stream",
     "text": [
      "20\n",
      "<class 'int'>\n"
     ]
    }
   ],
   "source": [
    "# Integer Data type\n",
    "a = 20\n",
    "print(a)\n",
    "print(type(a))"
   ]
  },
  {
   "cell_type": "code",
   "execution_count": 2,
   "metadata": {
    "scrolled": true
   },
   "outputs": [
    {
     "name": "stdout",
     "output_type": "stream",
     "text": [
      "3.5\n",
      "<class 'float'>\n"
     ]
    }
   ],
   "source": [
    "a = 3.5\n",
    "print(a)\n",
    "print(type(a))"
   ]
  },
  {
   "cell_type": "code",
   "execution_count": 12,
   "metadata": {
    "scrolled": true
   },
   "outputs": [
    {
     "name": "stdout",
     "output_type": "stream",
     "text": [
      "3.566\n",
      "<class 'float'>\n",
      "35600.0\n",
      "<class 'float'>\n"
     ]
    }
   ],
   "source": [
    "# Float data type\n",
    "a = 3.566  # Float number using decimal point\n",
    "print(a)\n",
    "print(type(a))\n",
    "\n",
    "a = 3.56e4   # float number using mantissa and exponent\n",
    "print(a)\n",
    "\n",
    "print(type(a))"
   ]
  },
  {
   "cell_type": "code",
   "execution_count": null,
   "metadata": {
    "scrolled": true
   },
   "outputs": [],
   "source": [
    "# Integer and Float data types ranges?\n",
    "a = -9387487868798765765345235454234353454625465462424625464564522341345464565463451345345435134534534134514354365475\n",
    "print(a)\n",
    "\n",
    "# there is no limit for int range. Do not worry about underflow or overflow"
   ]
  },
  {
   "cell_type": "code",
   "execution_count": null,
   "metadata": {
    "scrolled": true
   },
   "outputs": [],
   "source": [
    "a = 1.7e307\n",
    "print(a) \n",
    "\n",
    "# a number greater than 1.8e308 is referred as inf (infinity)\n",
    "\n",
    "# Float Range = -1.7e307 to +1.7e307\n",
    "\n",
    "a = 1.8e308\n",
    "print(a)"
   ]
  },
  {
   "cell_type": "code",
   "execution_count": null,
   "metadata": {},
   "outputs": [],
   "source": [
    "print(a)"
   ]
  },
  {
   "cell_type": "code",
   "execution_count": null,
   "metadata": {
    "scrolled": true
   },
   "outputs": [],
   "source": [
    "# Complex Data Type\n",
    "a = 1 + 2j\n",
    "b = 3 + 5j\n",
    "c = a + b\n",
    "print(a)\n",
    "print(b)\n",
    "print(c)\n",
    "print(c.real)   # prints the real part of complex number\n",
    "print(c.imag)   # prints the imaginary part of complex number\n",
    "print(c.conjugate())   # prints the conjugate of complex number"
   ]
  },
  {
   "cell_type": "code",
   "execution_count": null,
   "metadata": {
    "scrolled": true
   },
   "outputs": [],
   "source": [
    "print(type(c))"
   ]
  },
  {
   "cell_type": "code",
   "execution_count": null,
   "metadata": {
    "scrolled": true
   },
   "outputs": [],
   "source": [
    "# bool data type\n",
    "\n",
    "a = 10>20  # False\n",
    "\n",
    "b = 10<20  # True\n",
    "\n",
    "print(a)\n",
    "print(b)\n",
    "\n",
    "print(type(a))\n",
    "print(type(b))"
   ]
  },
  {
   "cell_type": "code",
   "execution_count": null,
   "metadata": {
    "scrolled": true
   },
   "outputs": [],
   "source": [
    "# bytes data type\n",
    "\n",
    "a = bytes(4)   # create a array of 4 bytes\n",
    "print(type(a))\n",
    "\n",
    "print(a)"
   ]
  },
  {
   "cell_type": "code",
   "execution_count": null,
   "metadata": {
    "scrolled": true
   },
   "outputs": [],
   "source": [
    "b = [1,5,7,11]\n",
    "\n",
    "a = bytes(b)   # create a array of bytes using the list elements\n",
    "\n",
    "print(a)"
   ]
  },
  {
   "cell_type": "code",
   "execution_count": null,
   "metadata": {
    "scrolled": true
   },
   "outputs": [],
   "source": [
    "name = \"Ganesh\"\n",
    "\n",
    "surname = 'Attarde'\n",
    "\n",
    "n = \"\"\"Ganesh\"\"\"\n",
    "\n",
    "m = '''Ganesh'''\n",
    "\n",
    "print(m)\n",
    "\n",
    "print(type(n))"
   ]
  },
  {
   "cell_type": "markdown",
   "metadata": {},
   "source": [
    "### Variable Type and Assignment"
   ]
  },
  {
   "cell_type": "markdown",
   "metadata": {},
   "source": [
    "No need to define type of variable. Type of variable is taken from the context in which the variable is being used."
   ]
  },
  {
   "cell_type": "code",
   "execution_count": null,
   "metadata": {
    "scrolled": true
   },
   "outputs": [],
   "source": [
    "a = 25    # type of a is taken as int\n",
    "print(\"Value of a=\",a,\" Address of a= \", id(a))\n",
    "a = 3.14  # type of a is taken as float\n",
    "print(\"Value of a=\",a,\" Address of a= \", id(a))\n",
    "a = 'Hi'  # type of a is taken as str\n",
    "print(\"Value of a=\",a,\" Address of a= \", id(a))\n",
    "print(a)"
   ]
  },
  {
   "cell_type": "code",
   "execution_count": null,
   "metadata": {
    "scrolled": true
   },
   "outputs": [],
   "source": [
    "# Type of a variable can be checked using the built-in function type()\n",
    "a = 10\n",
    "print(type(a))"
   ]
  },
  {
   "cell_type": "markdown",
   "metadata": {},
   "source": [
    "Variable assignment"
   ]
  },
  {
   "cell_type": "code",
   "execution_count": null,
   "metadata": {
    "scrolled": true
   },
   "outputs": [],
   "source": [
    "#Simple Variable assignment\n",
    "a = 10\n",
    "pi = 3.14\n",
    "name = \"Ganesh\"\n"
   ]
  },
  {
   "cell_type": "code",
   "execution_count": null,
   "metadata": {
    "scrolled": true
   },
   "outputs": [],
   "source": [
    "#Multiple Variable assignment\n",
    "\n",
    "a=10;pi=3.14;name='Ganesh'\n",
    "\n",
    "# OR\n",
    "a,pi,name = 10,3.14,'Ganesh'\n",
    "\n",
    "a=b=c=d=5\n",
    "\n",
    "print(d)"
   ]
  },
  {
   "cell_type": "markdown",
   "metadata": {},
   "source": [
    "### Arithmetic Operators:  + -  *  /  %  //  **\n"
   ]
  },
  {
   "cell_type": "code",
   "execution_count": null,
   "metadata": {
    "scrolled": true
   },
   "outputs": [],
   "source": [
    "a = (3+5)*4 \n",
    "b = 5-3 \n",
    "c = 2*3.6 \n",
    "d = 3/2 \n",
    "\n",
    "print(a)\n",
    "print(b)\n",
    "print(c,type(c))\n",
    "print(d, type(d))"
   ]
  },
  {
   "cell_type": "code",
   "execution_count": null,
   "metadata": {
    "scrolled": true
   },
   "outputs": [],
   "source": [
    "e = 9 % 2   # reminder  ans = 1\n",
    "f = 9 // 2  # Floor Division, it gives only quotient ans = 4\n",
    "g = 2 ** 3  # raised to operator  ans = 1024\n",
    "\n",
    "print(e)\n",
    "print(f)\n",
    "print(g)"
   ]
  },
  {
   "cell_type": "code",
   "execution_count": null,
   "metadata": {},
   "outputs": [],
   "source": [
    "num1 = '56'\n",
    "num2 = '4'\n",
    "res = int(num1) + int(num2)\n",
    "print(res)\n",
    "print(type(res))"
   ]
  },
  {
   "cell_type": "code",
   "execution_count": null,
   "metadata": {},
   "outputs": [],
   "source": [
    "ch = \"a\"\n",
    "\n",
    "print(ord(ch))\n"
   ]
  },
  {
   "cell_type": "markdown",
   "metadata": {},
   "source": [
    "## Operator Precedence\n",
    "\n",
    "Operators in decreasing order of their priority\n",
    "\n",
    " ###  ( )    Parenthesis\n",
    " ###  **     Exponentiation\n",
    " ###  * / // %    Multiplication, Division\n",
    " ### + -    Addition, subtraction"
   ]
  },
  {
   "cell_type": "code",
   "execution_count": null,
   "metadata": {},
   "outputs": [],
   "source": [
    "i = 67\n",
    "\n",
    "print(chr(i))\n",
    "\n"
   ]
  },
  {
   "cell_type": "markdown",
   "metadata": {},
   "source": [
    "## Type Conversions"
   ]
  },
  {
   "cell_type": "markdown",
   "metadata": {},
   "source": [
    "int(float/numeric string)\n",
    "\n",
    "int(numeric string, base)\n",
    "\n",
    "float(int/numeric string)\n",
    "\n",
    "complex(int/float)\n",
    "\n",
    "complex(int/float,int/float)\n",
    "\n",
    "bool(int/float)\n",
    "\n",
    "str(int/float/bool)\n",
    "\n",
    "chr(int)  # get the character associated with given ascii value\n",
    "\n",
    "ord(char)   # get the ascii value for a given character"
   ]
  },
  {
   "cell_type": "code",
   "execution_count": null,
   "metadata": {
    "scrolled": true
   },
   "outputs": [],
   "source": [
    "#num = 45.6\n",
    "#print(type(num))\n",
    "\n",
    "n = int('1234')\n",
    "print(n)\n",
    "print(type(n))"
   ]
  },
  {
   "cell_type": "code",
   "execution_count": null,
   "metadata": {
    "scrolled": true
   },
   "outputs": [],
   "source": [
    "num = 0\n",
    "n = bool(num)\n",
    "print(n)\n",
    "print(type(n))"
   ]
  },
  {
   "cell_type": "markdown",
   "metadata": {},
   "source": [
    "# BUILT-IN functions"
   ]
  },
  {
   "cell_type": "code",
   "execution_count": null,
   "metadata": {
    "scrolled": true
   },
   "outputs": [],
   "source": [
    "# Built-in mathematical functions:\n",
    "x = -3\n",
    "y = 5\n",
    "z = 2\n",
    "w = 8"
   ]
  },
  {
   "cell_type": "code",
   "execution_count": null,
   "metadata": {
    "scrolled": true
   },
   "outputs": [],
   "source": [
    "print(abs(8.7))   # absolute value of x"
   ]
  },
  {
   "cell_type": "code",
   "execution_count": null,
   "metadata": {
    "scrolled": true
   },
   "outputs": [],
   "source": [
    "print(pow(2,4))  # value of x raised to y"
   ]
  },
  {
   "cell_type": "code",
   "execution_count": null,
   "metadata": {
    "scrolled": true
   },
   "outputs": [],
   "source": [
    "print(min(x,w,y,z))   # smallest argument"
   ]
  },
  {
   "cell_type": "code",
   "execution_count": null,
   "metadata": {
    "scrolled": true
   },
   "outputs": [],
   "source": [
    "print(max(x,y,z,w))   # largest argument"
   ]
  },
  {
   "cell_type": "code",
   "execution_count": null,
   "metadata": {
    "scrolled": true
   },
   "outputs": [],
   "source": [
    "res = divmod(11,3)   # returns a pair(x//y,  x%y)\n",
    "\n",
    "print(res)"
   ]
  },
  {
   "cell_type": "code",
   "execution_count": null,
   "metadata": {
    "scrolled": true
   },
   "outputs": [],
   "source": [
    "bin(1024)   # Binary equivalent"
   ]
  },
  {
   "cell_type": "code",
   "execution_count": null,
   "metadata": {
    "scrolled": true
   },
   "outputs": [],
   "source": [
    "oct(10)   # Octal equivalent"
   ]
  },
  {
   "cell_type": "code",
   "execution_count": null,
   "metadata": {
    "scrolled": true
   },
   "outputs": [],
   "source": [
    "num = '20'\n",
    "hex(int(num))  # Hexadecimal equivalent"
   ]
  },
  {
   "cell_type": "code",
   "execution_count": null,
   "metadata": {
    "scrolled": true
   },
   "outputs": [],
   "source": [
    "x = 11/3\n",
    "print(x)\n",
    "x= round(x,0)   # x rounded to n digits after decimal point\n",
    "print(x)"
   ]
  },
  {
   "cell_type": "markdown",
   "metadata": {},
   "source": [
    "# Library Functions"
   ]
  },
  {
   "cell_type": "code",
   "execution_count": null,
   "metadata": {
    "scrolled": true
   },
   "outputs": [],
   "source": [
    "# Mathematical functions in math module\n",
    "import math\n",
    "print(math.pi)  # Get the Pi constant\n",
    "\n",
    "# Calculate the area of circle\n",
    "area = math.pi * 5 * 5\n",
    "print(\"Area = \",round(area,2))"
   ]
  },
  {
   "cell_type": "code",
   "execution_count": null,
   "metadata": {
    "scrolled": true
   },
   "outputs": [],
   "source": [
    "print(math.e)   # Get the e constant"
   ]
  },
  {
   "cell_type": "code",
   "execution_count": null,
   "metadata": {
    "scrolled": true
   },
   "outputs": [],
   "source": [
    "x = 7\n",
    "print(math.factorial(x))  # factorial of x"
   ]
  },
  {
   "cell_type": "code",
   "execution_count": null,
   "metadata": {
    "scrolled": true
   },
   "outputs": [],
   "source": [
    "x = -3.45\n",
    "print(math.fabs(x))    # absolute value of float x"
   ]
  },
  {
   "cell_type": "code",
   "execution_count": null,
   "metadata": {
    "scrolled": true
   },
   "outputs": [],
   "source": [
    "x = math.e\n",
    "print(math.log(x))    # natural log of x(log x to the base e)"
   ]
  },
  {
   "cell_type": "code",
   "execution_count": null,
   "metadata": {
    "scrolled": true
   },
   "outputs": [],
   "source": [
    "x = 100\n",
    "print(math.log10(x))   # base-10 logarithm of x"
   ]
  },
  {
   "cell_type": "code",
   "execution_count": null,
   "metadata": {
    "scrolled": true
   },
   "outputs": [],
   "source": [
    "print(math.e**3)\n",
    "print(math.exp(3))    # e raised to x"
   ]
  },
  {
   "cell_type": "code",
   "execution_count": null,
   "metadata": {
    "scrolled": true
   },
   "outputs": [],
   "source": [
    "x =45.99\n",
    "print(math.trunc(x))   # truncates to integer\n",
    "print(round(x,0))"
   ]
  },
  {
   "cell_type": "code",
   "execution_count": null,
   "metadata": {
    "scrolled": true
   },
   "outputs": [],
   "source": [
    "x = 56.72  # 57,58,59,60,....\n",
    "print(math.ceil(x)) #above  # smallest integer >=x"
   ]
  },
  {
   "cell_type": "code",
   "execution_count": null,
   "metadata": {
    "scrolled": true
   },
   "outputs": [],
   "source": [
    "x = 34.10  # 34,33,32,31,...\n",
    "print(math.floor(x)) #below  # largest integer <=x"
   ]
  },
  {
   "cell_type": "code",
   "execution_count": null,
   "metadata": {
    "scrolled": true
   },
   "outputs": [],
   "source": [
    "x = 3.56\n",
    "res= math.modf(x)   # returns the tuple of fractional and integer parts of x as a seperate\n",
    "\n",
    "\n",
    "print(res)\n",
    "print('Fractional Part = ', res[0])\n",
    "print('Integer Part = ', res[1])"
   ]
  },
  {
   "cell_type": "code",
   "execution_count": null,
   "metadata": {
    "scrolled": true
   },
   "outputs": [],
   "source": [
    "# Trignometric functions in math module\n",
    "#import math\n",
    "x = 1.5707963267948966\n",
    "print(math.degrees(x))    # radians to degree"
   ]
  },
  {
   "cell_type": "code",
   "execution_count": null,
   "metadata": {
    "scrolled": true
   },
   "outputs": [],
   "source": [
    "x = 90\n",
    "print(math.radians(x))   # degrees to radians"
   ]
  },
  {
   "cell_type": "code",
   "execution_count": null,
   "metadata": {
    "scrolled": true
   },
   "outputs": [],
   "source": [
    "x=1.5707963267948966\n",
    "print(math.sin(x))      # sine of x radians"
   ]
  },
  {
   "cell_type": "code",
   "execution_count": null,
   "metadata": {
    "scrolled": true
   },
   "outputs": [],
   "source": [
    "print(math.cos(x))      # cosine of x radians"
   ]
  },
  {
   "cell_type": "code",
   "execution_count": null,
   "metadata": {
    "scrolled": true
   },
   "outputs": [],
   "source": [
    "print(math.tan(x))      # tan of x radians"
   ]
  },
  {
   "cell_type": "code",
   "execution_count": null,
   "metadata": {
    "scrolled": true
   },
   "outputs": [],
   "source": [
    "print(math.sinh(x))     # hyperbolic sine of x"
   ]
  },
  {
   "cell_type": "code",
   "execution_count": null,
   "metadata": {
    "scrolled": true
   },
   "outputs": [],
   "source": [
    "print(math.cosh(x))     # hyperbolic cosine of x"
   ]
  },
  {
   "cell_type": "code",
   "execution_count": null,
   "metadata": {
    "scrolled": true
   },
   "outputs": [],
   "source": [
    "print(math.tanh(x))     # hperbolic tan of x"
   ]
  },
  {
   "cell_type": "code",
   "execution_count": null,
   "metadata": {
    "scrolled": true
   },
   "outputs": [],
   "source": [
    "x = 1\n",
    "print(math.asin(x))    # sine inverse of x in radians"
   ]
  },
  {
   "cell_type": "code",
   "execution_count": null,
   "metadata": {
    "scrolled": true
   },
   "outputs": [],
   "source": [
    "print(math.acos(x))    # cosine inverse of x in radians"
   ]
  },
  {
   "cell_type": "code",
   "execution_count": null,
   "metadata": {
    "scrolled": true
   },
   "outputs": [],
   "source": [
    "print(math.atan(x))    # tan inverse of x in radians"
   ]
  },
  {
   "cell_type": "code",
   "execution_count": null,
   "metadata": {
    "scrolled": true
   },
   "outputs": [],
   "source": [
    "x = 4\n",
    "y = 3\n",
    "print(math.hypot(x,y))  # sqrt(x*x + y*y)"
   ]
  },
  {
   "cell_type": "markdown",
   "metadata": {},
   "source": [
    "## Random Number generation"
   ]
  },
  {
   "cell_type": "markdown",
   "metadata": {},
   "source": [
    "Random number can be generate using the random module\n"
   ]
  },
  {
   "cell_type": "code",
   "execution_count": null,
   "metadata": {
    "scrolled": true
   },
   "outputs": [],
   "source": [
    "import random"
   ]
  },
  {
   "cell_type": "code",
   "execution_count": null,
   "metadata": {
    "scrolled": true
   },
   "outputs": [],
   "source": [
    "random.seed()    # sets the current time as seed for random number generation"
   ]
  },
  {
   "cell_type": "code",
   "execution_count": null,
   "metadata": {
    "scrolled": true
   },
   "outputs": [],
   "source": [
    "x = 1.564353453456464\n",
    "random.seed(x)  # set x as seed for random number generation logic"
   ]
  },
  {
   "cell_type": "code",
   "execution_count": null,
   "metadata": {
    "scrolled": true
   },
   "outputs": [],
   "source": [
    "print(random.random())    # random number between 0 and 1"
   ]
  },
  {
   "cell_type": "code",
   "execution_count": null,
   "metadata": {
    "scrolled": true
   },
   "outputs": [],
   "source": [
    "print(random.randint(1,10))  # random integer number between the given range"
   ]
  },
  {
   "cell_type": "code",
   "execution_count": null,
   "metadata": {},
   "outputs": [],
   "source": [
    "random.seed()\n",
    "print(random.randint(1,10))"
   ]
  },
  {
   "cell_type": "markdown",
   "metadata": {},
   "source": [
    "## Comments and indentation"
   ]
  },
  {
   "cell_type": "markdown",
   "metadata": {},
   "source": [
    "Comments begins with #"
   ]
  },
  {
   "cell_type": "markdown",
   "metadata": {},
   "source": [
    "Multi-line comments should be written in a pair of '''  or \"\"\""
   ]
  },
  {
   "cell_type": "code",
   "execution_count": null,
   "metadata": {
    "scrolled": true
   },
   "outputs": [],
   "source": [
    "# This is a single line comment"
   ]
  },
  {
   "cell_type": "markdown",
   "metadata": {},
   "source": [
    "## Identation Matters"
   ]
  },
  {
   "cell_type": "code",
   "execution_count": null,
   "metadata": {
    "scrolled": true
   },
   "outputs": [],
   "source": [
    "a = 20  # Works fine"
   ]
  },
  {
   "cell_type": "code",
   "execution_count": null,
   "metadata": {
    "scrolled": true
   },
   "outputs": [],
   "source": [
    "a = 20\n",
    "b = 200# doesn't work\n",
    "\n",
    "if a==b:\n",
    "    print('a == b')\n",
    "    print(\"hi\")\n",
    "print('hello')\n",
    "\n",
    "# Use either 4 spaces or a tab for identation. \n",
    "# identation is mostly used to define the statement block in python"
   ]
  },
  {
   "cell_type": "markdown",
   "metadata": {},
   "source": [
    "## Multilining"
   ]
  },
  {
   "cell_type": "code",
   "execution_count": null,
   "metadata": {
    "scrolled": true
   },
   "outputs": [],
   "source": [
    "# If the statements are long, they can be written as multilines with each line except the last ending with a \\\n",
    "a=4;b=3;c=4;d=6;e=5\n",
    "\n",
    "#total = a+b+c+d+e\n",
    "\n",
    "total = a + \\\n",
    "        b + \\\n",
    "        c + \\\n",
    "        d + \\\n",
    "        e\n",
    "print(total)"
   ]
  },
  {
   "cell_type": "code",
   "execution_count": null,
   "metadata": {
    "scrolled": true
   },
   "outputs": [],
   "source": [
    "# Multiline statements within [], {} or () doesn't need \\\n",
    "\n",
    "days = ['Mon','Tue','Wed',\n",
    "        'Thu','Fri','Sat',\n",
    "        'Sun']\n",
    "print(days)"
   ]
  },
  {
   "cell_type": "markdown",
   "metadata": {},
   "source": [
    "### Write a Program that swaps the values of variables a and b. Do not use third variable.\n"
   ]
  },
  {
   "cell_type": "code",
   "execution_count": null,
   "metadata": {
    "scrolled": true
   },
   "outputs": [],
   "source": [
    "a = 20\n",
    "b = 30"
   ]
  },
  {
   "cell_type": "code",
   "execution_count": null,
   "metadata": {
    "scrolled": true
   },
   "outputs": [],
   "source": [
    "a,b = b,a"
   ]
  },
  {
   "cell_type": "code",
   "execution_count": null,
   "metadata": {
    "scrolled": true
   },
   "outputs": [],
   "source": [
    "print(\"a = \",a)\n",
    "print(\"b = \",b)\n",
    "\n",
    "# a = 30\n",
    "# b = 20"
   ]
  },
  {
   "cell_type": "markdown",
   "metadata": {},
   "source": [
    "### Write a Program to add two complex numbers. Print the result variable"
   ]
  },
  {
   "cell_type": "code",
   "execution_count": null,
   "metadata": {
    "scrolled": true
   },
   "outputs": [],
   "source": [
    "num1 = 12 + 3j\n",
    "num2 = 3 + 5j\n",
    "\n",
    "res = num1 + num2\n",
    "\n",
    "print(res)"
   ]
  },
  {
   "cell_type": "markdown",
   "metadata": {},
   "source": [
    "### Calculate the Area of rectangle if length = 30 and breadth = 20"
   ]
  },
  {
   "cell_type": "code",
   "execution_count": null,
   "metadata": {
    "scrolled": true
   },
   "outputs": [],
   "source": [
    "l = 30 \n",
    "b = 20 \n",
    "\n",
    "area = l * b\n",
    "\n",
    "print(\"Area of Rectangle = \",area)\n",
    "\n",
    "print (f\"Area of rectangle of l = {l} and b = {b} = {area}\" )\n",
    "\n",
    "print(\"Area of Rectangle = {}\".format(area))\n",
    "print(\"Area of Rectangle = {0}\".format(area))\n",
    "print(\"Area of Rectangle = {ar}\".format(ar=area))"
   ]
  },
  {
   "cell_type": "code",
   "execution_count": null,
   "metadata": {},
   "outputs": [],
   "source": [
    "name = 'Ganesh'\n",
    "surname = 'Attarde'\n",
    "city = 'Nashik'\n",
    "age = 38\n",
    "print('1. Name = ',name,' Surname = ',surname,' City = ',city,\" Age = \",age)\n",
    "print('2. Name = '+name+' Surname = '+surname + 'City = ', city + ' Age = '+str(age))\n",
    "print(f'3. Name = {name} Surname = {surname} City = {city} Age = {age}')\n",
    "print(\"4. Name = {} Surname = {} City = {} Age = {}\".format(name,surname,city,age))\n",
    "print(\"5. Name = {0} Surname = {1} City = {2} Age = {3}\".format(name,surname,city,age))\n",
    "print(\"6. Name = {3} Surname = {1} City = {0} Age = {2}\".format(city,surname,age,name))\n",
    "print(\"7. Name = {a} Surname = {b} City = {c} Age = {d}\".format(a=name,b=surname,c=city,d=age))\n",
    "print(\"8. Name = %s Surname = %s City = %s Age = %d\"%(name,surname,city,age))"
   ]
  },
  {
   "cell_type": "markdown",
   "metadata": {},
   "source": [
    "### Calculate the Area and Circumference of Circle if radius = 5"
   ]
  },
  {
   "cell_type": "code",
   "execution_count": null,
   "metadata": {
    "scrolled": true
   },
   "outputs": [],
   "source": [
    "# Area = Pi*r*r,  Circ = 2*Pi*r\n",
    "import math\n",
    "r = 5\n",
    "area = math.pi*r*r\n",
    "circ = 2*math.pi*r\n",
    "print(\"Area = %f\"%(area),end=\",\")\n",
    "print(\"Circ = \",round(circ,2))"
   ]
  },
  {
   "cell_type": "code",
   "execution_count": null,
   "metadata": {
    "scrolled": true
   },
   "outputs": [],
   "source": [
    "# WAP to find the square root of given number\n",
    "\n",
    "num = 25\n",
    "\n",
    "print(\"Square Root = \",num**0.5)"
   ]
  },
  {
   "cell_type": "code",
   "execution_count": null,
   "metadata": {
    "scrolled": true
   },
   "outputs": [],
   "source": [
    "# WAP to calculate Area of Triangle \n",
    "a = 3\n",
    "b = 4\n",
    "c = 5\n",
    "\n",
    "s = (a+b+c)/2\n",
    "\n",
    "area = (s*(s-a)*(s-b)*(s-c))**0.5\n",
    "\n",
    "print(\"Area = \",area)"
   ]
  },
  {
   "cell_type": "code",
   "execution_count": 2,
   "metadata": {
    "scrolled": true
   },
   "outputs": [
    {
     "name": "stdout",
     "output_type": "stream",
     "text": [
      "Temp in Celcius =  20.0\n"
     ]
    }
   ],
   "source": [
    "# WAP to convert Farh temp to celc\n",
    "tempF = 68\n",
    "tempC = (tempF-32)*5/9\n",
    "print(\"Temp in Celcius = \",tempC)"
   ]
  },
  {
   "cell_type": "code",
   "execution_count": 1,
   "metadata": {
    "scrolled": true
   },
   "outputs": [
    {
     "name": "stdout",
     "output_type": "stream",
     "text": [
      "47\n"
     ]
    }
   ],
   "source": [
    "# WAP to generate random number (between 1 - 50)\n",
    "\n",
    "import random\n",
    "\n",
    "random.seed()\n",
    "\n",
    "print(random.randint(1,50))"
   ]
  },
  {
   "cell_type": "code",
   "execution_count": null,
   "metadata": {
    "scrolled": true
   },
   "outputs": [],
   "source": [
    "#WAP to swap two variables \n",
    "import random\n",
    "\n",
    "random.seed()\n",
    "\n",
    "a = random.randint(1,50)\n",
    "b = random.randint(1,50)\n",
    "\n",
    "print(f\"Before Swap a = {a} b = {b}\")\n",
    "a,b = b,a\n",
    "\n",
    "print(f\"After Swap a = {a} b = {b}\")"
   ]
  },
  {
   "cell_type": "code",
   "execution_count": null,
   "metadata": {},
   "outputs": [],
   "source": [
    "# WAP to print calendar of current month\n",
    "import calendar\n",
    "\n",
    "print(calendar.month(2021,12))\n"
   ]
  },
  {
   "cell_type": "code",
   "execution_count": null,
   "metadata": {},
   "outputs": [],
   "source": [
    "# WAP to print calendar of current year\n",
    "import calendar\n",
    "\n",
    "print(calendar.calendar(2021,3,1,5))"
   ]
  },
  {
   "cell_type": "code",
   "execution_count": 9,
   "metadata": {},
   "outputs": [
    {
     "ename": "IndentationError",
     "evalue": "unexpected indent (Temp/ipykernel_11084/604725579.py, line 5)",
     "output_type": "error",
     "traceback": [
      "\u001b[1;36m  File \u001b[1;32m\"C:\\Users\\punee\\AppData\\Local\\Temp/ipykernel_11084/604725579.py\"\u001b[1;36m, line \u001b[1;32m5\u001b[0m\n\u001b[1;33m    print(my_list)\u001b[0m\n\u001b[1;37m    ^\u001b[0m\n\u001b[1;31mIndentationError\u001b[0m\u001b[1;31m:\u001b[0m unexpected indent\n"
     ]
    }
   ],
   "source": [
    " "
   ]
  },
  {
   "cell_type": "code",
   "execution_count": null,
   "metadata": {},
   "outputs": [],
   "source": []
  },
  {
   "cell_type": "code",
   "execution_count": null,
   "metadata": {},
   "outputs": [],
   "source": []
  }
 ],
 "metadata": {
  "kernelspec": {
   "display_name": "Python 3 (ipykernel)",
   "language": "python",
   "name": "python3"
  },
  "language_info": {
   "codemirror_mode": {
    "name": "ipython",
    "version": 3
   },
   "file_extension": ".py",
   "mimetype": "text/x-python",
   "name": "python",
   "nbconvert_exporter": "python",
   "pygments_lexer": "ipython3",
   "version": "3.9.7"
  }
 },
 "nbformat": 4,
 "nbformat_minor": 4
}
