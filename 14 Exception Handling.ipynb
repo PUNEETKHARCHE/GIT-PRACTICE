{
 "cells": [
  {
   "cell_type": "code",
   "execution_count": null,
   "metadata": {},
   "outputs": [],
   "source": [
    "# While creating and executing a python program, things may go wrong at two different stages- \n",
    "#    1. During Compilation\n",
    "#    2. During Execution"
   ]
  },
  {
   "cell_type": "code",
   "execution_count": null,
   "metadata": {},
   "outputs": [],
   "source": [
    "# Errors that occur during compilation are called syntax errors.\n",
    "\n",
    "# Errors that occur during execution are called Exceptions."
   ]
  },
  {
   "cell_type": "markdown",
   "metadata": {},
   "source": [
    "### Syntax Errors"
   ]
  },
  {
   "cell_type": "code",
   "execution_count": null,
   "metadata": {},
   "outputs": [],
   "source": [
    "# Syntax Errors occurs due to typing mistakes done by programmer.\n",
    "# If the Program is not as per language grammer, it is detected by Interpreter/Compiler\n",
    "# If Syntax Error occurs, programmer has to correct it according to language grammer."
   ]
  },
  {
   "cell_type": "code",
   "execution_count": null,
   "metadata": {},
   "outputs": [],
   "source": [
    "# Common syntax errors are,\n",
    "#  1. Leaving out a symbol, such as a colon, comma or brackets\n",
    "#  2. Misspelling a keyword\n",
    "#  3. Incorrect Indentation\n",
    "#  4. Empty if, else, while, for, function, class, method\n",
    "#  5. Missing :\n",
    "#  6. Incorrect number of positional arguments"
   ]
  },
  {
   "cell_type": "code",
   "execution_count": 12,
   "metadata": {},
   "outputs": [
    {
     "ename": "NameError",
     "evalue": "name 'num1' is not defined",
     "output_type": "error",
     "traceback": [
      "\u001b[0;31m---------------------------------------------------------------------------\u001b[0m",
      "\u001b[0;31mNameError\u001b[0m                                 Traceback (most recent call last)",
      "\u001b[0;32m<ipython-input-12-23dfbd187f43>\u001b[0m in \u001b[0;36m<module>\u001b[0;34m\u001b[0m\n\u001b[1;32m      4\u001b[0m \u001b[0;34m\u001b[0m\u001b[0m\n\u001b[1;32m      5\u001b[0m \u001b[0mnum2\u001b[0m \u001b[0;34m=\u001b[0m \u001b[0;36m20\u001b[0m\u001b[0;34m\u001b[0m\u001b[0;34m\u001b[0m\u001b[0m\n\u001b[0;32m----> 6\u001b[0;31m \u001b[0;32mif\u001b[0m \u001b[0mnum1\u001b[0m\u001b[0;34m>\u001b[0m\u001b[0;36m20\u001b[0m\u001b[0;34m:\u001b[0m\u001b[0;34m\u001b[0m\u001b[0;34m\u001b[0m\u001b[0m\n\u001b[0m\u001b[1;32m      7\u001b[0m     \u001b[0;32mpass\u001b[0m\u001b[0;34m\u001b[0m\u001b[0;34m\u001b[0m\u001b[0m\n",
      "\u001b[0;31mNameError\u001b[0m: name 'num1' is not defined"
     ]
    }
   ],
   "source": [
    "# Example\n",
    "def fun():\n",
    "    pass\n",
    "    \n",
    "num2 = 20\n",
    "if num1>20:\n",
    "    pass"
   ]
  },
  {
   "cell_type": "markdown",
   "metadata": {},
   "source": [
    "### Exceptions"
   ]
  },
  {
   "cell_type": "code",
   "execution_count": null,
   "metadata": {},
   "outputs": [],
   "source": [
    "# Runtime errors are called as Exceptions\n",
    "# Exceptions are detected by Python Runtime environment \n"
   ]
  },
  {
   "cell_type": "code",
   "execution_count": null,
   "metadata": {},
   "outputs": [],
   "source": [
    "# Examples of Runtime errors/exceptions\n",
    "\n",
    "#   1. Memory Related - Stack/Heap overflow, Exceeding array bounds\n",
    "#   2. Arithmetic Related - Divide by Zero, Arithmetic overflow/underflow\n",
    "#   3. Others - Attempt to use an unassigned reference, File not found"
   ]
  },
  {
   "cell_type": "code",
   "execution_count": 17,
   "metadata": {},
   "outputs": [
    {
     "name": "stdout",
     "output_type": "stream",
     "text": [
      "Enter a number 5\n",
      "Enter a number 0\n"
     ]
    },
    {
     "ename": "ZeroDivisionError",
     "evalue": "division by zero",
     "output_type": "error",
     "traceback": [
      "\u001b[0;31m---------------------------------------------------------------------------\u001b[0m",
      "\u001b[0;31mZeroDivisionError\u001b[0m                         Traceback (most recent call last)",
      "\u001b[0;32m<ipython-input-17-f4f8478db778>\u001b[0m in \u001b[0;36m<module>\u001b[0;34m\u001b[0m\n\u001b[1;32m      2\u001b[0m \u001b[0ma\u001b[0m \u001b[0;34m=\u001b[0m \u001b[0mint\u001b[0m\u001b[0;34m(\u001b[0m\u001b[0minput\u001b[0m\u001b[0;34m(\u001b[0m\u001b[0;34m'Enter a number '\u001b[0m\u001b[0;34m)\u001b[0m\u001b[0;34m)\u001b[0m\u001b[0;34m\u001b[0m\u001b[0;34m\u001b[0m\u001b[0m\n\u001b[1;32m      3\u001b[0m \u001b[0mb\u001b[0m \u001b[0;34m=\u001b[0m \u001b[0mint\u001b[0m\u001b[0;34m(\u001b[0m\u001b[0minput\u001b[0m\u001b[0;34m(\u001b[0m\u001b[0;34m'Enter a number '\u001b[0m\u001b[0;34m)\u001b[0m\u001b[0;34m)\u001b[0m\u001b[0;34m\u001b[0m\u001b[0;34m\u001b[0m\u001b[0m\n\u001b[0;32m----> 4\u001b[0;31m \u001b[0mc\u001b[0m \u001b[0;34m=\u001b[0m \u001b[0ma\u001b[0m\u001b[0;34m/\u001b[0m\u001b[0mb\u001b[0m\u001b[0;34m\u001b[0m\u001b[0;34m\u001b[0m\u001b[0m\n\u001b[0m\u001b[1;32m      5\u001b[0m \u001b[0mprint\u001b[0m\u001b[0;34m(\u001b[0m\u001b[0mc\u001b[0m\u001b[0;34m)\u001b[0m\u001b[0;34m\u001b[0m\u001b[0;34m\u001b[0m\u001b[0m\n",
      "\u001b[0;31mZeroDivisionError\u001b[0m: division by zero"
     ]
    }
   ],
   "source": [
    "# Example\n",
    "a = int(input('Enter a number '))\n",
    "b = int(input('Enter a number '))\n",
    "c = a/b\n",
    "print(c)"
   ]
  },
  {
   "cell_type": "code",
   "execution_count": 15,
   "metadata": {},
   "outputs": [
    {
     "ename": "NameError",
     "evalue": "name 'd' is not defined",
     "output_type": "error",
     "traceback": [
      "\u001b[0;31m---------------------------------------------------------------------------\u001b[0m",
      "\u001b[0;31mNameError\u001b[0m                                 Traceback (most recent call last)",
      "\u001b[0;32m<ipython-input-15-059579fa60c6>\u001b[0m in \u001b[0;36m<module>\u001b[0;34m\u001b[0m\n\u001b[1;32m      1\u001b[0m \u001b[0ma\u001b[0m\u001b[0;34m,\u001b[0m\u001b[0mb\u001b[0m \u001b[0;34m=\u001b[0m \u001b[0;36m10\u001b[0m\u001b[0;34m,\u001b[0m\u001b[0;36m20\u001b[0m\u001b[0;34m\u001b[0m\u001b[0;34m\u001b[0m\u001b[0m\n\u001b[0;32m----> 2\u001b[0;31m \u001b[0mc\u001b[0m \u001b[0;34m=\u001b[0m \u001b[0ma\u001b[0m\u001b[0;34m/\u001b[0m\u001b[0mb\u001b[0m\u001b[0;34m*\u001b[0m\u001b[0md\u001b[0m\u001b[0;34m\u001b[0m\u001b[0;34m\u001b[0m\u001b[0m\n\u001b[0m",
      "\u001b[0;31mNameError\u001b[0m: name 'd' is not defined"
     ]
    }
   ],
   "source": [
    "a,b = 10,20\n",
    "c = a/b*d"
   ]
  },
  {
   "cell_type": "markdown",
   "metadata": {},
   "source": [
    "### How to handle the exceptions?"
   ]
  },
  {
   "cell_type": "code",
   "execution_count": null,
   "metadata": {},
   "outputs": [],
   "source": [
    "#  We can use try and except blocks to handle the exceptions.\n",
    "\n",
    "# The statements which you suspect may go wrong at runtime should be enclosed within a try block.\n",
    "\n",
    "# and if exceptions occurs the the exception handling statements should be enclosed in except block."
   ]
  },
  {
   "cell_type": "code",
   "execution_count": 22,
   "metadata": {},
   "outputs": [
    {
     "name": "stdout",
     "output_type": "stream",
     "text": [
      "Enter a number 5\n",
      "Enter a number 2\n",
      "Error: Undefined Symbol\n",
      "After the Try Block\n"
     ]
    }
   ],
   "source": [
    "# Example\n",
    "\n",
    "\n",
    "try:\n",
    "    a = int(input('Enter a number '))\n",
    "    b = int(input('Enter a number '))\n",
    "    c = a/b*d\n",
    "    print('c = ',c)\n",
    "except ZeroDivisionError:\n",
    "    print('Error: Denominator is 0')\n",
    "except ValueError:\n",
    "    print(\"Error: Parsing Error\")\n",
    "except NameError:\n",
    "    print(\"Error: Undefined Symbol\")\n",
    "\n",
    "print('After the Try Block')\n"
   ]
  },
  {
   "cell_type": "code",
   "execution_count": null,
   "metadata": {},
   "outputs": [],
   "source": [
    "# If no exception occurs during execution of statements in try block, \n",
    "# control goes to first line after the except block.\n",
    "\n",
    "# If an exception occurs during excution of statments in try block,\n",
    "# an exception is raised and rest of the try block is skipped.\n",
    "# Control goes now to the except block.\n",
    "# Here, if the type of exception raised matched the exception named after \n",
    "#    except keyword, then that except block is executed otherwise,\n",
    "#    default exception handler catches the exception, print stack trace and terminated executions"
   ]
  },
  {
   "cell_type": "code",
   "execution_count": null,
   "metadata": {},
   "outputs": [],
   "source": [
    "try:\n",
    "    a = int(input('Enter a number '))\n",
    "    b = int(input('Enter a number '))\n",
    "    c = a/b*d\n",
    "    print('c = ',c)\n",
    "except ZeroDivisionError:\n",
    "    print('Error: Denominator is 0')"
   ]
  },
  {
   "cell_type": "code",
   "execution_count": null,
   "metadata": {},
   "outputs": [],
   "source": [
    "try:\n",
    "    a = int(input('Enter a number '))\n",
    "    b = int(input('Enter a number '))\n",
    "    c = a/b*d\n",
    "    print('c = ',c)\n",
    "except ZeroDivisionError:\n",
    "    print('Error: Denominator is 0')\n",
    "except NameError:\n",
    "    print('d Undefined variable')"
   ]
  },
  {
   "cell_type": "code",
   "execution_count": null,
   "metadata": {},
   "outputs": [],
   "source": [
    "# Multiple except blocks for one try block can be added\n",
    "# At a time only one except block goes to work.\n"
   ]
  },
  {
   "cell_type": "code",
   "execution_count": 29,
   "metadata": {},
   "outputs": [
    {
     "name": "stdout",
     "output_type": "stream",
     "text": [
      "Enter a number 5\n",
      "Enter a number a\n",
      "Exception Occures\n"
     ]
    }
   ],
   "source": [
    "# In case of Same action has to taken for multiple exceptions then we can put these exceptions in a tuple\n",
    "\n",
    "try:\n",
    "    a = int(input('Enter a number '))\n",
    "    b = int(input('Enter a number '))\n",
    "    c = a/b\n",
    "    print('c = ',c)\n",
    "except:\n",
    "    print('Exception Occures')"
   ]
  },
  {
   "cell_type": "markdown",
   "metadata": {},
   "source": [
    "### else block"
   ]
  },
  {
   "cell_type": "code",
   "execution_count": null,
   "metadata": {},
   "outputs": [],
   "source": [
    "# The try .. except statement may also have an optional else block.\n",
    "# If it is present, it must present after all the except blocks.\n",
    "# Control goes to else block if no exception occurs during execution of the try block."
   ]
  },
  {
   "cell_type": "code",
   "execution_count": 32,
   "metadata": {},
   "outputs": [
    {
     "name": "stdout",
     "output_type": "stream",
     "text": [
      "10 100\n",
      "20 400\n",
      "30 900\n",
      "40 1600\n",
      "50 2500\n",
      "Total numbers processed  5\n"
     ]
    }
   ],
   "source": [
    "try:\n",
    "    lst = [10,20,30,40,50]\n",
    "    for num in lst:\n",
    "        i = int(num)\n",
    "        j = i*i\n",
    "        print(i,j)\n",
    "except ValueError:\n",
    "    print('Invalid type')\n",
    "else:\n",
    "    print(\"Total numbers processed \", len(lst))\n",
    "    del(lst)"
   ]
  },
  {
   "cell_type": "markdown",
   "metadata": {},
   "source": [
    "### finally block"
   ]
  },
  {
   "cell_type": "code",
   "execution_count": null,
   "metadata": {},
   "outputs": [],
   "source": [
    "#  finally block is optional\n",
    "#  Code in finally always runs, no matter exception occurs or not occurs.\n",
    "#  finally block is placed after except blocks (if they exist)\n",
    "#  try block must have except block and/or finally block.\n",
    "\n",
    "#  finally block is commonly used for releasing external resources like files, network connections\n",
    "#      or database connections, irrespective of whether the use of the resource was successful or not."
   ]
  },
  {
   "cell_type": "code",
   "execution_count": 34,
   "metadata": {},
   "outputs": [
    {
     "name": "stdout",
     "output_type": "stream",
     "text": [
      "Enter a number 5\n",
      "Enter a number 0\n",
      "Error: Denominator is 0\n",
      "Program exited successfully\n"
     ]
    }
   ],
   "source": [
    "try:\n",
    "    a = int(input('Enter a number '))\n",
    "    b = int(input('Enter a number '))\n",
    "    c = a/b\n",
    "    print('c = ',c)\n",
    "except ZeroDivisionError:\n",
    "    print('Error: Denominator is 0')\n",
    "except NameError:\n",
    "    print('Error: Undefined variable')\n",
    "finally:\n",
    "    print('Program exited successfully')"
   ]
  },
  {
   "cell_type": "code",
   "execution_count": null,
   "metadata": {},
   "outputs": [],
   "source": [
    "# Program with try-except-else-finally"
   ]
  },
  {
   "cell_type": "code",
   "execution_count": 36,
   "metadata": {},
   "outputs": [
    {
     "name": "stdout",
     "output_type": "stream",
     "text": [
      "Enter a number 5\n",
      "Enter a number 0\n",
      "Error: Denominator is 0\n",
      "Program exited successfully\n"
     ]
    }
   ],
   "source": [
    "try:\n",
    "    a = int(input('Enter a number '))\n",
    "    b = int(input('Enter a number '))\n",
    "    c = a/b\n",
    "    print('c = ',c)\n",
    "except ZeroDivisionError:\n",
    "    print('Error: Denominator is 0')\n",
    "except NameError:\n",
    "    print('Undefined variable')\n",
    "else:\n",
    "    print('No Exception occured.')\n",
    "finally:\n",
    "    print('Program exited successfully')"
   ]
  },
  {
   "cell_type": "code",
   "execution_count": null,
   "metadata": {},
   "outputs": [],
   "source": [
    "# a = 20\n",
    "# b = 3\n",
    "\n",
    "# Output?"
   ]
  },
  {
   "cell_type": "code",
   "execution_count": 37,
   "metadata": {},
   "outputs": [
    {
     "name": "stdout",
     "output_type": "stream",
     "text": [
      "index should be less than length of list\n",
      "[1, 2, 3, 4, 5, 6, 7]\n",
      "Ganesh ATtarde\n"
     ]
    }
   ],
   "source": [
    "\n",
    "list1 = [1,2,3,4,5,6,7]\n",
    "i = 100\n",
    "if i<len(list1):\n",
    "    list1[i] = 10\n",
    "else:\n",
    "    print(\"index should be less than length of list\")\n",
    "print(list1)\n",
    "\n",
    "\n",
    "print(\"Ganesh ATtarde\")"
   ]
  },
  {
   "cell_type": "code",
   "execution_count": 41,
   "metadata": {},
   "outputs": [
    {
     "name": "stdout",
     "output_type": "stream",
     "text": [
      "Index value should be less than  7\n"
     ]
    }
   ],
   "source": [
    "list1 = [1,2,3,4,5,6,7]\n",
    "try:\n",
    "    i = 40\n",
    "    list1[i] = 10\n",
    "\n",
    "    print(list1)\n",
    "except IndexError:\n",
    "    print(\"Index value should be less than \",len(list1))"
   ]
  },
  {
   "cell_type": "code",
   "execution_count": 49,
   "metadata": {},
   "outputs": [
    {
     "name": "stdout",
     "output_type": "stream",
     "text": [
      "[54, 56, 76, 54]\n"
     ]
    }
   ],
   "source": [
    "def check_even(num):\n",
    "    if num%2==0:\n",
    "        return 1\n",
    "    else:\n",
    "        return 0\n",
    "\n",
    "list1 = [23,54,56,543,76,23,54,43]\n",
    "\n",
    "even_list = filter(check_even,list1)\n",
    "\n",
    "print(list(even_list))"
   ]
  },
  {
   "cell_type": "code",
   "execution_count": 48,
   "metadata": {},
   "outputs": [
    {
     "data": {
      "text/plain": [
       "0"
      ]
     },
     "execution_count": 48,
     "metadata": {},
     "output_type": "execute_result"
    }
   ],
   "source": [
    "fun = lambda num:1 if num%2==0 else 0\n",
    "\n",
    "fun(21)"
   ]
  },
  {
   "cell_type": "code",
   "execution_count": 52,
   "metadata": {},
   "outputs": [
    {
     "name": "stdout",
     "output_type": "stream",
     "text": [
      "['Ganesh', 'Mahesh', 'Yash']\n"
     ]
    }
   ],
   "source": [
    "names = ['Ganesh','Mahesh','Yash','Kirti','Nilam','Vijay']\n",
    "\n",
    "def search(name):\n",
    "    if 'sh' in name:\n",
    "        return 1\n",
    "    else:\n",
    "        return 0\n",
    "\n",
    "list1 = filter(search,names)\n",
    "\n",
    "print(list(list1))"
   ]
  },
  {
   "cell_type": "code",
   "execution_count": null,
   "metadata": {},
   "outputs": [],
   "source": []
  }
 ],
 "metadata": {
  "kernelspec": {
   "display_name": "Python 3",
   "language": "python",
   "name": "python3"
  },
  "language_info": {
   "codemirror_mode": {
    "name": "ipython",
    "version": 3
   },
   "file_extension": ".py",
   "mimetype": "text/x-python",
   "name": "python",
   "nbconvert_exporter": "python",
   "pygments_lexer": "ipython3",
   "version": "3.8.8"
  }
 },
 "nbformat": 4,
 "nbformat_minor": 4
}
