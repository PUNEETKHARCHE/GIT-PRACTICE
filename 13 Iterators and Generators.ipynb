{
 "cells": [
  {
   "cell_type": "markdown",
   "metadata": {},
   "source": [
    "# Iterators and Generators\n",
    "\n",
    "> An Object is called iterable if it is capable of running its members one at a time. Containers like string, list, tuple are iterables.\n",
    "\n",
    "> Iterator is an object which is used to iterate over an iterable. An iterable entity is always provides an iterator object.\n",
    "\n",
    "> Iterators are implemented in for loops, comprehensions, generators, etc\n"
   ]
  },
  {
   "cell_type": "markdown",
   "metadata": {},
   "source": [
    "### zip( ) Function - It typically receives multiple iterable objects and returns an iterator of tuples based on them. "
   ]
  },
  {
   "cell_type": "code",
   "execution_count": 9,
   "metadata": {},
   "outputs": [
    {
     "name": "stdout",
     "output_type": "stream",
     "text": [
      "[1, 2, 3, 4]\n",
      "['one', 'two', 'three', 'four', 'Five']\n"
     ]
    }
   ],
   "source": [
    "words = ['one','two','three','four','Five']\n",
    "numbers = [1,2,3,4]\n",
    "\n",
    "for var in numbers,words:\n",
    "    print(var)\n"
   ]
  },
  {
   "cell_type": "code",
   "execution_count": 10,
   "metadata": {},
   "outputs": [
    {
     "name": "stdout",
     "output_type": "stream",
     "text": [
      "[('one', 1), ('two', 2), ('three', 3), ('four', 4)]\n"
     ]
    }
   ],
   "source": [
    "mylist = []\n",
    "for ele in zip(words,numbers):\n",
    "    mylist.append(ele)\n",
    "print(mylist)"
   ]
  },
  {
   "cell_type": "code",
   "execution_count": 11,
   "metadata": {},
   "outputs": [
    {
     "name": "stdout",
     "output_type": "stream",
     "text": [
      "[(4, 'Ganesh'), (7, 'Nilesh'), (3, 'Mahesh'), (2, 'Suraj')]\n"
     ]
    }
   ],
   "source": [
    "rollno = [4,7,3,2]\n",
    "names = ['Ganesh','Nilesh','Mahesh','Suraj']\n",
    "\n",
    "mydata = []\n",
    "for var in zip(rollno,names):\n",
    "    mydata.append(var)\n",
    "    \n",
    "print(mydata)"
   ]
  },
  {
   "cell_type": "code",
   "execution_count": 12,
   "metadata": {},
   "outputs": [
    {
     "name": "stdout",
     "output_type": "stream",
     "text": [
      "one 1\n",
      "two 2\n",
      "three 3\n",
      "four 4\n"
     ]
    }
   ],
   "source": [
    "for ele in zip(words,numbers):\n",
    "    print(*ele)"
   ]
  },
  {
   "cell_type": "code",
   "execution_count": 13,
   "metadata": {},
   "outputs": [
    {
     "name": "stdout",
     "output_type": "stream",
     "text": [
      "one 1\n",
      "two 2\n",
      "three 3\n",
      "four 4\n"
     ]
    }
   ],
   "source": [
    "for w,n in zip(words,numbers):\n",
    "    print(w,n)"
   ]
  },
  {
   "cell_type": "markdown",
   "metadata": {},
   "source": [
    "A list can be also be generate from the iterator of tuples which is returns by zip( )"
   ]
  },
  {
   "cell_type": "code",
   "execution_count": 14,
   "metadata": {},
   "outputs": [],
   "source": [
    "words = ['one','two','three','four']\n",
    "numbers = [1,2,3,4]"
   ]
  },
  {
   "cell_type": "code",
   "execution_count": 15,
   "metadata": {},
   "outputs": [
    {
     "name": "stdout",
     "output_type": "stream",
     "text": [
      "<class 'zip'>\n"
     ]
    }
   ],
   "source": [
    "it = zip(words,numbers)\n",
    "print(type(it))\n",
    "my_list = list(it)\n"
   ]
  },
  {
   "cell_type": "code",
   "execution_count": 16,
   "metadata": {},
   "outputs": [
    {
     "name": "stdout",
     "output_type": "stream",
     "text": [
      "[('one', 1), ('two', 2), ('three', 3), ('four', 4)]\n"
     ]
    }
   ],
   "source": [
    "print(my_list)"
   ]
  },
  {
   "cell_type": "markdown",
   "metadata": {},
   "source": [
    "The Values can be unzipped from the list into tuples using *"
   ]
  },
  {
   "cell_type": "code",
   "execution_count": 18,
   "metadata": {},
   "outputs": [
    {
     "name": "stdout",
     "output_type": "stream",
     "text": [
      "['one', 'two', 'three', 'four']\n",
      "[1, 2, 3, 4]\n"
     ]
    }
   ],
   "source": [
    "w,n = zip(*my_list)\n",
    "print(list(w))\n",
    "print(list(n))"
   ]
  },
  {
   "cell_type": "markdown",
   "metadata": {},
   "source": [
    "## Iterators:  \n",
    "We know that containers objects like string,list,tuple,set,dictionary, etc can be iterated using a for loop as in"
   ]
  },
  {
   "cell_type": "code",
   "execution_count": 19,
   "metadata": {},
   "outputs": [
    {
     "name": "stdout",
     "output_type": "stream",
     "text": [
      "G\n",
      "o\n",
      "o\n",
      "d\n",
      " \n",
      "M\n",
      "o\n",
      "r\n",
      "n\n",
      "i\n",
      "n\n",
      "g\n"
     ]
    }
   ],
   "source": [
    "for ch in 'Good Morning':\n",
    "    print(ch)\n",
    "#print(dir(list))"
   ]
  },
  {
   "cell_type": "code",
   "execution_count": 36,
   "metadata": {},
   "outputs": [
    {
     "name": "stdout",
     "output_type": "stream",
     "text": [
      "1\n",
      "2\n",
      "3\n",
      "4\n",
      "5\n",
      "6\n",
      "5\n",
      "6\n",
      "7\n",
      "3\n",
      "8\n",
      "8\n",
      "8\n",
      "8\n"
     ]
    }
   ],
   "source": [
    "for num in (1,2,3,4,5,6,5,6,7,3,8,8,8,8):\n",
    "    print(num)\n"
   ]
  },
  {
   "cell_type": "code",
   "execution_count": 26,
   "metadata": {},
   "outputs": [
    {
     "name": "stdout",
     "output_type": "stream",
     "text": [
      "['__and__', '__class__', '__contains__', '__delattr__', '__dir__', '__doc__', '__eq__', '__format__', '__ge__', '__getattribute__', '__gt__', '__hash__', '__iand__', '__init__', '__init_subclass__', '__ior__', '__isub__', '__iter__', '__ixor__', '__le__', '__len__', '__lt__', '__ne__', '__new__', '__or__', '__rand__', '__reduce__', '__reduce_ex__', '__repr__', '__ror__', '__rsub__', '__rxor__', '__setattr__', '__sizeof__', '__str__', '__sub__', '__subclasshook__', '__xor__', 'add', 'clear', 'copy', 'difference', 'difference_update', 'discard', 'intersection', 'intersection_update', 'isdisjoint', 'issubset', 'issuperset', 'pop', 'remove', 'symmetric_difference', 'symmetric_difference_update', 'union', 'update']\n"
     ]
    }
   ],
   "source": [
    "print(dir(set))"
   ]
  },
  {
   "cell_type": "code",
   "execution_count": null,
   "metadata": {},
   "outputs": [],
   "source": [
    "# In above code, for loops call __iter__( ) method of str/list. \n",
    "\n",
    "# This method returns an iterator object. \n",
    "\n",
    "# Every iterator object has a method __next__( ) which returns the next item in the str/list container.\n"
   ]
  },
  {
   "cell_type": "code",
   "execution_count": null,
   "metadata": {},
   "outputs": [],
   "source": [
    "# We can also call __iter__() and __next__() and get the same result"
   ]
  },
  {
   "cell_type": "code",
   "execution_count": 43,
   "metadata": {},
   "outputs": [
    {
     "name": "stdout",
     "output_type": "stream",
     "text": [
      "['__class__', '__delattr__', '__dir__', '__doc__', '__eq__', '__format__', '__ge__', '__getattribute__', '__gt__', '__hash__', '__init__', '__init_subclass__', '__iter__', '__le__', '__length_hint__', '__lt__', '__ne__', '__new__', '__next__', '__reduce__', '__reduce_ex__', '__repr__', '__setattr__', '__setstate__', '__sizeof__', '__str__', '__subclasshook__']\n",
      "3\n",
      "4\n",
      "5\n",
      "6\n",
      "8\n",
      "9\n"
     ]
    },
    {
     "ename": "StopIteration",
     "evalue": "",
     "output_type": "error",
     "traceback": [
      "\u001b[0;31m---------------------------------------------------------------------------\u001b[0m",
      "\u001b[0;31mStopIteration\u001b[0m                             Traceback (most recent call last)",
      "\u001b[0;32m<ipython-input-43-6e96e22befe8>\u001b[0m in \u001b[0;36m<module>\u001b[0;34m\u001b[0m\n\u001b[1;32m     10\u001b[0m \u001b[0mprint\u001b[0m\u001b[0;34m(\u001b[0m\u001b[0mi\u001b[0m\u001b[0;34m.\u001b[0m\u001b[0m__next__\u001b[0m\u001b[0;34m(\u001b[0m\u001b[0;34m)\u001b[0m\u001b[0;34m)\u001b[0m\u001b[0;34m\u001b[0m\u001b[0;34m\u001b[0m\u001b[0m\n\u001b[1;32m     11\u001b[0m \u001b[0mprint\u001b[0m\u001b[0;34m(\u001b[0m\u001b[0mi\u001b[0m\u001b[0;34m.\u001b[0m\u001b[0m__next__\u001b[0m\u001b[0;34m(\u001b[0m\u001b[0;34m)\u001b[0m\u001b[0;34m)\u001b[0m\u001b[0;34m\u001b[0m\u001b[0;34m\u001b[0m\u001b[0m\n\u001b[0;32m---> 12\u001b[0;31m \u001b[0mprint\u001b[0m\u001b[0;34m(\u001b[0m\u001b[0mi\u001b[0m\u001b[0;34m.\u001b[0m\u001b[0m__next__\u001b[0m\u001b[0;34m(\u001b[0m\u001b[0;34m)\u001b[0m\u001b[0;34m)\u001b[0m\u001b[0;34m\u001b[0m\u001b[0;34m\u001b[0m\u001b[0m\n\u001b[0m\u001b[1;32m     13\u001b[0m \u001b[0;34m\u001b[0m\u001b[0m\n\u001b[1;32m     14\u001b[0m \u001b[0;31m#i = my_list1.__iter__()\u001b[0m\u001b[0;34m\u001b[0m\u001b[0;34m\u001b[0m\u001b[0;34m\u001b[0m\u001b[0m\n",
      "\u001b[0;31mStopIteration\u001b[0m: "
     ]
    }
   ],
   "source": [
    "my_list1 = [3,4,5,6,8,9]\n",
    "\n",
    "i = my_list1.__iter__()  # i is an iterator object\n",
    "#print(i)\n",
    "print(dir(i))\n",
    "print(i.__next__())\n",
    "print(i.__next__())\n",
    "print(i.__next__())\n",
    "print(i.__next__())\n",
    "print(i.__next__())\n",
    "print(i.__next__())\n",
    "print(i.__next__())\n",
    "\n",
    "#i = my_list1.__iter__()\n",
    "#print(i.__next__())"
   ]
  },
  {
   "cell_type": "code",
   "execution_count": 37,
   "metadata": {},
   "outputs": [
    {
     "name": "stdout",
     "output_type": "stream",
     "text": [
      "1\n",
      "2\n",
      "3\n",
      "4\n",
      "5\n",
      "6\n"
     ]
    }
   ],
   "source": [
    "my_list1 = [1,2,3,4,5,6]\n",
    "for var in my_list1:\n",
    "    print(var)"
   ]
  },
  {
   "cell_type": "code",
   "execution_count": null,
   "metadata": {},
   "outputs": [],
   "source": [
    "# Instead of calling __iter__( ) and __next__( ), we can call the more convenient iter( ) and next( ). \n",
    "\n",
    "# These functions in turn call __iter__() and __next__() respectively.\n"
   ]
  },
  {
   "cell_type": "code",
   "execution_count": 42,
   "metadata": {},
   "outputs": [
    {
     "name": "stdout",
     "output_type": "stream",
     "text": [
      "First Iteration\n",
      "1\n",
      "2\n",
      "3\n",
      "4\n",
      "5\n",
      "Second Iteration\n",
      "1\n",
      "2\n",
      "3\n",
      "4\n",
      "5\n",
      "Third Iteration\n",
      "1\n",
      "2\n",
      "3\n",
      "4\n",
      "5\n"
     ]
    }
   ],
   "source": [
    "my_list1 = [1,2,3,4,5]\n",
    "i = iter(my_list1)\n",
    "print('First Iteration')\n",
    "print(next(i))\n",
    "print(next(i))\n",
    "print(next(i))\n",
    "print(next(i))\n",
    "print(next(i))\n",
    "\n",
    "print('Second Iteration')\n",
    "i = iter(my_list1)\n",
    "print(next(i))\n",
    "print(next(i))\n",
    "print(next(i))\n",
    "print(next(i))\n",
    "print(next(i))\n",
    "\n",
    "print('Third Iteration')\n",
    "i = iter(my_list1)\n",
    "print(next(i))\n",
    "print(next(i))\n",
    "print(next(i))\n",
    "print(next(i))\n",
    "print(next(i))"
   ]
  },
  {
   "cell_type": "code",
   "execution_count": null,
   "metadata": {},
   "outputs": [],
   "source": [
    "# Here note that, once we have iterated a container, \n",
    "# if we wish to iterate it again, \n",
    "# we have to obtain an iterator object as a fresh"
   ]
  },
  {
   "cell_type": "code",
   "execution_count": null,
   "metadata": {},
   "outputs": [],
   "source": [
    "# Here One point to remember is that, \n",
    "# Iterable contains __iter__( ), \n",
    "# whereas an iterator contains both __iter__( ) and __next__( ), \n",
    "# we can check it using the hasattr() global function"
   ]
  },
  {
   "cell_type": "code",
   "execution_count": 44,
   "metadata": {},
   "outputs": [
    {
     "name": "stdout",
     "output_type": "stream",
     "text": [
      "True\n",
      "False\n",
      "True\n",
      "False\n",
      "True\n",
      "True\n",
      "True\n",
      "True\n"
     ]
    }
   ],
   "source": [
    "my_string = 'Hello'\n",
    "my_list2 = ['I','Love','Python']\n",
    "print(hasattr(my_string,'__iter__'))  # True\n",
    "print(hasattr(my_string,'__next__'))  # False\n",
    "print(hasattr(my_list2,'__iter__'))   # True\n",
    "print(hasattr(my_list2,'__next__'))   # False\n",
    "\n",
    "i = iter(my_string)\n",
    "j = iter(my_list2)\n",
    "print(hasattr(i,'__iter__'))  # True\n",
    "print(hasattr(i,'__next__'))  # True\n",
    "print(hasattr(j,'__iter__'))  # True\n",
    "print(hasattr(j,'__next__'))  # True"
   ]
  },
  {
   "cell_type": "code",
   "execution_count": 51,
   "metadata": {},
   "outputs": [],
   "source": [
    "x = [1,2,3,4]\n",
    "y = iter(x)\n",
    "\n",
    "z = {324,34,43,434}"
   ]
  },
  {
   "cell_type": "code",
   "execution_count": 52,
   "metadata": {},
   "outputs": [
    {
     "name": "stdout",
     "output_type": "stream",
     "text": [
      "Object is Iterable\n"
     ]
    }
   ],
   "source": [
    "# Iterable Object: str,list,tuple,set,dict\n",
    "# Iterable Object only have __iter__()\n",
    "\n",
    "# Iterator Object can be get from iterable object\n",
    "# Iterator Object having both functions __iter__() and __next__()\n",
    "\n",
    "def check_object_type(obj):\n",
    "    if hasattr(obj,'__iter__')==True and hasattr(obj,'__next__')==False:\n",
    "        print('Object is Iterable')\n",
    "\n",
    "    if hasattr(obj,'__iter__')==True and hasattr(obj,'__next__')==True:\n",
    "        print('Object is Iterator')\n",
    "\n",
    "check_object_type(z)"
   ]
  },
  {
   "cell_type": "markdown",
   "metadata": {},
   "source": [
    "### Generators"
   ]
  },
  {
   "cell_type": "code",
   "execution_count": null,
   "metadata": {},
   "outputs": [],
   "source": [
    "# Generators are very efficient functions that create iterators. \n",
    "# They use yield statement instead of return whenever they wish to return data from the function.\n",
    "# Speciality of a generators is that, it remembers the state of the function and the last statement it had\n",
    "# executed when yield was executed.\n",
    "# So, each time, next() is called, it resumes where it has left off last time.\n",
    "\n",
    "# Generators can be used in place of class-based iterator that we saw in last video.\n",
    "# Generators are very compact because the __iter__(), __next__() and \n",
    "#       StopIteration code is created automatically for them.\n",
    "\n"
   ]
  },
  {
   "cell_type": "code",
   "execution_count": 54,
   "metadata": {},
   "outputs": [
    {
     "name": "stdout",
     "output_type": "stream",
     "text": [
      "[15.0, 25.0, 35.0, 45.0, 55.0]\n",
      "15.0\n",
      "25.0\n",
      "35.0\n",
      "45.0\n",
      "55.0\n"
     ]
    }
   ],
   "source": [
    "# Write a Generator Function which will generate average of a number and next number in given series.\n",
    "\n",
    "def average(data):\n",
    "    for i in range(0,len(data)-1):\n",
    "        yield (data[i]+data[i+1])/2\n",
    "\n",
    "lst = [10,20,30,40,50,60]\n",
    "\n",
    "#avg_list = list(average(lst))\n",
    "#print(avg_list)\n",
    "for avg in average(lst):\n",
    "    print(avg)"
   ]
  },
  {
   "cell_type": "markdown",
   "metadata": {},
   "source": [
    "### Generator Expressions"
   ]
  },
  {
   "cell_type": "code",
   "execution_count": 59,
   "metadata": {},
   "outputs": [
    {
     "name": "stdout",
     "output_type": "stream",
     "text": [
      "98\n"
     ]
    }
   ],
   "source": [
    "# A Generator expression creates a generator on the fly without being required to use the yield statement.\n",
    "# eg. Generate  20 random numbers in the range 10 and 100 and obtain max of it.\n",
    "\n",
    "import random\n",
    "print(max(random.randint(10,100) for n in range(20)))"
   ]
  },
  {
   "cell_type": "code",
   "execution_count": 63,
   "metadata": {},
   "outputs": [
    {
     "name": "stdout",
     "output_type": "stream",
     "text": [
      "36100\n",
      "36100\n",
      "55\n"
     ]
    }
   ],
   "source": [
    "# e.g. print sum of cubes of all numbers less than 20\n",
    "\n",
    "list1 = [n*n*n for n in range(20)]\n",
    "print(sum(list1))\n",
    "\n",
    "print(sum(n*n*n for n in range(20)))\n",
    "\n",
    "# print the sum of numbers from 1 to 10\n",
    "\n",
    "print(sum(n for n in range(11)))"
   ]
  },
  {
   "cell_type": "code",
   "execution_count": null,
   "metadata": {},
   "outputs": [],
   "source": [
    "# Here, point to remember is that, \n",
    "# List Comprehension are enclosed within [ ],\n",
    "# Set Comprehension are enclosed within { },\n",
    "# whereas, generator expression are enclosed within ( )\n",
    "\n",
    "# Since List Comprehension returns the list, it consumes more memory than a generator expression.\n",
    "# Generator expression takes less memory since it generates the next element on demand, rather than \n",
    "#     generating all elements at one time.\n",
    "\n"
   ]
  },
  {
   "cell_type": "code",
   "execution_count": 64,
   "metadata": {},
   "outputs": [
    {
     "name": "stdout",
     "output_type": "stream",
     "text": [
      "[0, 1, 4, 9, 16, 25, 36, 49, 64, 81, 100, 121, 144, 169, 196]\n",
      "<generator object <genexpr> at 0x7fb560f794a0>\n",
      "184\n",
      "112\n"
     ]
    }
   ],
   "source": [
    "import sys\n",
    "lst = [i*i for i in range(15)]\n",
    "gen = (i*i for i in range(15))\n",
    "\n",
    "print(lst)   # Print List\n",
    "print(gen)   # Print the object memory address\n",
    "\n",
    "print(sys.getsizeof(lst))\n",
    "print(sys.getsizeof(gen))"
   ]
  },
  {
   "cell_type": "code",
   "execution_count": 70,
   "metadata": {},
   "outputs": [
    {
     "name": "stdout",
     "output_type": "stream",
     "text": [
      "24\n"
     ]
    }
   ],
   "source": [
    "a = 0\n",
    "print(sys.getsizeof(a))"
   ]
  },
  {
   "cell_type": "code",
   "execution_count": null,
   "metadata": {},
   "outputs": [],
   "source": []
  }
 ],
 "metadata": {
  "kernelspec": {
   "display_name": "Python 3 (ipykernel)",
   "language": "python",
   "name": "python3"
  },
  "language_info": {
   "codemirror_mode": {
    "name": "ipython",
    "version": 3
   },
   "file_extension": ".py",
   "mimetype": "text/x-python",
   "name": "python",
   "nbconvert_exporter": "python",
   "pygments_lexer": "ipython3",
   "version": "3.9.7"
  }
 },
 "nbformat": 4,
 "nbformat_minor": 4
}
