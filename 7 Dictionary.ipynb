{
 "cells": [
  {
   "cell_type": "markdown",
   "metadata": {},
   "source": [
    "# Dictionary Data Type"
   ]
  },
  {
   "cell_type": "markdown",
   "metadata": {},
   "source": [
    "Dictionary is a collection of key-value pairs. Unlike sequence types, they are indexed by keys\n",
    "\n",
    "Dictionaries are also known as maps or associative arrays\n",
    "\n",
    "Keys in a dictionary must be unique and immutable. So strings or tuples can be used as keys as they are immutable."
   ]
  },
  {
   "cell_type": "code",
   "execution_count": 4,
   "metadata": {},
   "outputs": [
    {
     "name": "stdout",
     "output_type": "stream",
     "text": [
      "{}\n",
      "{'A-1': 'Anil', 'A-2': 'Bhushan', 'A-3': 'Ravi'}\n",
      "{'Marks1': 0, 'Marks2': 0, 'Marks3': 0}\n",
      "{'Marks1': 10, 'Marks2': 20, 'Marks3': 30}\n"
     ]
    }
   ],
   "source": [
    "# ways to create dictionary\n",
    "\n",
    "a = {}   # creates empty dictionary\n",
    "b = {'A-1':'Anil','A-2':'Bhushan','A-3':'Ravi'}   # Dictionary with more than one element\n",
    "list1 = ['Marks1','Marks2','Marks3']\n",
    "e = dict.fromkeys(list1,0)     # keys - list items, all values set to 50\n",
    "print(a)\n",
    "print(b)\n",
    "print(e)\n",
    "\n",
    "lst = [0,0,0]\n",
    "lst[0] = 10\n",
    "lst[1] = 20\n",
    "lst[2] = 30\n",
    "\n",
    "e['Marks1'] = 10\n",
    "e['Marks2'] = 20\n",
    "e['Marks3'] = 30\n",
    "print(e)"
   ]
  },
  {
   "cell_type": "code",
   "execution_count": 5,
   "metadata": {},
   "outputs": [
    {
     "name": "stdout",
     "output_type": "stream",
     "text": [
      "{1: 'Apple', 2: 'Oneplus', 3: 'Samsung', 4: 'Sonydfg'}\n"
     ]
    }
   ],
   "source": [
    "# Note here, key values in a dictionary are unique, but different keys may have same values paired with them.\n",
    "\n",
    "d1 = {1:'Apple',2:'Oneplus',3:'Samsung',4:'Sony',4:'Sonydfg'}\n",
    "print(d1)"
   ]
  },
  {
   "cell_type": "markdown",
   "metadata": {},
   "source": [
    "### Accessing Dictionary Elements"
   ]
  },
  {
   "cell_type": "code",
   "execution_count": 6,
   "metadata": {},
   "outputs": [
    {
     "name": "stdout",
     "output_type": "stream",
     "text": [
      "89\n"
     ]
    }
   ],
   "source": [
    "# Dictionary elements can be accessed using key as a index\n",
    "\n",
    "my_result = {'Marathi':67,'English':89,'Social Science':67,'Mathematics':80}\n",
    "\n",
    "print(my_result['English'])   # prints value for key 'English'"
   ]
  },
  {
   "cell_type": "code",
   "execution_count": 7,
   "metadata": {},
   "outputs": [
    {
     "name": "stdout",
     "output_type": "stream",
     "text": [
      "{'Marathi': 67, 'English': 89, 'Social Science': 67, 'Mathematics': 80}\n"
     ]
    }
   ],
   "source": [
    "print(my_result)    # print all key-value pairs"
   ]
  },
  {
   "cell_type": "code",
   "execution_count": 8,
   "metadata": {},
   "outputs": [
    {
     "name": "stdout",
     "output_type": "stream",
     "text": [
      "Marathi 67\n",
      "English 89\n",
      "Social Science 69\n",
      "Mathematics 80\n"
     ]
    }
   ],
   "source": [
    "# Dictionary can be iterated over in three ways\n",
    "\n",
    "my_result = {'Marathi':67,'English':89,'Social Science':69,'Mathematics':80}\n",
    "\n",
    "# iterate over the items\n",
    "\n",
    "for sub,marks in my_result.items():\n",
    "    print(sub,marks)\n"
   ]
  },
  {
   "cell_type": "code",
   "execution_count": 10,
   "metadata": {},
   "outputs": [
    {
     "name": "stdout",
     "output_type": "stream",
     "text": [
      "Marathi\n",
      "English\n",
      "Social Science\n",
      "Mathematics\n"
     ]
    }
   ],
   "source": [
    "# iterate over the keys\n",
    "\n",
    "#for k in my_result:\n",
    "#    print(k)\n",
    "    \n",
    "for k in my_result.keys():\n",
    "    print(k)"
   ]
  },
  {
   "cell_type": "code",
   "execution_count": 11,
   "metadata": {},
   "outputs": [
    {
     "name": "stdout",
     "output_type": "stream",
     "text": [
      "Marathi 67\n",
      "English 89\n",
      "Social Science 69\n",
      "Mathematics 80\n"
     ]
    }
   ],
   "source": [
    "# can be use this keys to get the values\n",
    "for k in my_result.keys():\n",
    "    print(k,my_result[k])"
   ]
  },
  {
   "cell_type": "code",
   "execution_count": 13,
   "metadata": {},
   "outputs": [
    {
     "name": "stdout",
     "output_type": "stream",
     "text": [
      "Total marks =  305\n"
     ]
    }
   ],
   "source": [
    "# iterate over values\n",
    "\n",
    "#for val in my_result.values():\n",
    "#    print(val)\n",
    "\n",
    "\n",
    "total = 0\n",
    "for marks in my_result.values():\n",
    "    total = total + marks\n",
    "print('Total marks = ',total)"
   ]
  },
  {
   "cell_type": "markdown",
   "metadata": {},
   "source": [
    "### Dictionary Operations"
   ]
  },
  {
   "cell_type": "code",
   "execution_count": 14,
   "metadata": {},
   "outputs": [
    {
     "name": "stdout",
     "output_type": "stream",
     "text": [
      "{'Marathi': 67, 'English': 89, 'Social Science': 69, 'Mathematics': 80, 'Computer': 90}\n"
     ]
    }
   ],
   "source": [
    "# Dictionaries are mutable, so we can perform add/delete/modify operations on a dictionary\n",
    "\n",
    "my_result = {'Marathi':67,'English':89,'Social Science':69,'Mathematics':80}\n",
    "\n",
    "## add a new data\n",
    "\n",
    "my_result['Computer']= 90\n",
    "print(my_result)"
   ]
  },
  {
   "cell_type": "code",
   "execution_count": 15,
   "metadata": {},
   "outputs": [
    {
     "name": "stdout",
     "output_type": "stream",
     "text": [
      "{'Marathi': 67, 'English': 89, 'Social Science': 69, 'Mathematics': 100, 'Computer': 90}\n"
     ]
    }
   ],
   "source": [
    "## modify the content or value using key\n",
    "\n",
    "my_result['Mathematics'] = 100\n",
    "print(my_result)"
   ]
  },
  {
   "cell_type": "code",
   "execution_count": 16,
   "metadata": {},
   "outputs": [
    {
     "name": "stdout",
     "output_type": "stream",
     "text": [
      "{'Marathi': 67, 'Social Science': 69, 'Mathematics': 100, 'Computer': 90}\n"
     ]
    }
   ],
   "source": [
    "## delete a key-value pair\n",
    "\n",
    "del(my_result['English'])\n",
    "print(my_result)"
   ]
  },
  {
   "cell_type": "code",
   "execution_count": 17,
   "metadata": {},
   "outputs": [
    {
     "ename": "NameError",
     "evalue": "name 'my_result' is not defined",
     "output_type": "error",
     "traceback": [
      "\u001b[0;31m---------------------------------------------------------------------------\u001b[0m",
      "\u001b[0;31mNameError\u001b[0m                                 Traceback (most recent call last)",
      "\u001b[0;32m<ipython-input-17-f579a3e9995a>\u001b[0m in \u001b[0;36m<module>\u001b[0;34m\u001b[0m\n\u001b[1;32m      2\u001b[0m \u001b[0;34m\u001b[0m\u001b[0m\n\u001b[1;32m      3\u001b[0m \u001b[0;32mdel\u001b[0m\u001b[0;34m(\u001b[0m\u001b[0mmy_result\u001b[0m\u001b[0;34m)\u001b[0m\u001b[0;34m\u001b[0m\u001b[0;34m\u001b[0m\u001b[0m\n\u001b[0;32m----> 4\u001b[0;31m \u001b[0mprint\u001b[0m\u001b[0;34m(\u001b[0m\u001b[0mmy_result\u001b[0m\u001b[0;34m)\u001b[0m\u001b[0;34m\u001b[0m\u001b[0;34m\u001b[0m\u001b[0m\n\u001b[0m",
      "\u001b[0;31mNameError\u001b[0m: name 'my_result' is not defined"
     ]
    }
   ],
   "source": [
    "## delete a dictionary object\n",
    "\n",
    "del(my_result)\n",
    "print(my_result)"
   ]
  },
  {
   "cell_type": "code",
   "execution_count": 18,
   "metadata": {},
   "outputs": [
    {
     "name": "stdout",
     "output_type": "stream",
     "text": [
      "4\n"
     ]
    }
   ],
   "source": [
    "# Common dictionary operations are\n",
    "\n",
    "my_result = {'Marathi':67,'English':89,'Social Science':69,'Mathematics':80}\n",
    "\n",
    "print(len(my_result))    ## return number of key-value pair in dict\n"
   ]
  },
  {
   "cell_type": "code",
   "execution_count": 23,
   "metadata": {},
   "outputs": [
    {
     "name": "stdout",
     "output_type": "stream",
     "text": [
      "Social Science\n"
     ]
    }
   ],
   "source": [
    "print(max(my_result))  ## return maximum key"
   ]
  },
  {
   "cell_type": "code",
   "execution_count": 20,
   "metadata": {},
   "outputs": [
    {
     "name": "stdout",
     "output_type": "stream",
     "text": [
      "89\n"
     ]
    }
   ],
   "source": [
    "print(max(my_result.values()))  ## return maximum element among values"
   ]
  },
  {
   "cell_type": "code",
   "execution_count": 24,
   "metadata": {},
   "outputs": [
    {
     "name": "stdout",
     "output_type": "stream",
     "text": [
      "English\n"
     ]
    }
   ],
   "source": [
    "print(min(my_result))   ## return minimum key"
   ]
  },
  {
   "cell_type": "code",
   "execution_count": 25,
   "metadata": {},
   "outputs": [
    {
     "name": "stdout",
     "output_type": "stream",
     "text": [
      "67\n"
     ]
    }
   ],
   "source": [
    "print(min(my_result.values()))    ## return minimum element among values"
   ]
  },
  {
   "cell_type": "code",
   "execution_count": 31,
   "metadata": {},
   "outputs": [
    {
     "name": "stdout",
     "output_type": "stream",
     "text": [
      "True\n",
      "False\n"
     ]
    }
   ],
   "source": [
    "# Membership Operator  - in\n",
    "my_result = {'Marathi':67,'English':89,'Social Science':69,'Mathematics':80}\n",
    "\n",
    "print('English' in my_result )   ## return True if English key is present in dict\n",
    "print(9 in my_result.values())"
   ]
  },
  {
   "cell_type": "code",
   "execution_count": 28,
   "metadata": {},
   "outputs": [
    {
     "data": {
      "text/plain": [
       "True"
      ]
     },
     "execution_count": 28,
     "metadata": {},
     "output_type": "execute_result"
    }
   ],
   "source": [
    "'Computer' not in my_result    ## return True if Computer key is not present in dict"
   ]
  },
  {
   "cell_type": "code",
   "execution_count": 32,
   "metadata": {},
   "outputs": [
    {
     "name": "stdout",
     "output_type": "stream",
     "text": [
      "['Marathi', 'English', 'Social Science', 'Mathematics']\n"
     ]
    }
   ],
   "source": [
    "# To Obtain all keys in list\n",
    "my_result = {'Marathi':67,'English':89,'Social Science':69,'Mathematics':80}\n",
    "\n",
    "#subject = list(my_result)\n",
    "subject = list(my_result.keys())\n",
    "\n",
    "print(subject)"
   ]
  },
  {
   "cell_type": "code",
   "execution_count": 34,
   "metadata": {},
   "outputs": [
    {
     "name": "stdout",
     "output_type": "stream",
     "text": [
      "[67, 89, 69, 80]\n",
      "Total Marks =  305\n"
     ]
    }
   ],
   "source": [
    "# To Obtain all values in list\n",
    "\n",
    "marks = list(my_result.values())\n",
    "\n",
    "print(marks)\n",
    "\n",
    "print(\"Total Marks = \",sum(marks))"
   ]
  },
  {
   "cell_type": "code",
   "execution_count": 37,
   "metadata": {},
   "outputs": [
    {
     "name": "stdout",
     "output_type": "stream",
     "text": [
      "['Social Science', 'Mathematics', 'Marathi', 'English']\n",
      "[89, 80, 69, 67]\n"
     ]
    }
   ],
   "source": [
    "# To Obtain sorted list of keys\n",
    "\n",
    "sorted_subjects = sorted(my_result.keys(),reverse=True)\n",
    "sorted_marks = sorted(my_result.values(),reverse=True)\n",
    "\n",
    "print(sorted_subjects)\n",
    "print(sorted_marks)"
   ]
  },
  {
   "cell_type": "markdown",
   "metadata": {},
   "source": [
    "### Dictionary Methods"
   ]
  },
  {
   "cell_type": "code",
   "execution_count": 38,
   "metadata": {},
   "outputs": [
    {
     "name": "stdout",
     "output_type": "stream",
     "text": [
      "{}\n"
     ]
    }
   ],
   "source": [
    "# There are many dictionary methods. \n",
    "# Many of the operations performed by them can also be performed using built-in functions.\n",
    "my_result = {'Marathi':67,'English':89,'Social Science':69,'Mathematics':80}\n",
    "\n",
    "my_result.clear()     ## clears all dictionary entries\n",
    "\n",
    "print(my_result)"
   ]
  },
  {
   "cell_type": "code",
   "execution_count": 39,
   "metadata": {},
   "outputs": [
    {
     "name": "stdout",
     "output_type": "stream",
     "text": [
      "{'Marathi': 67, 'English': 89, 'Social Science': 69, 'Mathematics': 80, 'Computer': 90, 'Science-I': 88}\n"
     ]
    }
   ],
   "source": [
    "my_result = {'Marathi':67,'English':89,'Social Science':69,'Mathematics':80}\n",
    "d = {'Computer':90,'Science-I':88}\n",
    "\n",
    "my_result.update(d)    ## adds dictionary entries in dictionary d to dictionary my_result\n",
    "\n",
    "print(my_result)"
   ]
  },
  {
   "cell_type": "markdown",
   "metadata": {},
   "source": [
    "### Nested Dictionary"
   ]
  },
  {
   "cell_type": "code",
   "execution_count": 41,
   "metadata": {},
   "outputs": [
    {
     "name": "stdout",
     "output_type": "stream",
     "text": [
      "{'Anil': {'Roll No': 1, 'Age': 19, 'Marks': 78.9}, 'Sunil': {'Roll No': 2, 'Age': 20, 'Marks': 80.45}, 'John': {'Roll No': 3, 'Age': 18, 'Marks': 70.0}}\n",
      "3\n",
      "{'Roll No': 1, 'Age': 19, 'Marks': 78.9}\n"
     ]
    }
   ],
   "source": [
    "classroom = {\n",
    "    'Anil':{'Roll No':1,'Age':19,'Marks':78.90},\n",
    "    'Sunil':{'Roll No':2,'Age':20,'Marks':80.45},\n",
    "    'John':{'Roll No':3,'Age':18,'Marks':70.00}\n",
    "}\n",
    "\n",
    "## We can store the Dictionary in the Dictionary also\n",
    "print(classroom)\n",
    "print(len(classroom))\n",
    "print(classroom['Anil'])"
   ]
  },
  {
   "cell_type": "code",
   "execution_count": 42,
   "metadata": {},
   "outputs": [
    {
     "name": "stdout",
     "output_type": "stream",
     "text": [
      "80.45\n"
     ]
    }
   ],
   "source": [
    "# Write a code to get the Age of Sunil from the above dictionary\n",
    "print(classroom['Sunil']['Marks'])"
   ]
  },
  {
   "cell_type": "markdown",
   "metadata": {},
   "source": [
    "# BEST OF LUCK"
   ]
  },
  {
   "cell_type": "code",
   "execution_count": 48,
   "metadata": {},
   "outputs": [
    {
     "name": "stdout",
     "output_type": "stream",
     "text": [
      "<class 'list'>\n",
      "16\n"
     ]
    }
   ],
   "source": [
    "# WAP to get 16\n",
    "cls = {\n",
    "    '2':[2,4,6,8,10],\n",
    "    '3':[3,6,9,12,15],\n",
    "    '4':[4,8,12,16,20]\n",
    "}\n",
    "\n",
    "print(type(cls['4']))\n",
    "print(cls['4'][3])"
   ]
  },
  {
   "cell_type": "code",
   "execution_count": 50,
   "metadata": {},
   "outputs": [
    {
     "name": "stdout",
     "output_type": "stream",
     "text": [
      "[87, 59, 16, 12]\n"
     ]
    }
   ],
   "source": [
    "# WAP to print list of sorted values\n",
    "d1 = {'a1':59,'a2':16,'a5':87,'a3':12}\n",
    "\n",
    "sorted_values = sorted(d1.values(),reverse=True)\n",
    "\n",
    "print(sorted_values)"
   ]
  },
  {
   "cell_type": "code",
   "execution_count": null,
   "metadata": {},
   "outputs": [],
   "source": []
  }
 ],
 "metadata": {
  "kernelspec": {
   "display_name": "Python 3",
   "language": "python",
   "name": "python3"
  },
  "language_info": {
   "codemirror_mode": {
    "name": "ipython",
    "version": 3
   },
   "file_extension": ".py",
   "mimetype": "text/x-python",
   "name": "python",
   "nbconvert_exporter": "python",
   "pygments_lexer": "ipython3",
   "version": "3.8.8"
  }
 },
 "nbformat": 4,
 "nbformat_minor": 4
}
