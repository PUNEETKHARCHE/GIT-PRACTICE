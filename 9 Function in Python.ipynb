{
 "cells": [
  {
   "cell_type": "markdown",
   "metadata": {},
   "source": [
    "# Python Functions"
   ]
  },
  {
   "cell_type": "markdown",
   "metadata": {},
   "source": [
    "Python Function is a block of code that performs a sepcific and well-defined task.\n",
    "\n",
    "Advantages of Functions:\n",
    "> They help us divide out program into multiple tasks. For each task, we can define a function. This makes the code modular\n",
    "\n",
    "> Functions provide a reuse mechanism. The same function can be called any number of times."
   ]
  },
  {
   "cell_type": "markdown",
   "metadata": {},
   "source": [
    " There are two types of Python Functions:\n",
    " > Built-in Functions\n",
    " \n",
    " > User defined Functions"
   ]
  },
  {
   "cell_type": "markdown",
   "metadata": {},
   "source": [
    "### When a function is called, control is transferred to the function, its statements are executed and control is returned to the place from where the call originated or initiated."
   ]
  },
  {
   "cell_type": "code",
   "execution_count": 105,
   "metadata": {},
   "outputs": [],
   "source": [
    "# Function example\n",
    "def display(num):\n",
    "    print(type(num))\n",
    "    print('You have passed:: ', num)\n",
    "    \n",
    "# above code is the example of function defination"
   ]
  },
  {
   "cell_type": "code",
   "execution_count": 11,
   "metadata": {},
   "outputs": [
    {
     "name": "stdout",
     "output_type": "stream",
     "text": [
      "<class 'int'>\n",
      "You have passed::  56\n",
      "None\n"
     ]
    }
   ],
   "source": [
    "\n",
    "val = display(56)\n",
    "\n",
    "print(val)\n",
    "\n",
    "#if Function is not returned any value, Default return type is None"
   ]
  },
  {
   "cell_type": "code",
   "execution_count": 17,
   "metadata": {},
   "outputs": [],
   "source": [
    "# Empty Function\n",
    "def fun1():\n",
    "    pass\n",
    "    \n",
    "fun1()"
   ]
  },
  {
   "cell_type": "code",
   "execution_count": 12,
   "metadata": {},
   "outputs": [],
   "source": [
    "# Function with return value\n",
    "def cal_sum(x,y,z):\n",
    "    return x+y+z\n",
    "\n",
    "# return statement return control and value from a function. return without an expression returns none"
   ]
  },
  {
   "cell_type": "code",
   "execution_count": 14,
   "metadata": {},
   "outputs": [
    {
     "name": "stdout",
     "output_type": "stream",
     "text": [
      "Sum is  56\n"
     ]
    }
   ],
   "source": [
    "sum = cal_sum(12,34,10)\n",
    "\n",
    "print('Sum is ',sum)"
   ]
  },
  {
   "cell_type": "code",
   "execution_count": 23,
   "metadata": {},
   "outputs": [
    {
     "name": "stdout",
     "output_type": "stream",
     "text": [
      "15 50\n"
     ]
    }
   ],
   "source": [
    "# To return multiple values from a function, we can put them into a list/tuple/set/dictionary and then return it.\n",
    "\n",
    "def cal_sum_mul(x,y):\n",
    "    add = x+y\n",
    "    mul = x*y\n",
    "    return add,mul  # return as tuple\n",
    "\n",
    "a = 10\n",
    "b = 5\n",
    "add,multi = cal_sum_mul(a,b)\n",
    "print(add,multi)\n",
    "\n",
    "#addition,multi = cal_sum_mul(a,b)\n",
    "# addition,multi = (add,mul)\n",
    "\n",
    "#print(\"Addition = {}, Multiplication = {}\".format(addition,multi))"
   ]
  },
  {
   "cell_type": "code",
   "execution_count": null,
   "metadata": {},
   "outputs": [],
   "source": [
    "# IMP: If function is not having return statement, then that function return value is None"
   ]
  },
  {
   "cell_type": "markdown",
   "metadata": {},
   "source": [
    "## Types of Arguments"
   ]
  },
  {
   "cell_type": "code",
   "execution_count": null,
   "metadata": {},
   "outputs": [],
   "source": [
    "# Arguments in a Python function can be of 4 types:\n",
    "# a) Positional arguments\n",
    "# b) Keyword arguments\n",
    "# c) Variable-length positional arguments\n",
    "# d) Variable-length keyword arguments\n",
    "\n",
    "# Positional and keyword arguments are often called 'required' arguments, \n",
    "# whereas, variable-lenght arguments are called 'Optional' arguments"
   ]
  },
  {
   "cell_type": "code",
   "execution_count": 29,
   "metadata": {},
   "outputs": [
    {
     "name": "stdout",
     "output_type": "stream",
     "text": [
      "Name :  Nirav\n",
      "Age  :  24\n",
      "Marks:  67.55\n"
     ]
    }
   ],
   "source": [
    "# Positional arguments must be passed in correct positional order.\n",
    "# e.g\n",
    "\n",
    "def display_info(name,age,marks):  # arguments must be in order string, int, float\n",
    "    print('Name : ',name)\n",
    "    print(\"Age  : \", age)\n",
    "    print(\"Marks: \",marks)\n",
    "\n",
    "display_info('Nirav',24,67.55)"
   ]
  },
  {
   "cell_type": "code",
   "execution_count": 30,
   "metadata": {},
   "outputs": [
    {
     "name": "stdout",
     "output_type": "stream",
     "text": [
      "Name :  24\n",
      "Age  :  Nirav\n",
      "Marks:  57.55\n"
     ]
    }
   ],
   "source": [
    "display_info(24,'Nirav',57.55)   # Here order is not matched, so it generates the error."
   ]
  },
  {
   "cell_type": "code",
   "execution_count": 31,
   "metadata": {},
   "outputs": [
    {
     "ename": "TypeError",
     "evalue": "display_info() missing 1 required positional argument: 'marks'",
     "output_type": "error",
     "traceback": [
      "\u001b[0;31m---------------------------------------------------------------------------\u001b[0m",
      "\u001b[0;31mTypeError\u001b[0m                                 Traceback (most recent call last)",
      "\u001b[0;32m<ipython-input-31-c615f7a9696b>\u001b[0m in \u001b[0;36m<module>\u001b[0;34m\u001b[0m\n\u001b[1;32m      1\u001b[0m \u001b[0;31m# VIMP: While passing positional arguments, number of arguments\u001b[0m\u001b[0;34m\u001b[0m\u001b[0;34m\u001b[0m\u001b[0;34m\u001b[0m\u001b[0m\n\u001b[1;32m      2\u001b[0m \u001b[0;31m# passed must match with mumber of arguments received.\u001b[0m\u001b[0;34m\u001b[0m\u001b[0;34m\u001b[0m\u001b[0;34m\u001b[0m\u001b[0m\n\u001b[0;32m----> 3\u001b[0;31m \u001b[0mdisplay_info\u001b[0m\u001b[0;34m(\u001b[0m\u001b[0;34m'Nirav'\u001b[0m\u001b[0;34m,\u001b[0m\u001b[0;36m45\u001b[0m\u001b[0;34m)\u001b[0m\u001b[0;34m\u001b[0m\u001b[0;34m\u001b[0m\u001b[0m\n\u001b[0m",
      "\u001b[0;31mTypeError\u001b[0m: display_info() missing 1 required positional argument: 'marks'"
     ]
    }
   ],
   "source": [
    "# VIMP: While passing positional arguments, number of arguments \n",
    "# passed must match with mumber of arguments received.\n",
    "display_info('Nirav',45)"
   ]
  },
  {
   "cell_type": "code",
   "execution_count": 32,
   "metadata": {},
   "outputs": [
    {
     "name": "stdout",
     "output_type": "stream",
     "text": [
      "Name :  NIRAV\n",
      "Age  :  24\n",
      "Marks:  67.55\n"
     ]
    }
   ],
   "source": [
    "# Keyword arguments can be passed out of order. \n",
    "# Python interperter uses keywords (variable names) to match the values\n",
    "# passed with the arguments used in the function definition.\n",
    "\n",
    "def display_info(name,age,marks):  # arguments must be in order string, int, float\n",
    "    print('Name : ',name.upper())\n",
    "    print(\"Age  : \", age)\n",
    "    print(\"Marks: \",marks)\n",
    "\n",
    "display_info(name='Nirav',age=24,marks=67.55)"
   ]
  },
  {
   "cell_type": "code",
   "execution_count": 33,
   "metadata": {},
   "outputs": [
    {
     "name": "stdout",
     "output_type": "stream",
     "text": [
      "Name :  NIRAV\n",
      "Age  :  24\n",
      "Marks:  67.55\n"
     ]
    }
   ],
   "source": [
    "# we can change the order of arguments while calling the function if we use the keyword arguments\n",
    "display_info(age=24,marks=67.55,name='Nirav')"
   ]
  },
  {
   "cell_type": "code",
   "execution_count": 39,
   "metadata": {},
   "outputs": [
    {
     "name": "stdout",
     "output_type": "stream",
     "text": [
      "Ganesh Attarde\n"
     ]
    }
   ],
   "source": [
    "def print_name(firstname,surname):\n",
    "    print(firstname,surname)\n",
    "\n",
    "f = 'Ganesh'\n",
    "s = 'Attarde'\n",
    "print_name(firstname = f,surname = s)"
   ]
  },
  {
   "cell_type": "code",
   "execution_count": 43,
   "metadata": {},
   "outputs": [
    {
     "name": "stdout",
     "output_type": "stream",
     "text": [
      "Name :  NIRAV\n",
      "Age  :  45\n",
      "Marks:  68.67\n"
     ]
    }
   ],
   "source": [
    "# we can combine positional arguments and keywords arguments\n",
    "\n",
    "display_info('Nirav', marks=68.67, age=45)\n",
    "    "
   ]
  },
  {
   "cell_type": "code",
   "execution_count": 41,
   "metadata": {},
   "outputs": [
    {
     "ename": "SyntaxError",
     "evalue": "positional argument follows keyword argument (<ipython-input-41-481e529e543f>, line 3)",
     "output_type": "error",
     "traceback": [
      "\u001b[0;36m  File \u001b[0;32m\"<ipython-input-41-481e529e543f>\"\u001b[0;36m, line \u001b[0;32m3\u001b[0m\n\u001b[0;31m    display_info(name='Nirav',marks=68.67,45)\u001b[0m\n\u001b[0m                                          ^\u001b[0m\n\u001b[0;31mSyntaxError\u001b[0m\u001b[0;31m:\u001b[0m positional argument follows keyword argument\n"
     ]
    }
   ],
   "source": [
    "# But Postional arguments must precede keyword arguments, if not, then it report the error\n",
    "\n",
    "display_info(name='Nirav',marks=68.67,45)"
   ]
  },
  {
   "cell_type": "markdown",
   "metadata": {},
   "source": [
    "## Multi-arguments function"
   ]
  },
  {
   "cell_type": "code",
   "execution_count": 49,
   "metadata": {},
   "outputs": [
    {
     "name": "stdout",
     "output_type": "stream",
     "text": [
      "<class 'tuple'>\n",
      "1\n"
     ]
    }
   ],
   "source": [
    "# sometimes number of positional arguments to be passed to a function is not certain.\n",
    "# In such cases, variable length positional arguments can be received using *args\n",
    "\n",
    "def print_numbers(*args):\n",
    "    print(type(args))\n",
    "    for var in args:\n",
    "        print(var)\n",
    "\n",
    "print_numbers(1)\n",
    "\n",
    "# Here args used in the definition of print_numbers() is a tuple. \n",
    "# * indicates that it will hold all the arguments passed to function.\n",
    "# The tuple can be iterated through using a for loop"
   ]
  },
  {
   "cell_type": "code",
   "execution_count": null,
   "metadata": {},
   "outputs": [],
   "source": [
    "print_numbers(1,2,3)"
   ]
  },
  {
   "cell_type": "code",
   "execution_count": null,
   "metadata": {},
   "outputs": [],
   "source": [
    "print_numbers(1,2,3,4,5)"
   ]
  },
  {
   "cell_type": "code",
   "execution_count": 50,
   "metadata": {},
   "outputs": [
    {
     "name": "stdout",
     "output_type": "stream",
     "text": [
      "<class 'tuple'>\n",
      "1\n",
      "2\n",
      "3\n",
      "Hello\n",
      "Good Morning\n"
     ]
    }
   ],
   "source": [
    "print_numbers(1,2,3,'Hello','Good Morning')"
   ]
  },
  {
   "cell_type": "code",
   "execution_count": 52,
   "metadata": {},
   "outputs": [
    {
     "name": "stdout",
     "output_type": "stream",
     "text": [
      "Addition =  276\n"
     ]
    }
   ],
   "source": [
    "# Function to calculate addition of the arguments\n",
    "\n",
    "def addition(*args):\n",
    "    total = 0\n",
    "    for n in args:\n",
    "        total = total + int(n)\n",
    "    return total\n",
    "\n",
    "res = addition(15,2,65,23,87,34,45,5)\n",
    "print(\"Addition = \",res)"
   ]
  },
  {
   "cell_type": "code",
   "execution_count": 57,
   "metadata": {},
   "outputs": [],
   "source": [
    "# Sometimes number of keyword arguments to be passed to a function is not certain. \n",
    "# In such cases, variable-length keyword arguments can be received using **kwargs\n",
    "\n",
    "def print_info(**kwargs):\n",
    "    print(\"Length of arg = \",len(kwargs))\n",
    "    for arg,value in kwargs.items():\n",
    "        print(arg,value)\n",
    "        \n",
    "## kwargs used in definition of above funtion is a dictionary containing argument names as keys and their values as values.\n"
   ]
  },
  {
   "cell_type": "code",
   "execution_count": 54,
   "metadata": {},
   "outputs": [
    {
     "name": "stdout",
     "output_type": "stream",
     "text": [
      "Length of arg =  2\n",
      "name Nirav\n",
      "age 24\n"
     ]
    }
   ],
   "source": [
    "print_info(name='Nirav',age=24)"
   ]
  },
  {
   "cell_type": "code",
   "execution_count": 55,
   "metadata": {},
   "outputs": [
    {
     "name": "stdout",
     "output_type": "stream",
     "text": [
      "Length of arg =  4\n",
      "name Nirav\n",
      "marks 45.66\n",
      "mobile 9890334455\n",
      "age 24\n"
     ]
    }
   ],
   "source": [
    "print_info(name='Nirav',marks=45.66,mobile=9890334455,age=24)"
   ]
  },
  {
   "cell_type": "code",
   "execution_count": null,
   "metadata": {},
   "outputs": [],
   "source": [
    "## VVIMP => we can use any other names in place of args and kwargs.\n",
    "## we cannnot use more than one args and more than one kwargs while defining a function"
   ]
  },
  {
   "cell_type": "code",
   "execution_count": 63,
   "metadata": {},
   "outputs": [],
   "source": [
    "# If the function is to receive required as well as optional arguments then they must occur in following order\n",
    "\n",
    "# 1. positional arguments\n",
    "# 2. variable-length positional arguments\n",
    "# 3. keyword arguments\n",
    "# 4. variable-length keyword arguments\n",
    "\n",
    "def print_info(i,j,*args,x,y,**kwargs):\n",
    "    \n",
    "    print(\"Positional Arguments: \",i,j)\n",
    "    print(\"Varibale Length postional Arguments: \",end=\"\")\n",
    "    for var in args:\n",
    "        print(var,end=' ')\n",
    "    print()\n",
    "    print('Keyword Arguments: ',x,y)\n",
    "    print('Varibale Length keyword Arguments: ',end=\"\")\n",
    "    for name,val in kwargs.items():\n",
    "        print(name,val,end=' ')"
   ]
  },
  {
   "cell_type": "code",
   "execution_count": 64,
   "metadata": {},
   "outputs": [
    {
     "name": "stdout",
     "output_type": "stream",
     "text": [
      "Positional Arguments:  10 20\n",
      "Varibale Length postional Arguments: \n",
      "Keyword Arguments:  30 40\n",
      "Varibale Length keyword Arguments: "
     ]
    }
   ],
   "source": [
    "print_info(10,20,x=30,y=40)  # Here no use of variable length args"
   ]
  },
  {
   "cell_type": "code",
   "execution_count": 67,
   "metadata": {},
   "outputs": [
    {
     "name": "stdout",
     "output_type": "stream",
     "text": [
      "Positional Arguments:  10 20\n",
      "Varibale Length postional Arguments: 100 200 300 \n",
      "Keyword Arguments:  30 40\n",
      "Varibale Length keyword Arguments: "
     ]
    }
   ],
   "source": [
    "print_info(10,20,100,200,300,x=30,y=40)  # Here no use of variable length keyword argumets"
   ]
  },
  {
   "cell_type": "code",
   "execution_count": 68,
   "metadata": {},
   "outputs": [
    {
     "name": "stdout",
     "output_type": "stream",
     "text": [
      "Positional Arguments:  10 20\n",
      "Varibale Length postional Arguments: 100 200 300 \n",
      "Keyword Arguments:  30 40\n",
      "Varibale Length keyword Arguments: a 1000 b 2000 c 3000 "
     ]
    }
   ],
   "source": [
    "print_info(10,20,100,200,300,x=30,y=40,a=1000,b=2000,c=3000)  # all types of argumets used"
   ]
  },
  {
   "cell_type": "code",
   "execution_count": 70,
   "metadata": {},
   "outputs": [
    {
     "ename": "SyntaxError",
     "evalue": "positional argument follows keyword argument (<ipython-input-70-860a687999f0>, line 2)",
     "output_type": "error",
     "traceback": [
      "\u001b[0;36m  File \u001b[0;32m\"<ipython-input-70-860a687999f0>\"\u001b[0;36m, line \u001b[0;32m2\u001b[0m\n\u001b[0;31m    print_info(y=100,x=200,10,20)\u001b[0m\n\u001b[0m                           ^\u001b[0m\n\u001b[0;31mSyntaxError\u001b[0m\u001b[0;31m:\u001b[0m positional argument follows keyword argument\n"
     ]
    }
   ],
   "source": [
    "# But if we call the function as\n",
    "print_info(10,20,y=100,x=200)\n",
    "\n",
    "# then it generates the error"
   ]
  },
  {
   "cell_type": "markdown",
   "metadata": {},
   "source": [
    "## Default argumets"
   ]
  },
  {
   "cell_type": "code",
   "execution_count": 71,
   "metadata": {},
   "outputs": [
    {
     "name": "stdout",
     "output_type": "stream",
     "text": [
      "314.0\n"
     ]
    }
   ],
   "source": [
    "# while defining a function, default value can be given to arguments.\n",
    "# Default value will be used if we do not pass the value for that arguments during the function call.\n",
    "\n",
    "def area_circle(r,pi=3.14):\n",
    "    return pi*r*r\n",
    "\n",
    "print(area_circle(10))   # default value of pi is used if not given during the function call"
   ]
  },
  {
   "cell_type": "code",
   "execution_count": 72,
   "metadata": {},
   "outputs": [
    {
     "name": "stdout",
     "output_type": "stream",
     "text": [
      "314.66999999999996\n"
     ]
    }
   ],
   "source": [
    "print(area_circle(10,3.1467)) # value of pi is given at the time of function call, so default value not being used"
   ]
  },
  {
   "cell_type": "code",
   "execution_count": null,
   "metadata": {},
   "outputs": [],
   "source": [
    "# IMP: Note that, while defining a function default arguments must follow non default arguments\n",
    "# see the above example"
   ]
  },
  {
   "cell_type": "code",
   "execution_count": 73,
   "metadata": {},
   "outputs": [
    {
     "ename": "SyntaxError",
     "evalue": "non-default argument follows default argument (<ipython-input-73-70a330d53610>, line 2)",
     "output_type": "error",
     "traceback": [
      "\u001b[0;36m  File \u001b[0;32m\"<ipython-input-73-70a330d53610>\"\u001b[0;36m, line \u001b[0;32m2\u001b[0m\n\u001b[0;31m    def area_circle(pi=3.14,r):  # Here default arguments comes first, so it report the error\u001b[0m\n\u001b[0m                    ^\u001b[0m\n\u001b[0;31mSyntaxError\u001b[0m\u001b[0;31m:\u001b[0m non-default argument follows default argument\n"
     ]
    }
   ],
   "source": [
    "# if not follow the rule,\n",
    "def area_circle(pi=3.14,r):  # Here default arguments comes first, so it report the error\n",
    "    return pi*r*r"
   ]
  },
  {
   "cell_type": "code",
   "execution_count": 87,
   "metadata": {},
   "outputs": [
    {
     "name": "stdout",
     "output_type": "stream",
     "text": [
      "17\n",
      "Ganesh Attarde\n"
     ]
    }
   ],
   "source": [
    "# Write a function which calculate addition\n",
    "def addition(x,y=0,z=0,w=0):\n",
    "    return x+y+z+w\n",
    "\n",
    "print(addition(4,w=5,y=8))\n",
    "\n",
    "print('Ganesh',end=' ')\n",
    "print('Attarde')"
   ]
  },
  {
   "cell_type": "code",
   "execution_count": null,
   "metadata": {},
   "outputs": [],
   "source": [
    "fullname = ['Ganesh','Liladhar','Attarde']\n",
    "print(*fullname)\n"
   ]
  },
  {
   "cell_type": "markdown",
   "metadata": {},
   "source": [
    "## Unpacking the arguments"
   ]
  },
  {
   "cell_type": "code",
   "execution_count": 97,
   "metadata": {},
   "outputs": [
    {
     "name": "stdout",
     "output_type": "stream",
     "text": [
      "25\n",
      "15\n",
      "150\n",
      "15\n"
     ]
    }
   ],
   "source": [
    "# Suppose a function is expecting postional arguments and the arguments to be passed are in a list or tuple.\n",
    "# In such a case we need to unpack the list or tuple using * operator before passsing it to the function\n",
    "\n",
    "def print_addition(a,b,c,d,e):\n",
    "    print(a+b+c+d+e)\n",
    "\n",
    "print_addition(3,4,5,6,7)\n",
    "\n",
    "\n",
    "list1 = [1,2,3,4,5]\n",
    "tpl = (10,20,30,40,50)\n",
    "s = {1,2,3,4,5}\n",
    "\n",
    "print_addition(*list1)\n",
    "print_addition(*tpl)\n",
    "print_addition(*s)"
   ]
  },
  {
   "cell_type": "code",
   "execution_count": 95,
   "metadata": {},
   "outputs": [
    {
     "name": "stdout",
     "output_type": "stream",
     "text": [
      "Enter your MessageI Love me and India\n",
      "Input 3 words message only\n"
     ]
    }
   ],
   "source": [
    "def print_msg(a,b,c):\n",
    "    print(a,b,c)\n",
    "\n",
    "data = input('Enter your Message').split()\n",
    "\n",
    "if len(data)==3:\n",
    "    print_msg(*data)\n",
    "else:\n",
    "    print('Input 3 words message only')"
   ]
  },
  {
   "cell_type": "code",
   "execution_count": 96,
   "metadata": {},
   "outputs": [
    {
     "name": "stdout",
     "output_type": "stream",
     "text": [
      "Name :  JOHN\n",
      "Age  :  35\n",
      "Marks:  45.67\n"
     ]
    }
   ],
   "source": [
    "## Suppose a function is expecting keyword arguments and the arguments to be passed are in a dictionary.\n",
    "# In such case, we need to unpack the dictionary using ** operator before passing it to the function\n",
    "\n",
    "def display_info(name,age,marks):  # arguments must be in order string, int, float\n",
    "    print('Name : ',name.upper())\n",
    "    print(\"Age  : \", age)\n",
    "    print(\"Marks: \",marks)\n",
    "    \n",
    "d = {'name':'John','age':35,'marks':45.67}\n",
    "\n",
    "display_info(**d)"
   ]
  },
  {
   "cell_type": "markdown",
   "metadata": {},
   "source": [
    "# BEST OF LUCK\n"
   ]
  },
  {
   "cell_type": "code",
   "execution_count": 98,
   "metadata": {},
   "outputs": [
    {
     "name": "stdout",
     "output_type": "stream",
     "text": [
      "Enter any number:: 5\n",
      "Factorial of  5 is 120\n"
     ]
    }
   ],
   "source": [
    "# WA function to calculate the factorial value of a given number\n",
    "import math\n",
    "def fact(n):\n",
    "    return math.factorial(n)\n",
    "\n",
    "n = int(input('Enter any number:: '))\n",
    "f = fact(n)\n",
    "print(\"Factorial of \",n,'is',f)"
   ]
  },
  {
   "cell_type": "code",
   "execution_count": 99,
   "metadata": {},
   "outputs": [
    {
     "name": "stdout",
     "output_type": "stream",
     "text": [
      "Enter your Name:: ganesh\n",
      "GANESH\n"
     ]
    }
   ],
   "source": [
    "# if user inputs any string, convert that string in capitals\n",
    "def convert(str):\n",
    "    return str.upper()\n",
    "\n",
    "name = input(\"Enter your Name:: \")\n",
    "name = convert(name)\n",
    "print(name)"
   ]
  },
  {
   "cell_type": "code",
   "execution_count": 101,
   "metadata": {},
   "outputs": [
    {
     "name": "stdout",
     "output_type": "stream",
     "text": [
      "Please Enter a Year\n",
      "Enter any Year:: 2020\n",
      "Leap Year\n"
     ]
    }
   ],
   "source": [
    "# WA function to check given year is leap or not\n",
    "\n",
    "def check_leap(year=0):\n",
    "    if(year==0):\n",
    "        print(\"Please Enter a Year\")\n",
    "        return\n",
    "    if(year%4==0):\n",
    "        return True\n",
    "    else:\n",
    "        return False\n",
    "\n",
    "check_leap()\n",
    "y = int(input(\"Enter any Year:: \"))\n",
    "if(check_leap(y)==True):\n",
    "    print(\"Leap Year\")\n",
    "elif(check_leap(y)==False):\n",
    "    print(\"Not Leap Year\")"
   ]
  },
  {
   "cell_type": "code",
   "execution_count": 104,
   "metadata": {},
   "outputs": [
    {
     "name": "stdout",
     "output_type": "stream",
     "text": [
      "Enter a character: A\n",
      "Ascii value of A = 65\n"
     ]
    }
   ],
   "source": [
    "ch = input('Enter a character: ')\n",
    "print('Ascii value of %s = %d'%(ch,ord(ch)))"
   ]
  },
  {
   "cell_type": "code",
   "execution_count": null,
   "metadata": {},
   "outputs": [],
   "source": []
  }
 ],
 "metadata": {
  "kernelspec": {
   "display_name": "Python 3",
   "language": "python",
   "name": "python3"
  },
  "language_info": {
   "codemirror_mode": {
    "name": "ipython",
    "version": 3
   },
   "file_extension": ".py",
   "mimetype": "text/x-python",
   "name": "python",
   "nbconvert_exporter": "python",
   "pygments_lexer": "ipython3",
   "version": "3.8.8"
  }
 },
 "nbformat": 4,
 "nbformat_minor": 4
}
